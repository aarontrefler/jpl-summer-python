{
 "cells": [
  {
   "cell_type": "markdown",
   "metadata": {},
   "source": [
    "# Flood  - Calculate - Low Resolution Features\n",
    "\n",
    "<h3> \n",
    "Aaron Trefler <br/>\n",
    "JPL <br/>\n",
    "Created: 07/11/2016 <br/>\n",
    "</h3>"
   ]
  },
  {
   "cell_type": "markdown",
   "metadata": {},
   "source": [
    "# I. Setup"
   ]
  },
  {
   "cell_type": "code",
   "execution_count": 8,
   "metadata": {
    "collapsed": false
   },
   "outputs": [
    {
     "name": "stdout",
     "output_type": "stream",
     "text": [
      "The autoreload extension is already loaded. To reload it, use:\n",
      "  %reload_ext autoreload\n"
     ]
    }
   ],
   "source": [
    "%load_ext autoreload\n",
    "%autoreload 2"
   ]
  },
  {
   "cell_type": "code",
   "execution_count": 9,
   "metadata": {
    "collapsed": false,
    "scrolled": true
   },
   "outputs": [],
   "source": [
    "import datetime as dt\n",
    "import matplotlib.pyplot as plt\n",
    "import numpy as np\n",
    "import pandas as pd\n",
    "import pickle\n",
    "import scipy.io as sio\n",
    "\n",
    "from flood_functions import grace_brick_convert_lowres \n",
    "from flood_functions import calculate_confusion_matrix_bricks\n",
    "from flood_functions import calculate_ml_metric_maps\n",
    "from IPython.display import display, HTML\n",
    "from sklearn import datasets\n",
    "from sklearn.linear_model import LogisticRegression\n",
    "from sklearn.metrics import accuracy_score, classification_report"
   ]
  },
  {
   "cell_type": "code",
   "execution_count": 10,
   "metadata": {
    "collapsed": false
   },
   "outputs": [
    {
     "name": "stdout",
     "output_type": "stream",
     "text": [
      "Using matplotlib backend: MacOSX\n"
     ]
    }
   ],
   "source": [
    "#%pylab inline\n",
    "%matplotlib"
   ]
  },
  {
   "cell_type": "code",
   "execution_count": 11,
   "metadata": {
    "collapsed": true
   },
   "outputs": [],
   "source": [
    "# define directories\n",
    "dir_flood = '../../Raw Data/Flood Observatory/'\n",
    "dir_python_data = '../Data/'\n",
    "dir_grace = '../../Work_Matlab/Data/'\n",
    "dir_figures = '../Figures/'"
   ]
  },
  {
   "cell_type": "markdown",
   "metadata": {},
   "source": [
    "# II. Load Data"
   ]
  },
  {
   "cell_type": "markdown",
   "metadata": {},
   "source": [
    "## GRACE"
   ]
  },
  {
   "cell_type": "markdown",
   "metadata": {},
   "source": [
    "### Features"
   ]
  },
  {
   "cell_type": "code",
   "execution_count": 12,
   "metadata": {
    "collapsed": false
   },
   "outputs": [],
   "source": [
    "# GRACE MASCON-GRI Pickle Files\n",
    "f = open(dir_python_data+'grace_features.p', 'rb')\n",
    "grace_features_dict = pickle.load(f)\n",
    "f.close()"
   ]
  },
  {
   "cell_type": "code",
   "execution_count": 13,
   "metadata": {
    "collapsed": false
   },
   "outputs": [],
   "source": [
    "# assign grace maps to python objects\n",
    "\n",
    "# continuous\n",
    "grace_lwe = grace_features_dict['grace_lwe']\n",
    "grace_lwe_norm = grace_features_dict['grace_lwe_norm']\n",
    "grace_lwe_clim_norm = grace_features_dict['grace_lwe_clim_norm']\n",
    "grace_lwe_noClim_norm = grace_features_dict['grace_lwe_noClim_norm']\n",
    "\n",
    "# ranked\n",
    "grace_lwe_rank = grace_features_dict['grace_lwe_rank']\n",
    "grace_lwe_rank_norm = grace_features_dict['grace_lwe_rank_norm']\n",
    "grace_lwe_clim_rank = grace_features_dict['grace_lwe_clim_rank']\n",
    "grace_lwe_clim_rank_norm = grace_features_dict['grace_lwe_clim_rank_norm']\n",
    "grace_lwe_noClim_rank = grace_features_dict['grace_lwe_noClim_rank']\n",
    "grace_lwe_noClim_rank_norm = grace_features_dict['grace_lwe_noClim_rank_norm']"
   ]
  },
  {
   "cell_type": "markdown",
   "metadata": {},
   "source": [
    "## Script Variables"
   ]
  },
  {
   "cell_type": "code",
   "execution_count": 15,
   "metadata": {
    "collapsed": false
   },
   "outputs": [],
   "source": [
    "# GRACE\n",
    "dim = grace_lwe.shape\n",
    "d1 = dim[0]\n",
    "d2 = dim[1]\n",
    "tp = dim[2]"
   ]
  },
  {
   "cell_type": "markdown",
   "metadata": {},
   "source": [
    "# III. Calculate Low Resolution Features"
   ]
  },
  {
   "cell_type": "markdown",
   "metadata": {},
   "source": [
    "### Setup"
   ]
  },
  {
   "cell_type": "code",
   "execution_count": 16,
   "metadata": {
    "collapsed": true
   },
   "outputs": [
    {
     "ename": "NameError",
     "evalue": "name 'grace_lwe_rnoClim_rank_norm' is not defined",
     "output_type": "error",
     "traceback": [
      "\u001b[0;31m---------------------------------------------------------------------------\u001b[0m",
      "\u001b[0;31mNameError\u001b[0m                                 Traceback (most recent call last)",
      "\u001b[0;32m<ipython-input-16-f6241f83b0a3>\u001b[0m in \u001b[0;36m<module>\u001b[0;34m()\u001b[0m\n\u001b[1;32m     13\u001b[0m \u001b[0mgrace_lwe_clim_rank_norm_lowres\u001b[0m \u001b[0;34m=\u001b[0m \u001b[0mgrace_brick_convert_lowres\u001b[0m\u001b[0;34m(\u001b[0m\u001b[0mgrace_lwe_clim_rank_norm\u001b[0m\u001b[0;34m,\u001b[0m \u001b[0;36m6\u001b[0m\u001b[0;34m)\u001b[0m\u001b[0;34m\u001b[0m\u001b[0m\n\u001b[1;32m     14\u001b[0m \u001b[0mgrace_lwe_noClim_rank_lowres\u001b[0m \u001b[0;34m=\u001b[0m \u001b[0mgrace_brick_convert_lowres\u001b[0m\u001b[0;34m(\u001b[0m\u001b[0mgrace_lwe_noClim_rank\u001b[0m\u001b[0;34m,\u001b[0m \u001b[0;36m6\u001b[0m\u001b[0;34m)\u001b[0m\u001b[0;34m\u001b[0m\u001b[0m\n\u001b[0;32m---> 15\u001b[0;31m \u001b[0mgrace_lwe_noClim_rank_norm_lowres\u001b[0m \u001b[0;34m=\u001b[0m \u001b[0mgrace_brick_convert_lowres\u001b[0m\u001b[0;34m(\u001b[0m\u001b[0mgrace_lwe_rnoClim_rank_norm\u001b[0m\u001b[0;34m,\u001b[0m \u001b[0;36m6\u001b[0m\u001b[0;34m)\u001b[0m\u001b[0;34m\u001b[0m\u001b[0m\n\u001b[0m",
      "\u001b[0;31mNameError\u001b[0m: name 'grace_lwe_rnoClim_rank_norm' is not defined"
     ]
    }
   ],
   "source": [
    "# create low resolution feature bricks (NaN's for non-land regions)\n",
    "\n",
    "# continuous\n",
    "grace_lwe_lowres = grace_brick_convert_lowres(grace_lwe, 6)\n",
    "grace_lwe_norm_lowres = grace_brick_convert_lowres(grace_lwe_norm, 6)\n",
    "grace_lwe_clim_norm_lowres = grace_brick_convert_lowres(grace_lwe_clim_norm, 6)\n",
    "grace_lwe_noClim_norm_lowres = grace_brick_convert_lowres(grace_lwe_noClim_norm, 6)\n",
    "\n",
    "# ranked\n",
    "grace_lwe_rank_lowres = grace_brick_convert_lowres(grace_lwe_rank, 6)\n",
    "grace_lwe_rank_norm_lowres = grace_brick_convert_lowres(grace_lwe_rank_norm, 6)\n",
    "grace_lwe_clim_rank_lowres = grace_brick_convert_lowres(grace_lwe_clim_rank, 6)\n",
    "grace_lwe_clim_rank_norm_lowres = grace_brick_convert_lowres(grace_lwe_clim_rank_norm, 6)\n",
    "grace_lwe_noClim_rank_lowres = grace_brick_convert_lowres(grace_lwe_noClim_rank, 6)\n",
    "grace_lwe_noClim_rank_norm_lowres = grace_brick_convert_lowres(grace_lwe_noClim_rank_norm, 6)"
   ]
  },
  {
   "cell_type": "code",
   "execution_count": 20,
   "metadata": {
    "collapsed": false
   },
   "outputs": [],
   "source": [
    "# save low resolution feature brick\n",
    "# create dictionary of grace features\n",
    "grace_features_lowres_dict = {\n",
    "    'grace_lwe_lowres':grace_lwe_lowres,\n",
    "     'grace_lwe_norm_lowres':grace_lwe_norm_lowres,\n",
    "    'grace_lwe_clim_norm_lowres':grace_lwe_clim_norm_lowres,\n",
    "    'grace_lwe_noClim_norm_lowres':grace_lwe_noClim_norm_lowres,\n",
    "    'grace_lwe_rank_lowres':grace_lwe_rank_lowres,\n",
    "    'grace_lwe_rank_norm_lowres':grace_lwe_rank_norm_lowres,\n",
    "    'grace_lwe_clim_rank_lowres':grace_lwe_clim_rank_lowres,\n",
    "    'grace_lwe_clim_rank_norm_lowres':grace_lwe_clim_rank_norm_lowres,\n",
    "    'grace_lwe_noClim_rank_lowres':grace_lwe_noClim_rank_lowres,\n",
    "    'grace_lwe_noClim_rank_norm_lowres':grace_lwe_noClim_rank_norm_lowres\n",
    "}"
   ]
  },
  {
   "cell_type": "code",
   "execution_count": 22,
   "metadata": {
    "collapsed": true
   },
   "outputs": [],
   "source": [
    "# pickle grace low resolution features\n",
    "f = open(dir_python_data + 'grace_features_lowres.p', 'wb') \n",
    "pickle.dump(grace_features_lowres_dict,f, -1)\n",
    "f.close()"
   ]
  },
  {
   "cell_type": "code",
   "execution_count": null,
   "metadata": {
    "collapsed": true
   },
   "outputs": [],
   "source": []
  }
 ],
 "metadata": {
  "kernelspec": {
   "display_name": "Python 2",
   "language": "python",
   "name": "python2"
  },
  "language_info": {
   "codemirror_mode": {
    "name": "ipython",
    "version": 2
   },
   "file_extension": ".py",
   "mimetype": "text/x-python",
   "name": "python",
   "nbconvert_exporter": "python",
   "pygments_lexer": "ipython2",
   "version": "2.7.11"
  }
 },
 "nbformat": 4,
 "nbformat_minor": 0
}
