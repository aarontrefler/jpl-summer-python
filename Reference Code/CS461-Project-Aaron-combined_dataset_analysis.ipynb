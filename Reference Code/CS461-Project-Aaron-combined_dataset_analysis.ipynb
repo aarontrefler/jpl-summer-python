{
 "cells": [
  {
   "cell_type": "markdown",
   "metadata": {},
   "source": [
    "<span style=\"font-size:2.5em; color:RoyalBlue\">CS461 Project: Student Performance</span>\n",
    "<br><br>\n",
    "<span style=\"font-size:1.5em; color:RoyalBlue\">Aaron Trefler    | CIN: 305047488</span> <br/>\n",
    "<span style=\"font-size:1.5em; color:RoyalBlue\">Mohammad Yazdani | CIN: 304390494</span> <br/>\n",
    "<span style=\"font-size:1.5em; color:RoyalBlue\">Shawn Anderson   | </span> <br/>\n",
    "<span style=\"font-size:1.5em; color:RoyalBlue\">Kiara Westbrooks | </span> "
   ]
  },
  {
   "cell_type": "markdown",
   "metadata": {},
   "source": [
    "# Description of iPython Notebook"
   ]
  },
  {
   "cell_type": "markdown",
   "metadata": {},
   "source": [
    "The analysis completed in this notebook uses both the Math and Portuguese datasets to address the following:\n",
    "\n",
    "1) What does the grade distribution look like for Math and Portuguese grades<br><br>\n",
    "2) To what extent does a student's math grade correlate with their Portuguese grade (determined visually) <br><br>\n",
    "3) Train two multi-variable linear regression models using common students and features from both datasets (n = 382)<br>\n",
    "    &nbsp;&nbsp;&nbsp;&nbsp;a) one to predict a student's Math grade<br>\n",
    "    &nbsp;&nbsp;&nbsp;&nbsp;b) one to predict a student's Portuguese grade<br><br>\n",
    "4) Determine the importance of different features for predicting a student's Math and Portuguese grades<br><br>\n",
    "5) Determine which features are more important for determining a student's Math grade verse their Portuguese grade<br>\n",
    "    &nbsp;&nbsp;&nbsp;&nbsp;a) and vice-versa"
   ]
  },
  {
   "cell_type": "markdown",
   "metadata": {},
   "source": [
    "# Imports"
   ]
  },
  {
   "cell_type": "code",
   "execution_count": 8,
   "metadata": {
    "collapsed": false
   },
   "outputs": [
    {
     "name": "stdout",
     "output_type": "stream",
     "text": [
      "\n"
     ]
    }
   ],
   "source": [
    "# numpy and sklearn-additions\n",
    "import numpy as np\n",
    "from sklearn.cross_validation import train_test_split\n",
    "from sklearn import metrics"
   ]
  },
  {
   "cell_type": "code",
   "execution_count": 9,
   "metadata": {
    "collapsed": true
   },
   "outputs": [],
   "source": [
    "# machine learning algorithms\n",
    "from sklearn.naive_bayes import GaussianNB\n",
    "from sklearn.svm import SVC\n",
    "from sklearn.linear_model import LogisticRegression\n",
    "from sklearn.ensemble import RandomForestClassifier\n",
    "from sklearn.tree import DecisionTreeClassifier"
   ]
  },
  {
   "cell_type": "code",
   "execution_count": 10,
   "metadata": {
    "collapsed": false
   },
   "outputs": [
    {
     "name": "stdout",
     "output_type": "stream",
     "text": [
      "Populating the interactive namespace from numpy and matplotlib\n"
     ]
    }
   ],
   "source": [
    "# plotting\n",
    "import matplotlib.pyplot as plt\n",
    "%pylab inline "
   ]
  },
  {
   "cell_type": "markdown",
   "metadata": {},
   "source": [
    "# I. Data Munging"
   ]
  },
  {
   "cell_type": "markdown",
   "metadata": {},
   "source": [
    "## Import Pandas, and import the data as a dataframes."
   ]
  },
  {
   "cell_type": "code",
   "execution_count": 15,
   "metadata": {
    "collapsed": false
   },
   "outputs": [
    {
     "name": "stdout",
     "output_type": "stream",
     "text": [
      " math dataframe size: "
     ]
    },
    {
     "ename": "NameError",
     "evalue": "name 'df' is not defined",
     "output_type": "error",
     "traceback": [
      "\u001b[0;31m---------------------------------------------------------------------------\u001b[0m",
      "\u001b[0;31mNameError\u001b[0m                                 Traceback (most recent call last)",
      "\u001b[0;32m<ipython-input-15-7a84b1935930>\u001b[0m in \u001b[0;36m<module>\u001b[0;34m()\u001b[0m\n\u001b[1;32m      3\u001b[0m \u001b[0mdf_por\u001b[0m \u001b[0;34m=\u001b[0m \u001b[0mpd\u001b[0m\u001b[0;34m.\u001b[0m\u001b[0mread_csv\u001b[0m\u001b[0;34m(\u001b[0m\u001b[0;34m'../data/student/student-por.csv'\u001b[0m\u001b[0;34m,\u001b[0m \u001b[0msep\u001b[0m\u001b[0;34m=\u001b[0m\u001b[0;34m';'\u001b[0m\u001b[0;34m)\u001b[0m\u001b[0;34m\u001b[0m\u001b[0m\n\u001b[1;32m      4\u001b[0m \u001b[0;34m\u001b[0m\u001b[0m\n\u001b[0;32m----> 5\u001b[0;31m \u001b[0;32mprint\u001b[0m \u001b[0;34m'math dataframe size: '\u001b[0m\u001b[0;34m,\u001b[0m \u001b[0mnp\u001b[0m\u001b[0;34m.\u001b[0m\u001b[0mshape\u001b[0m\u001b[0;34m(\u001b[0m\u001b[0mdf\u001b[0m\u001b[0;34m)\u001b[0m\u001b[0;34m\u001b[0m\u001b[0m\n\u001b[0m\u001b[1;32m      6\u001b[0m \u001b[0;32mprint\u001b[0m \u001b[0;34m'portuguese dataframe size: '\u001b[0m\u001b[0;34m,\u001b[0m \u001b[0mnp\u001b[0m\u001b[0;34m.\u001b[0m\u001b[0mshape\u001b[0m\u001b[0;34m(\u001b[0m\u001b[0mdf_por\u001b[0m\u001b[0;34m)\u001b[0m\u001b[0;34m\u001b[0m\u001b[0m\n\u001b[1;32m      7\u001b[0m \u001b[0;34m\u001b[0m\u001b[0m\n",
      "\u001b[0;31mNameError\u001b[0m: name 'df' is not defined"
     ]
    }
   ],
   "source": [
    "import pandas as pd\n",
    "df_math = pd.read_csv('../data/student/student-mat.csv', sep=';')\n",
    "df_por = pd.read_csv('../data/student/student-por.csv', sep=';')\n",
    "\n",
    "print 'math dataframe size: ', np.shape(df)\n",
    "print 'portuguese dataframe size: ', np.shape(df_por)\n",
    "\n",
    "df_math.head()"
   ]
  },
  {
   "cell_type": "markdown",
   "metadata": {},
   "source": [
    "## Extract students common to Math and Portuguese datasets."
   ]
  },
  {
   "cell_type": "code",
   "execution_count": null,
   "metadata": {
    "collapsed": false
   },
   "outputs": [],
   "source": [
    "# delete features with different values between groups \n",
    "#     features chosen based on instructions accompanying dataset\n",
    "#     exception: G3 column from both datasets\n",
    "\n",
    "# math\n",
    "del df_math['guardian']\n",
    "del df_math['traveltime']\n",
    "del df_math['studytime']\n",
    "del df_math['failures']\n",
    "del df_math['schoolsup']\n",
    "del df_math['famsup']\n",
    "del df_math['paid']\n",
    "del df_math['activities']\n",
    "del df_math['higher']\n",
    "del df_math['romantic']\n",
    "del df_math['famrel']\n",
    "del df_math['freetime']\n",
    "del df_math['goout']\n",
    "del df_math['Dalc']\n",
    "del df_math['Walc']\n",
    "del df_math['health']\n",
    "del df_math['absences']\n",
    "del df_math['G1']\n",
    "del df_math['G2']\n",
    "\n",
    "# portuguese\n",
    "del df_por['guardian']\n",
    "del df_por['traveltime']\n",
    "del df_por['studytime']\n",
    "del df_por['failures']\n",
    "del df_por['schoolsup']\n",
    "del df_por['famsup']\n",
    "del df_por['paid']\n",
    "del df_por['activities']\n",
    "del df_por['higher']\n",
    "del df_por['romantic']\n",
    "del df_por['famrel']\n",
    "del df_por['freetime']\n",
    "del df_por['goout']\n",
    "del df_por['Dalc']\n",
    "del df_por['Walc']\n",
    "del df_por['health']\n",
    "del df_por['absences']\n",
    "del df_por['G1']\n",
    "del df_por['G2']"
   ]
  },
  {
   "cell_type": "code",
   "execution_count": null,
   "metadata": {
    "collapsed": false
   },
   "outputs": [],
   "source": [
    "# create combined dataframe\n",
    "# selection of features to merge-on \n",
    "#     chosen based on instructions accompanying dataset \n",
    "df = pd.merge(df_math, df_por,how='inner', \\\n",
    "        on=[\"school\",\"sex\",\"age\",\"address\",\"famsize\",\"Pstatus\",\"Medu\",\"Fedu\",\"Mjob\",\"Fjob\",\"reason\",\"nursery\",\\\n",
    "            \"internet\"])\n",
    "\n",
    "print shape(df)\n",
    "df.head()"
   ]
  },
  {
   "cell_type": "markdown",
   "metadata": {},
   "source": [
    "## Convert non-Numerical columns to Numerical"
   ]
  },
  {
   "cell_type": "code",
   "execution_count": null,
   "metadata": {
    "collapsed": false
   },
   "outputs": [],
   "source": [
    "# for Sex replace F and M by 0 and 1\n",
    "if(df.sex.dtype == 'object'):\n",
    "    df.sex = df.sex.map({'F': 0, 'M':1})\n",
    "\n",
    "# for Family Size replace LE3 and GT3 by 0 and 1\n",
    "if(df.famsize.dtype == 'object'):\n",
    "    df.famsize = df.famsize.map({'LE3': 0, 'GT3':1})\n",
    "    \n",
    "df.head()"
   ]
  },
  {
   "cell_type": "code",
   "execution_count": null,
   "metadata": {
    "collapsed": true
   },
   "outputs": [],
   "source": [
    "# dataFrameStr is a column of a DataFrame object\n",
    "def convertToInt_YesNo(dataFrameStr):\n",
    "    if(dataFrameStr.dtype == 'object'):\n",
    "        return dataFrameStr.map({'no': 0, 'yes':1})\n",
    "    else:\n",
    "        return dataFrameStr\n",
    "\n",
    "# dataFrameStr is a column of a DataFrame object\n",
    "def convertToInt(dataFrameStr):\n",
    "    uniqueValues = []\n",
    "    [uniqueValues.append(item) for item in pd.unique(dataFrameStr)]\n",
    "\n",
    "    intList = []    \n",
    "    [intList.append(uniqueValues.index(item)) for item in dataFrameStr]\n",
    "        \n",
    "    return intList"
   ]
  },
  {
   "cell_type": "code",
   "execution_count": null,
   "metadata": {
    "collapsed": false
   },
   "outputs": [],
   "source": [
    "print  df.columns.values"
   ]
  },
  {
   "cell_type": "code",
   "execution_count": null,
   "metadata": {
    "collapsed": false
   },
   "outputs": [],
   "source": [
    "df.school = convertToInt(df.school)\n",
    "df.address = convertToInt(df.address)\n",
    "df.Pstatus = convertToInt(df.Pstatus)\n",
    "df.Mjob = convertToInt(df.Mjob)\n",
    "df.Fjob = convertToInt(df.Fjob)\n",
    "df.reason = convertToInt(df.reason)\n",
    "df.nursery = convertToInt_YesNo(df.nursery)\n",
    "df.internet = convertToInt_YesNo(df.internet)\n",
    "\n",
    "df.head()"
   ]
  },
  {
   "cell_type": "code",
   "execution_count": null,
   "metadata": {
    "collapsed": false
   },
   "outputs": [],
   "source": [
    "df.dtypes"
   ]
  },
  {
   "cell_type": "markdown",
   "metadata": {},
   "source": [
    "## Rename Math and Portuguese G3 columns."
   ]
  },
  {
   "cell_type": "code",
   "execution_count": null,
   "metadata": {
    "collapsed": false
   },
   "outputs": [],
   "source": [
    "# math\n",
    "df['G3'] = df['G3_x']\n",
    "del df['G3_x']\n",
    "\n",
    "# portuguese\n",
    "df['G3_por'] = df['G3_y']\n",
    "del df['G3_y']\n",
    "\n",
    "df.head()"
   ]
  },
  {
   "cell_type": "markdown",
   "metadata": {},
   "source": [
    "## Visualize Data"
   ]
  },
  {
   "cell_type": "markdown",
   "metadata": {},
   "source": [
    "### Grade Distribution Histograms"
   ]
  },
  {
   "cell_type": "code",
   "execution_count": 7,
   "metadata": {
    "collapsed": false
   },
   "outputs": [
    {
     "ename": "NameError",
     "evalue": "name 'df' is not defined",
     "output_type": "error",
     "traceback": [
      "\u001b[0;31m---------------------------------------------------------------------------\u001b[0m",
      "\u001b[0;31mNameError\u001b[0m                                 Traceback (most recent call last)",
      "\u001b[0;32m<ipython-input-7-025b7ff6b5d3>\u001b[0m in \u001b[0;36m<module>\u001b[0;34m()\u001b[0m\n\u001b[1;32m      1\u001b[0m \u001b[0;31m# math\u001b[0m\u001b[0;34m\u001b[0m\u001b[0;34m\u001b[0m\u001b[0m\n\u001b[0;32m----> 2\u001b[0;31m \u001b[0mplt\u001b[0m\u001b[0;34m.\u001b[0m\u001b[0mhist\u001b[0m\u001b[0;34m(\u001b[0m\u001b[0mdf\u001b[0m\u001b[0;34m[\u001b[0m\u001b[0;34m'G3'\u001b[0m\u001b[0;34m]\u001b[0m\u001b[0;34m,\u001b[0m \u001b[0mbins\u001b[0m\u001b[0;34m=\u001b[0m\u001b[0;36m20\u001b[0m\u001b[0;34m,\u001b[0m \u001b[0mnormed\u001b[0m\u001b[0;34m=\u001b[0m\u001b[0mFalse\u001b[0m\u001b[0;34m,\u001b[0m \u001b[0mcolor\u001b[0m\u001b[0;34m=\u001b[0m\u001b[0;34m'red'\u001b[0m\u001b[0;34m)\u001b[0m\u001b[0;34m\u001b[0m\u001b[0m\n\u001b[0m\u001b[1;32m      3\u001b[0m \u001b[0mplt\u001b[0m\u001b[0;34m.\u001b[0m\u001b[0mtitle\u001b[0m\u001b[0;34m(\u001b[0m\u001b[0;34m'Math Grade Distribution'\u001b[0m\u001b[0;34m)\u001b[0m\u001b[0;34m\u001b[0m\u001b[0m\n\u001b[1;32m      4\u001b[0m \u001b[0mplt\u001b[0m\u001b[0;34m.\u001b[0m\u001b[0mxlabel\u001b[0m\u001b[0;34m(\u001b[0m\u001b[0;34m\"Grade\"\u001b[0m\u001b[0;34m)\u001b[0m\u001b[0;34m\u001b[0m\u001b[0m\n\u001b[1;32m      5\u001b[0m \u001b[0mplt\u001b[0m\u001b[0;34m.\u001b[0m\u001b[0mylabel\u001b[0m\u001b[0;34m(\u001b[0m\u001b[0;34m\"Student Count\"\u001b[0m\u001b[0;34m)\u001b[0m\u001b[0;34m\u001b[0m\u001b[0m\n",
      "\u001b[0;31mNameError\u001b[0m: name 'df' is not defined"
     ]
    }
   ],
   "source": [
    "# math\n",
    "plt.hist(df['G3'], bins=20, normed=False, color='red')\n",
    "plt.title('Math Grade Distribution')\n",
    "plt.xlabel(\"Grade\")\n",
    "plt.ylabel(\"Student Count\")\n",
    "\n",
    "plt.savefig('DataVis_histogram_math.png')\n",
    "plt.show()"
   ]
  },
  {
   "cell_type": "code",
   "execution_count": 605,
   "metadata": {
    "collapsed": false
   },
   "outputs": [
    {
     "data": {
      "image/png": "[encoded data removed]",
      "text/plain": [
       "<matplotlib.figure.Figure at 0x112c06d50>"
      ]
     },
     "metadata": {},
     "output_type": "display_data"
    }
   ],
   "source": [
    "# portuguese\n",
    "plt.hist(df['G3_por'], bins=20, normed=False, color='red')\n",
    "plt.title('Portuguese Grade Distribution')\n",
    "plt.xlabel(\"Grade\")\n",
    "plt.ylabel(\"Student Count\")\n",
    "\n",
    "plt.savefig('DataVis_histogram_port.png')\n",
    "plt.show()"
   ]
  },
  {
   "cell_type": "markdown",
   "metadata": {},
   "source": [
    "### Math and Portuguese Grade Correlation"
   ]
  },
  {
   "cell_type": "code",
   "execution_count": 606,
   "metadata": {
    "collapsed": false
   },
   "outputs": [
    {
     "data": {
      "image/png": "[encoded data removed]",
      "text/plain": [
       "<matplotlib.figure.Figure at 0x115df0150>"
      ]
     },
     "metadata": {},
     "output_type": "display_data"
    }
   ],
   "source": [
    "math_G3 = df['G3']\n",
    "port_G3 = df['G3_por']\n",
    "\n",
    "# create scatter plot comparing math and portuguese grades\n",
    "plt.scatter(math_G3, port_G3, alpha=0.2, color='blue')\n",
    "plt.xlim([-1,21])\n",
    "plt.ylim([-1,21])\n",
    "plt.title('Math vs. Portuguese')\n",
    "plt.xlabel(\"Math Grade\")\n",
    "plt.ylabel(\"Portuguese Grade\")\n",
    "\n",
    "# plot perfect correlation line (aka 'x=y') for reference\n",
    "plt.plot(range(20),range(20), color='black', alpha=0.2)\n",
    "\n",
    "plt.savefig('DataVis_grade_correlation_port.png')\n",
    "plt.show()"
   ]
  },
  {
   "cell_type": "markdown",
   "metadata": {},
   "source": [
    "# II. Feature Engineering"
   ]
  },
  {
   "cell_type": "markdown",
   "metadata": {},
   "source": [
    "## Create New Features "
   ]
  },
  {
   "cell_type": "code",
   "execution_count": 607,
   "metadata": {
    "collapsed": false
   },
   "outputs": [
    {
     "name": "stdout",
     "output_type": "stream",
     "text": [
      "school [0 1]\n",
      "sex [0 1]\n",
      "age [18 17 15 16 19 22 20]\n",
      "address [0 1]\n",
      "famsize [1 0]\n",
      "Pstatus [0 1]\n",
      "Medu [4 1 3 2 0]\n",
      "Fedu [4 1 2 3 0]\n",
      "Mjob [0 1 2 3 4]\n",
      "Fjob [0 1 2 3 4]\n",
      "reason [0 1 2 3]\n",
      "nursery [1 0]\n",
      "internet [0 1]\n",
      "G3 [ 6 10 15 11 19  9 12 14 16  5  8 17 18 13 20  7  0  4]\n",
      "G3_por [11 12 14 13 17 15  7 10 16  9  6  8 18  0  1  5 19]\n"
     ]
    }
   ],
   "source": [
    "features = df.shape[1]\n",
    "for i in range(features):\n",
    "    unique_values = pd.unique(df.iloc[:,i].ravel())\n",
    "    header = df.columns.values[i]\n",
    "    print header, unique_values"
   ]
  },
  {
   "cell_type": "markdown",
   "metadata": {},
   "source": [
    "### Create catigorical binary-features from existing features with more than 2 categorical values"
   ]
  },
  {
   "cell_type": "code",
   "execution_count": 608,
   "metadata": {
    "collapsed": false
   },
   "outputs": [],
   "source": [
    "# Convert Feature: Medu\n",
    "df['Medu_0'] = (df['Medu'] == 0).astype(int)\n",
    "df['Medu_1'] = (df['Medu'] == 1).astype(int)\n",
    "df['Medu_2'] = (df['Medu'] == 2).astype(int)\n",
    "df['Medu_3'] = (df['Medu'] == 3).astype(int)\n",
    "df['Medu_4'] = (df['Medu'] == 4).astype(int)"
   ]
  },
  {
   "cell_type": "code",
   "execution_count": 609,
   "metadata": {
    "collapsed": true
   },
   "outputs": [],
   "source": [
    "# Convert Feature: Fedu\n",
    "df['Fedu_0'] = (df['Fedu'] == 0).astype(int)\n",
    "df['Fedu_1'] = (df['Fedu'] == 1).astype(int)\n",
    "df['Fedu_2'] = (df['Fedu'] == 2).astype(int)\n",
    "df['Fedu_3'] = (df['Fedu'] == 3).astype(int)\n",
    "df['Fedu_4'] = (df['Fedu'] == 4).astype(int)"
   ]
  },
  {
   "cell_type": "code",
   "execution_count": 610,
   "metadata": {
    "collapsed": true
   },
   "outputs": [],
   "source": [
    "# Convert Feature: Mjob\n",
    "df['Mjob_0'] = (df['Mjob'] == 0).astype(int)\n",
    "df['Mjob_1'] = (df['Mjob'] == 1).astype(int)\n",
    "df['Mjob_2'] = (df['Mjob'] == 2).astype(int)\n",
    "df['Mjob_3'] = (df['Mjob'] == 3).astype(int)\n",
    "df['Mjob_4'] = (df['Mjob'] == 4).astype(int)"
   ]
  },
  {
   "cell_type": "code",
   "execution_count": 611,
   "metadata": {
    "collapsed": true
   },
   "outputs": [],
   "source": [
    "# Convert Feature: Fjob\n",
    "df['Fjob_0'] = (df['Fjob'] == 0).astype(int)\n",
    "df['Fjob_1'] = (df['Fjob'] == 1).astype(int)\n",
    "df['Fjob_2'] = (df['Fjob'] == 2).astype(int)\n",
    "df['Fjob_3'] = (df['Fjob'] == 3).astype(int)\n",
    "df['Fjob_4'] = (df['Fjob'] == 4).astype(int)"
   ]
  },
  {
   "cell_type": "code",
   "execution_count": 612,
   "metadata": {
    "collapsed": true
   },
   "outputs": [],
   "source": [
    "# Convert Feature: Reason\n",
    "df['reason_0'] = (df['reason'] == 0).astype(int)\n",
    "df['reason_1'] = (df['reason'] == 1).astype(int)\n",
    "df['reason_2'] = (df['reason'] == 2).astype(int)\n",
    "df['reason_3'] = (df['reason'] == 3).astype(int)"
   ]
  },
  {
   "cell_type": "markdown",
   "metadata": {},
   "source": [
    "## Select Features"
   ]
  },
  {
   "cell_type": "code",
   "execution_count": 613,
   "metadata": {
    "collapsed": true
   },
   "outputs": [],
   "source": [
    "# function: scale_features\n",
    "# input: dataframe containing feature values\n",
    "# output: dataframe containing normalized features\n",
    "\n",
    "def scale_features(df):\n",
    "    mean = df.mean(axis = 0)\n",
    "    std = df.std(axis = 0)\n",
    "    return (df - mean) / std"
   ]
  },
  {
   "cell_type": "code",
   "execution_count": 614,
   "metadata": {
    "collapsed": false
   },
   "outputs": [
    {
     "data": {
      "text/html": [
       "<div>\n",
       "<table border=\"1\" class=\"dataframe\">\n",
       "  <thead>\n",
       "    <tr style=\"text-align: right;\">\n",
       "      <th></th>\n",
       "      <th>school</th>\n",
       "      <th>sex</th>\n",
       "      <th>age</th>\n",
       "      <th>address</th>\n",
       "      <th>famsize</th>\n",
       "      <th>Pstatus</th>\n",
       "      <th>nursery</th>\n",
       "      <th>internet</th>\n",
       "      <th>Medu_0</th>\n",
       "      <th>Medu_1</th>\n",
       "      <th>...</th>\n",
       "      <th>Mjob_4</th>\n",
       "      <th>Fjob_0</th>\n",
       "      <th>Fjob_1</th>\n",
       "      <th>Fjob_2</th>\n",
       "      <th>Fjob_3</th>\n",
       "      <th>Fjob_4</th>\n",
       "      <th>reason_0</th>\n",
       "      <th>reason_1</th>\n",
       "      <th>reason_2</th>\n",
       "      <th>reason_3</th>\n",
       "    </tr>\n",
       "  </thead>\n",
       "  <tbody>\n",
       "    <tr>\n",
       "      <th>0</th>\n",
       "      <td>0</td>\n",
       "      <td>0</td>\n",
       "      <td>18</td>\n",
       "      <td>0</td>\n",
       "      <td>1</td>\n",
       "      <td>0</td>\n",
       "      <td>1</td>\n",
       "      <td>0</td>\n",
       "      <td>0</td>\n",
       "      <td>0</td>\n",
       "      <td>...</td>\n",
       "      <td>0</td>\n",
       "      <td>1</td>\n",
       "      <td>0</td>\n",
       "      <td>0</td>\n",
       "      <td>0</td>\n",
       "      <td>0</td>\n",
       "      <td>1</td>\n",
       "      <td>0</td>\n",
       "      <td>0</td>\n",
       "      <td>0</td>\n",
       "    </tr>\n",
       "    <tr>\n",
       "      <th>1</th>\n",
       "      <td>0</td>\n",
       "      <td>0</td>\n",
       "      <td>17</td>\n",
       "      <td>0</td>\n",
       "      <td>1</td>\n",
       "      <td>1</td>\n",
       "      <td>0</td>\n",
       "      <td>1</td>\n",
       "      <td>0</td>\n",
       "      <td>1</td>\n",
       "      <td>...</td>\n",
       "      <td>0</td>\n",
       "      <td>0</td>\n",
       "      <td>1</td>\n",
       "      <td>0</td>\n",
       "      <td>0</td>\n",
       "      <td>0</td>\n",
       "      <td>1</td>\n",
       "      <td>0</td>\n",
       "      <td>0</td>\n",
       "      <td>0</td>\n",
       "    </tr>\n",
       "    <tr>\n",
       "      <th>2</th>\n",
       "      <td>0</td>\n",
       "      <td>0</td>\n",
       "      <td>15</td>\n",
       "      <td>0</td>\n",
       "      <td>0</td>\n",
       "      <td>1</td>\n",
       "      <td>1</td>\n",
       "      <td>1</td>\n",
       "      <td>0</td>\n",
       "      <td>1</td>\n",
       "      <td>...</td>\n",
       "      <td>0</td>\n",
       "      <td>0</td>\n",
       "      <td>1</td>\n",
       "      <td>0</td>\n",
       "      <td>0</td>\n",
       "      <td>0</td>\n",
       "      <td>0</td>\n",
       "      <td>1</td>\n",
       "      <td>0</td>\n",
       "      <td>0</td>\n",
       "    </tr>\n",
       "    <tr>\n",
       "      <th>3</th>\n",
       "      <td>0</td>\n",
       "      <td>0</td>\n",
       "      <td>15</td>\n",
       "      <td>0</td>\n",
       "      <td>1</td>\n",
       "      <td>1</td>\n",
       "      <td>1</td>\n",
       "      <td>1</td>\n",
       "      <td>0</td>\n",
       "      <td>0</td>\n",
       "      <td>...</td>\n",
       "      <td>0</td>\n",
       "      <td>0</td>\n",
       "      <td>0</td>\n",
       "      <td>1</td>\n",
       "      <td>0</td>\n",
       "      <td>0</td>\n",
       "      <td>0</td>\n",
       "      <td>0</td>\n",
       "      <td>1</td>\n",
       "      <td>0</td>\n",
       "    </tr>\n",
       "    <tr>\n",
       "      <th>4</th>\n",
       "      <td>0</td>\n",
       "      <td>0</td>\n",
       "      <td>16</td>\n",
       "      <td>0</td>\n",
       "      <td>1</td>\n",
       "      <td>1</td>\n",
       "      <td>1</td>\n",
       "      <td>0</td>\n",
       "      <td>0</td>\n",
       "      <td>0</td>\n",
       "      <td>...</td>\n",
       "      <td>0</td>\n",
       "      <td>0</td>\n",
       "      <td>1</td>\n",
       "      <td>0</td>\n",
       "      <td>0</td>\n",
       "      <td>0</td>\n",
       "      <td>0</td>\n",
       "      <td>0</td>\n",
       "      <td>1</td>\n",
       "      <td>0</td>\n",
       "    </tr>\n",
       "  </tbody>\n",
       "</table>\n",
       "<p>5 rows × 32 columns</p>\n",
       "</div>"
      ],
      "text/plain": [
       "   school  sex  age  address  famsize  Pstatus  nursery  internet  Medu_0  \\\n",
       "0       0    0   18        0        1        0        1         0       0   \n",
       "1       0    0   17        0        1        1        0         1       0   \n",
       "2       0    0   15        0        0        1        1         1       0   \n",
       "3       0    0   15        0        1        1        1         1       0   \n",
       "4       0    0   16        0        1        1        1         0       0   \n",
       "\n",
       "   Medu_1    ...     Mjob_4  Fjob_0  Fjob_1  Fjob_2  Fjob_3  Fjob_4  reason_0  \\\n",
       "0       0    ...          0       1       0       0       0       0         1   \n",
       "1       1    ...          0       0       1       0       0       0         1   \n",
       "2       1    ...          0       0       1       0       0       0         0   \n",
       "3       0    ...          0       0       0       1       0       0         0   \n",
       "4       0    ...          0       0       1       0       0       0         0   \n",
       "\n",
       "   reason_1  reason_2  reason_3  \n",
       "0         0         0         0  \n",
       "1         0         0         0  \n",
       "2         1         0         0  \n",
       "3         0         1         0  \n",
       "4         0         1         0  \n",
       "\n",
       "[5 rows x 32 columns]"
      ]
     },
     "execution_count": 614,
     "metadata": {},
     "output_type": "execute_result"
    }
   ],
   "source": [
    "df_features = df.copy()\n",
    "\n",
    "# delete duplicate features and feature-labels\n",
    "del df_features['Fedu']\n",
    "del df_features['Medu']\n",
    "del df_features['Fjob']\n",
    "del df_features['Mjob']\n",
    "del df_features['reason']\n",
    "del df_features['G3']\n",
    "del df_features['G3_por']\n",
    "\n",
    "df_features.head()"
   ]
  },
  {
   "cell_type": "markdown",
   "metadata": {},
   "source": [
    "## Normalize Features"
   ]
  },
  {
   "cell_type": "code",
   "execution_count": 615,
   "metadata": {
    "collapsed": true
   },
   "outputs": [],
   "source": [
    "# scale features\n",
    "df_features = scale_features(df_features)"
   ]
  },
  {
   "cell_type": "markdown",
   "metadata": {},
   "source": [
    "# III. Machine Learning"
   ]
  },
  {
   "cell_type": "markdown",
   "metadata": {},
   "source": [
    "## Convert to Numpy Arrays"
   ]
  },
  {
   "cell_type": "code",
   "execution_count": 616,
   "metadata": {
    "collapsed": false
   },
   "outputs": [],
   "source": [
    "features = df_features.values\n",
    "# math\n",
    "labels_regression = df['G3'].values\n",
    "# portuguese\n",
    "labels_regression_por = df['G3_por'].values\n",
    "\n",
    "# add x0 feature column of ones to features matrix\n",
    "rows = features.shape[0]\n",
    "features = np.column_stack((np.ones((rows,1)), features))"
   ]
  },
  {
   "cell_type": "markdown",
   "metadata": {},
   "source": [
    "## Regression"
   ]
  },
  {
   "cell_type": "markdown",
   "metadata": {},
   "source": [
    "### Multi-Variable Regression"
   ]
  },
  {
   "cell_type": "code",
   "execution_count": 617,
   "metadata": {
    "collapsed": true
   },
   "outputs": [],
   "source": [
    "# function: cost_function\n",
    "# input: total data (y values in last column), theta vec\n",
    "# output: cost value\n",
    "\n",
    "def cost_function(A, theta):\n",
    "    \n",
    "    # feature matrix\n",
    "    X = A[:,0:-1]   \n",
    "    # outcome vector\n",
    "    y = A[:,-1]\n",
    "    \n",
    "    # calculate cost\n",
    "    cost = np.sum( \\\n",
    "        (1.0 / (2*A.shape[0])) * (np.power(np.dot(X,theta) - y, 2))) \n",
    "    \n",
    "    return cost"
   ]
  },
  {
   "cell_type": "code",
   "execution_count": 618,
   "metadata": {
    "collapsed": true
   },
   "outputs": [],
   "source": [
    "# function: gradient\n",
    "# input: total data matrix (y values in last column), theta vec\n",
    "# output: gradeint vec (i.e., derivatives) for theta weights \n",
    "\n",
    "def compute_gradient(A, theta):\n",
    "    \n",
    "    # feature matrix\n",
    "    X = A[:,0:-1]\n",
    "    # outcome vector\n",
    "    y = A[:,-1]\n",
    "    \n",
    "    # training examples\n",
    "    m = X.shape[0]\n",
    "    # features\n",
    "    n = X.shape[1]\n",
    "    \n",
    "    # calculate gradient  \n",
    "    error = (np.dot(X,theta) - y)   \n",
    "    gradient = (1.0 / m) * np.dot(np.transpose(error), X)\n",
    "    gradient = np.transpose(gradient)\n",
    "                 \n",
    "    return gradient"
   ]
  },
  {
   "cell_type": "code",
   "execution_count": 619,
   "metadata": {
    "collapsed": true
   },
   "outputs": [],
   "source": [
    "# function: gradient_descent\n",
    "# input: total data matrix (y values in last column), iterations of gradient descent, alpha (learning rate)\n",
    "# output: trained theta weight parameters\n",
    "\n",
    "def gradient_descent(A, num_iter, alpha):\n",
    "    \n",
    "    # feature matrix\n",
    "    X = A[:,0:-1]\n",
    "    # outcome vector\n",
    "    y = A[:,-1]\n",
    "    \n",
    "    # training examples\n",
    "    m = X.shape[0]\n",
    "    # features\n",
    "    n = X.shape[1]\n",
    "    \n",
    "    # create initial theta vector (i.e., all weights = 0)\n",
    "    theta = np.zeros(X.shape[1])\n",
    "    \n",
    "    for i in range(num_iter):\n",
    "        \n",
    "        # calculate gradients\n",
    "        gradient_vec = compute_gradient(A, theta)\n",
    "    \n",
    "        # update theta values\n",
    "        theta = theta - (alpha * gradient_vec)\n",
    "    \n",
    "    # return updated values\n",
    "    return theta"
   ]
  },
  {
   "cell_type": "markdown",
   "metadata": {},
   "source": [
    "### Math"
   ]
  },
  {
   "cell_type": "code",
   "execution_count": 620,
   "metadata": {
    "collapsed": false
   },
   "outputs": [
    {
     "name": "stdout",
     "output_type": "stream",
     "text": [
      "Cost before gradient descent:  64.9057591623\n",
      "Cost after gradient descent:   9.38874352208\n"
     ]
    }
   ],
   "source": [
    "# combine features and lables\n",
    "total_data = np.column_stack((features, labels_regression))\n",
    "\n",
    "# create initial theta vector (i.e., all weights = 0)\n",
    "theta = np.zeros(features.shape[1])\n",
    "\n",
    "# call cost_function\n",
    "cost_beg = cost_function(total_data, theta)\n",
    "\n",
    "# run gradient descent\n",
    "theta = gradient_descent(total_data, 100, .3)\n",
    "\n",
    "# call cost_function\n",
    "cost_end = cost_function(total_data, theta)\n",
    "\n",
    "print \"Cost before gradient descent: \", cost_beg\n",
    "print \"Cost after gradient descent:  \", cost_end"
   ]
  },
  {
   "cell_type": "markdown",
   "metadata": {
    "collapsed": true
   },
   "source": [
    "#### Learning Curve - Math"
   ]
  },
  {
   "cell_type": "code",
   "execution_count": 621,
   "metadata": {
    "collapsed": false
   },
   "outputs": [
    {
     "data": {
      "image/png": "[encoded data removed]",
      "text/plain": [
       "<matplotlib.figure.Figure at 0x10fb80750>"
      ]
     },
     "metadata": {},
     "output_type": "display_data"
    }
   ],
   "source": [
    "#%matplotlib inline \n",
    "\n",
    "# Run gradient descent while keeping track of cost at each iteration\n",
    "\n",
    "# combine features and lables\n",
    "total_data = np.column_stack((features, labels_regression))\n",
    "\n",
    "# number of iteration for gradient descent\n",
    "num_iter = 100\n",
    "\n",
    "# alpha value\n",
    "alpha = 0.1\n",
    "    \n",
    "# training examples\n",
    "m = features.shape[0]\n",
    "# features\n",
    "n = features.shape[1]\n",
    "    \n",
    "# create initial theta vector (i.e., all weights = 0)\n",
    "theta_math = np.zeros(n)\n",
    "\n",
    "# initialize cost function array\n",
    "cost = np.zeros(num_iter)\n",
    "    \n",
    "for i in range(num_iter):\n",
    "       \n",
    "    # calculate cost\n",
    "    cost[i] = cost_function(total_data, theta_math)\n",
    "    \n",
    "    # calculate gradients\n",
    "    gradient_vec = compute_gradient(total_data, theta_math)\n",
    "    \n",
    "    # update theta values\n",
    "    theta_math = theta_math - (alpha * gradient_vec)\n",
    "\n",
    "    \n",
    "# plot learning curve\n",
    "plt.plot(cost, color='green', linewidth=3)\n",
    "plt.title('Math - Learning Curve')\n",
    "plt.ylabel('Cost')\n",
    "plt.xlabel('Gradient Descent Iterations')\n",
    "plt.ylim([0,90])\n",
    "plt.savefig('MultiVar_learning_curve_math.png')\n",
    "plt.show()"
   ]
  },
  {
   "cell_type": "markdown",
   "metadata": {},
   "source": [
    "#### Rank Theta Weights - Math"
   ]
  },
  {
   "cell_type": "code",
   "execution_count": 622,
   "metadata": {
    "collapsed": false
   },
   "outputs": [
    {
     "data": {
      "image/png": "[encoded data removed]",
      "text/plain": [
       "<matplotlib.figure.Figure at 0x10eb6f090>"
      ]
     },
     "metadata": {},
     "output_type": "display_data"
    }
   ],
   "source": [
    "#%matplotlib inline\n",
    "#%matplotlib osx\n",
    "\n",
    "# create figure\n",
    "plt.figure(num=None, figsize=(16,4))\n",
    "\n",
    "x = range(n-1)\n",
    "y = theta_math[1:]\n",
    "\n",
    "# bar graph parameters\n",
    "bar_width = 1\n",
    "index = np.arange(n-1)\n",
    "plt.bar(x, y, bar_width, color='green')\n",
    "\n",
    "# bar graph setup\n",
    "plt.xlabel('Features')\n",
    "plt.ylabel('Theta Weight')\n",
    "plt.title('Importance of Features for Predicting Math Grade')\n",
    "locs, labels = plt.xticks(index + (bar_width/2.0), df_features.columns.values)\n",
    "plt.setp(labels, rotation=90)\n",
    "plt.ylim([-1.5,1])\n",
    "plt.xlim([0,np.size(x)])\n",
    "plt.gcf().subplots_adjust(bottom=0.28)\n",
    "\n",
    "# plot\n",
    "plt.savefig('MultiVar_features_math.png')\n",
    "plt.show()"
   ]
  },
  {
   "cell_type": "markdown",
   "metadata": {
    "collapsed": false
   },
   "source": [
    "## Portuguese"
   ]
  },
  {
   "cell_type": "code",
   "execution_count": 623,
   "metadata": {
    "collapsed": false
   },
   "outputs": [
    {
     "name": "stdout",
     "output_type": "stream",
     "text": [
      "Cost before gradient descent:  82.6479057592\n",
      "Cost after gradient descent:   3.48312077768\n"
     ]
    }
   ],
   "source": [
    "# combine features and lables\n",
    "total_data = np.column_stack((features, labels_regression_por))\n",
    "\n",
    "# create initial theta vector (i.e., all weights = 0)\n",
    "theta = np.zeros(features.shape[1])\n",
    "\n",
    "# call cost_function\n",
    "cost_beg = cost_function(total_data, theta)\n",
    "\n",
    "# run gradient descent\n",
    "theta = gradient_descent(total_data, 100, .3)\n",
    "\n",
    "# call cost_function\n",
    "cost_end = cost_function(total_data, theta)\n",
    "\n",
    "print \"Cost before gradient descent: \", cost_beg\n",
    "print \"Cost after gradient descent:  \", cost_end"
   ]
  },
  {
   "cell_type": "markdown",
   "metadata": {
    "collapsed": true
   },
   "source": [
    "#### Learning Curve - Portuguese"
   ]
  },
  {
   "cell_type": "code",
   "execution_count": 624,
   "metadata": {
    "collapsed": false
   },
   "outputs": [
    {
     "data": {
      "image/png": "[encoded data removed]",
      "text/plain": [
       "<matplotlib.figure.Figure at 0x115c1e710>"
      ]
     },
     "metadata": {},
     "output_type": "display_data"
    }
   ],
   "source": [
    "#%matplotlib inline \n",
    "\n",
    "# Run gradient descent while keeping track of cost at each iteration\n",
    "\n",
    "# combine features and lables\n",
    "total_data = np.column_stack((features, labels_regression_por))\n",
    "\n",
    "# number of iteration for gradient descent\n",
    "num_iter = 100\n",
    "\n",
    "# alpha value\n",
    "alpha = 0.1\n",
    "    \n",
    "# training examples\n",
    "m = features.shape[0]\n",
    "# features\n",
    "n = features.shape[1]\n",
    "    \n",
    "# create initial theta vector (i.e., all weights = 0)\n",
    "theta_por = np.zeros(n)\n",
    "\n",
    "# initialize cost function array\n",
    "cost = np.zeros(num_iter)\n",
    "    \n",
    "for i in range(num_iter):\n",
    "       \n",
    "    # calculate cost\n",
    "    cost[i] = cost_function(total_data, theta_por)\n",
    "    \n",
    "    # calculate gradients\n",
    "    gradient_vec = compute_gradient(total_data, theta_por)\n",
    "    \n",
    "    # update theta values\n",
    "    theta_por = theta_por - (alpha * gradient_vec)\n",
    "\n",
    "    \n",
    "# plot learning curve\n",
    "plt.plot(cost, color='red', linewidth=3)\n",
    "plt.title('Portuguese - Learning Curve')\n",
    "plt.ylabel('Cost')\n",
    "plt.xlabel('Gradient Descent Iterations')\n",
    "plt.ylim([0,90])\n",
    "plt.savefig('MultiVar_learning_curve_port.png')\n",
    "plt.show()"
   ]
  },
  {
   "cell_type": "markdown",
   "metadata": {},
   "source": [
    "#### Rank Theta Weights - Portuguese"
   ]
  },
  {
   "cell_type": "code",
   "execution_count": 625,
   "metadata": {
    "collapsed": false
   },
   "outputs": [
    {
     "data": {
      "image/png": "[encoded data removed]",
      "text/plain": [
       "<matplotlib.figure.Figure at 0x11691f690>"
      ]
     },
     "metadata": {},
     "output_type": "display_data"
    }
   ],
   "source": [
    "#%matplotlib inline\n",
    "#%matplotlib osx\n",
    "\n",
    "# create figure\n",
    "plt.figure(num=None, figsize=(16,4))\n",
    "\n",
    "x = range(n-1)\n",
    "y = theta_por[1:]\n",
    "\n",
    "# bar graph parameters\n",
    "bar_width = 1\n",
    "index = np.arange(n-1)\n",
    "\n",
    "plt.bar(x, y, bar_width, color='red')\n",
    "\n",
    "# bar graph setup\n",
    "plt.xlabel('Features')\n",
    "plt.ylabel('Theta Weight')\n",
    "plt.title('Importance of Features for Predicting Portuguese Grade')\n",
    "locs, labels = plt.xticks(index + (bar_width/2.0), df_features.columns.values)\n",
    "plt.setp(labels, rotation=90)\n",
    "plt.ylim([-1.5,1])\n",
    "plt.xlim([0,np.size(x)])\n",
    "plt.gcf().subplots_adjust(bottom=0.28)\n",
    "\n",
    "# plot\n",
    "plt.savefig('MultiVar_features_port.png')\n",
    "plt.show()"
   ]
  },
  {
   "cell_type": "markdown",
   "metadata": {},
   "source": [
    "## Math vs. Portuguese"
   ]
  },
  {
   "cell_type": "markdown",
   "metadata": {
    "collapsed": true
   },
   "source": [
    "#### Math > Portuguese"
   ]
  },
  {
   "cell_type": "code",
   "execution_count": 626,
   "metadata": {
    "collapsed": false
   },
   "outputs": [
    {
     "data": {
      "image/png": "[encoded data removed]",
      "text/plain": [
       "<matplotlib.figure.Figure at 0x116259c50>"
      ]
     },
     "metadata": {},
     "output_type": "display_data"
    }
   ],
   "source": [
    "# create theta difference vector\n",
    "baseline_math = theta_math[0]\n",
    "baseline_por = theta_por[0]\n",
    "theta_diff = (np.absolute(theta_math)) - (np.absolute(theta_por))\n",
    "theta_diff[theta_diff < 0] = 0\n",
    "\n",
    "# create figure\n",
    "plt.figure(num=None, figsize=(16,4))\n",
    "\n",
    "x = range(n-1)\n",
    "y = theta_diff[1:]\n",
    "\n",
    "# bar graph parameters\n",
    "bar_width = 1\n",
    "index = np.arange(n-1)\n",
    "\n",
    "plt.bar(x, y, bar_width, color='green')\n",
    "\n",
    "# bar graph setup\n",
    "plt.xlabel('Features')\n",
    "plt.ylabel('Weight Difference')\n",
    "plt.title('Features More Important to Math')\n",
    "locs, labels = plt.xticks(index + (bar_width/2.0), df_features.columns.values)\n",
    "plt.setp(labels, rotation=90)\n",
    "plt.ylim([0,1.5])\n",
    "plt.xlim([0,np.size(x)])\n",
    "\n",
    "# plot\n",
    "plt.savefig('MultiVar_features_diff_mathGr.png', bbox_inches='tight')\n",
    "plt.show()"
   ]
  },
  {
   "cell_type": "markdown",
   "metadata": {},
   "source": [
    "#### Portuguese > Math"
   ]
  },
  {
   "cell_type": "code",
   "execution_count": 627,
   "metadata": {
    "collapsed": false
   },
   "outputs": [
    {
     "data": {
      "image/png": "[encoded data removed]",
      "text/plain": [
       "<matplotlib.figure.Figure at 0x10e72f1d0>"
      ]
     },
     "metadata": {},
     "output_type": "display_data"
    }
   ],
   "source": [
    "# create theta difference vector\n",
    "baseline_math = theta_math[0]\n",
    "baseline_por = theta_por[0]\n",
    "theta_diff = (np.absolute(theta_por)) - (np.absolute(theta_math))\n",
    "theta_diff[theta_diff < 0] = 0\n",
    "# create figure\n",
    "plt.figure(num=None, figsize=(16,4))\n",
    "\n",
    "x = range(n-1)\n",
    "y = theta_diff[1:]\n",
    "\n",
    "# bar graph parameters\n",
    "bar_width = 1\n",
    "index = np.arange(n-1)\n",
    "\n",
    "plt.bar(x, y, bar_width, color='red')\n",
    "\n",
    "# bar graph setup\n",
    "plt.xlabel('Features')\n",
    "plt.ylabel('Weight Difference')\n",
    "plt.title('Features More Important to Portuguese')\n",
    "locs, labels = plt.xticks(index + (bar_width/2.0), df_features.columns.values)\n",
    "plt.setp(labels, rotation=90)\n",
    "plt.xlim([0,np.size(x)])\n",
    "plt.ylim([0,1.5])\n",
    "\n",
    "# plot\n",
    "plt.savefig('MultiVar_features_diff_portGr.png', bbox_inches='tight')\n",
    "plt.show()"
   ]
  }
 ],
 "metadata": {
  "kernelspec": {
   "display_name": "Python 2",
   "language": "python",
   "name": "python2"
  },
  "language_info": {
   "codemirror_mode": {
    "name": "ipython",
    "version": 2
   },
   "file_extension": ".py",
   "mimetype": "text/x-python",
   "name": "python",
   "nbconvert_exporter": "python",
   "pygments_lexer": "ipython2",
   "version": "2.7.11"
  }
 },
 "nbformat": 4,
 "nbformat_minor": 0
}
