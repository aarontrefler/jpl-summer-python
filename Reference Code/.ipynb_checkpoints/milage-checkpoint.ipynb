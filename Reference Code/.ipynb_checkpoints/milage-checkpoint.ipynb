{
 "cells": [
  {
   "cell_type": "markdown",
   "metadata": {},
   "source": [
    "<h1>Instructions</h1>\n",
    "\n",
    "Download milage.csv (milage for 2016 vehicles)\n",
    "\n",
    "Munge the data with Pandas\n",
    "\n",
    "(1) 2pts: Convert Trans, Drive, Fuel, Veh Class, SmartWay column values to integers.\n",
    "\n",
    "(2) 2pts: Replace all N/A with medians for all numeric columns except the ones in the previous line: for those choose mode.\n",
    "\n",
    "(3) 2pts: Implement scale_features as per lecture, it should take one training example and return a vector of scaled and mean-normalized values.\n",
    "\n",
    "(4) 2pts: Replace all values in the dataframe with scaled and mean-normalized values.\n",
    "\n",
    "(5) 1pts: Convert to a numpy matrix using the numeric and converted columns above. \n",
    "\n",
    "(6) 2pts: Implement cost_function as per lecture/Ng videos: it takes the above numpy matrix and returns a cost value.\n",
    "\n",
    "(7) 2pts: Implement gradient as per lecture/Ng videos.\n",
    "\n",
    "(8) 3pts: Implement gradient_descent as per lecture/Ng videos. It should return a vector of trained parameters. It should take in a numpy array, num_iter (number of iterations),  and an alpha (learning rate).\n",
    "\n",
    "(9) 2pts: Run gradient_descent. Calculate the cost function values on the normalized data before and after, print these values.\n",
    "\n",
    "(10) 3pts: Plot a learning curve. Hint: do gradient descent and in each iteration, calculate cost each time, store it in an array. Use pylab.plot to do the plot: see http://matplotlib.org/users/pyplot_tutorial.html).\n",
    "\n",
    "(11) Extra Credit: Calculate theta weights using the Normal Equation.\n",
    "\n",
    "\n",
    "Do not print or ask anything of users via the console in the functions: They should take as parameters what was specified, and return what was specified, that's it! Name them exactly as I have them here: I need this so I can run my tests! Whenever possible, use numpy matrix operations rather than loops! The functions should not hard-code vector lengths or matrix shapes; they should take all compatible vectors and matrices shapes. Points will be taken for not following these requirements."
   ]
  },
  {
   "cell_type": "code",
   "execution_count": 34,
   "metadata": {
    "collapsed": false
   },
   "outputs": [],
   "source": [
    "import numpy as np\n",
    "import pandas as pd\n"
   ]
  },
  {
   "cell_type": "code",
   "execution_count": 35,
   "metadata": {
    "collapsed": true
   },
   "outputs": [],
   "source": [
    "# As desginated by tutorial: http://chrisalbon.com/python/pandas_list_unique_values_in_column.html\n",
    "# Set ipython's max row display\n",
    "pd.set_option('display.max_row', 1000)\n",
    "# Set iPython's max column width to 50\n",
    "pd.set_option('display.max_columns', 50) "
   ]
  },
  {
   "cell_type": "code",
   "execution_count": 36,
   "metadata": {
    "collapsed": false
   },
   "outputs": [
    {
     "data": {
      "text/html": [
       "<div>\n",
       "<table border=\"1\" class=\"dataframe\">\n",
       "  <thead>\n",
       "    <tr style=\"text-align: right;\">\n",
       "      <th></th>\n",
       "      <th>Model</th>\n",
       "      <th>Displ</th>\n",
       "      <th>Cyl</th>\n",
       "      <th>Trans</th>\n",
       "      <th>Drive</th>\n",
       "      <th>Fuel</th>\n",
       "      <th>Sales Area</th>\n",
       "      <th>Stnd</th>\n",
       "      <th>Stnd Description</th>\n",
       "      <th>Underhood ID</th>\n",
       "      <th>Veh Class</th>\n",
       "      <th>Smog Rating</th>\n",
       "      <th>City MPG</th>\n",
       "      <th>Hwy MPG</th>\n",
       "      <th>Cmb MPG</th>\n",
       "      <th>Greenhouse Gas Score</th>\n",
       "      <th>SmartWay</th>\n",
       "    </tr>\n",
       "  </thead>\n",
       "  <tbody>\n",
       "    <tr>\n",
       "      <th>0</th>\n",
       "      <td>ACURA ILX</td>\n",
       "      <td>2.4</td>\n",
       "      <td>4</td>\n",
       "      <td>AutoMan-8</td>\n",
       "      <td>2WD</td>\n",
       "      <td>Gasoline</td>\n",
       "      <td>CA</td>\n",
       "      <td>L3ULEV125</td>\n",
       "      <td>California LEV-III ULEV125</td>\n",
       "      <td>GHNXV02.4XH3</td>\n",
       "      <td>small car</td>\n",
       "      <td>6</td>\n",
       "      <td>25</td>\n",
       "      <td>36</td>\n",
       "      <td>29</td>\n",
       "      <td>7</td>\n",
       "      <td>Yes</td>\n",
       "    </tr>\n",
       "    <tr>\n",
       "      <th>1</th>\n",
       "      <td>ACURA RLX</td>\n",
       "      <td>3.5</td>\n",
       "      <td>6</td>\n",
       "      <td>AutoMan-7</td>\n",
       "      <td>4WD</td>\n",
       "      <td>Gasoline</td>\n",
       "      <td>FA</td>\n",
       "      <td>B3</td>\n",
       "      <td>Federal Tier 2 Bin 3</td>\n",
       "      <td>GHNXV03.5PK3</td>\n",
       "      <td>midsize car</td>\n",
       "      <td>7</td>\n",
       "      <td>28</td>\n",
       "      <td>32</td>\n",
       "      <td>30</td>\n",
       "      <td>7</td>\n",
       "      <td>Yes</td>\n",
       "    </tr>\n",
       "    <tr>\n",
       "      <th>2</th>\n",
       "      <td>ACURA RLX</td>\n",
       "      <td>3.5</td>\n",
       "      <td>6</td>\n",
       "      <td>AutoMan-7</td>\n",
       "      <td>4WD</td>\n",
       "      <td>Gasoline</td>\n",
       "      <td>CA</td>\n",
       "      <td>L3SULEV30</td>\n",
       "      <td>California LEV-III SULEV30</td>\n",
       "      <td>GHNXV03.5PK3</td>\n",
       "      <td>midsize car</td>\n",
       "      <td>8</td>\n",
       "      <td>28</td>\n",
       "      <td>32</td>\n",
       "      <td>30</td>\n",
       "      <td>7</td>\n",
       "      <td>Yes</td>\n",
       "    </tr>\n",
       "    <tr>\n",
       "      <th>3</th>\n",
       "      <td>ACURA TLX</td>\n",
       "      <td>2.4</td>\n",
       "      <td>4</td>\n",
       "      <td>AMS-8</td>\n",
       "      <td>2WD</td>\n",
       "      <td>Gasoline</td>\n",
       "      <td>CA</td>\n",
       "      <td>U2</td>\n",
       "      <td>California LEV-II ULEV</td>\n",
       "      <td>GHNXJ02.41A3</td>\n",
       "      <td>small car</td>\n",
       "      <td>6</td>\n",
       "      <td>24</td>\n",
       "      <td>35</td>\n",
       "      <td>28</td>\n",
       "      <td>7</td>\n",
       "      <td>Yes</td>\n",
       "    </tr>\n",
       "    <tr>\n",
       "      <th>4</th>\n",
       "      <td>AUDI A3 Cabriolet</td>\n",
       "      <td>1.8</td>\n",
       "      <td>4</td>\n",
       "      <td>AMS-6</td>\n",
       "      <td>2WD</td>\n",
       "      <td>Gasoline</td>\n",
       "      <td>FA</td>\n",
       "      <td>B2</td>\n",
       "      <td>Federal Tier 2 Bin 2</td>\n",
       "      <td>GVGAV02.0APA</td>\n",
       "      <td>small car</td>\n",
       "      <td>9</td>\n",
       "      <td>24</td>\n",
       "      <td>35</td>\n",
       "      <td>28</td>\n",
       "      <td>7</td>\n",
       "      <td>Yes</td>\n",
       "    </tr>\n",
       "  </tbody>\n",
       "</table>\n",
       "</div>"
      ],
      "text/plain": [
       "               Model  Displ  Cyl      Trans Drive      Fuel Sales Area  \\\n",
       "0          ACURA ILX    2.4    4  AutoMan-8   2WD  Gasoline         CA   \n",
       "1          ACURA RLX    3.5    6  AutoMan-7   4WD  Gasoline         FA   \n",
       "2          ACURA RLX    3.5    6  AutoMan-7   4WD  Gasoline         CA   \n",
       "3          ACURA TLX    2.4    4      AMS-8   2WD  Gasoline         CA   \n",
       "4  AUDI A3 Cabriolet    1.8    4      AMS-6   2WD  Gasoline         FA   \n",
       "\n",
       "        Stnd            Stnd Description  Underhood ID    Veh Class  \\\n",
       "0  L3ULEV125  California LEV-III ULEV125  GHNXV02.4XH3    small car   \n",
       "1         B3        Federal Tier 2 Bin 3  GHNXV03.5PK3  midsize car   \n",
       "2  L3SULEV30  California LEV-III SULEV30  GHNXV03.5PK3  midsize car   \n",
       "3         U2      California LEV-II ULEV  GHNXJ02.41A3    small car   \n",
       "4         B2        Federal Tier 2 Bin 2  GVGAV02.0APA    small car   \n",
       "\n",
       "   Smog Rating City MPG Hwy MPG Cmb MPG  Greenhouse Gas Score SmartWay  \n",
       "0            6       25      36      29                     7      Yes  \n",
       "1            7       28      32      30                     7      Yes  \n",
       "2            8       28      32      30                     7      Yes  \n",
       "3            6       24      35      28                     7      Yes  \n",
       "4            9       24      35      28                     7      Yes  "
      ]
     },
     "execution_count": 36,
     "metadata": {},
     "output_type": "execute_result"
    }
   ],
   "source": [
    "# import data with Pandas\n",
    "df = pd.read_csv('milage.csv')\n",
    "df.head()"
   ]
  },
  {
   "cell_type": "code",
   "execution_count": 37,
   "metadata": {
    "collapsed": false
   },
   "outputs": [
    {
     "name": "stdout",
     "output_type": "stream",
     "text": [
      "<class 'pandas.core.frame.DataFrame'>\n",
      "Int64Index: 415 entries, 0 to 414\n",
      "Data columns (total 17 columns):\n",
      "Model                   415 non-null object\n",
      "Displ                   386 non-null float64\n",
      "Cyl                     386 non-null float64\n",
      "Trans                   415 non-null object\n",
      "Drive                   415 non-null object\n",
      "Fuel                    415 non-null object\n",
      "Sales Area              415 non-null object\n",
      "Stnd                    415 non-null object\n",
      "Stnd Description        415 non-null object\n",
      "Underhood ID            415 non-null object\n",
      "Veh Class               415 non-null object\n",
      "Smog Rating             415 non-null int64\n",
      "City MPG                415 non-null object\n",
      "Hwy MPG                 415 non-null object\n",
      "Cmb MPG                 415 non-null object\n",
      "Greenhouse Gas Score    415 non-null int64\n",
      "SmartWay                415 non-null object\n",
      "dtypes: float64(2), int64(2), object(13)\n",
      "memory usage: 58.4+ KB\n"
     ]
    }
   ],
   "source": [
    "df.info()"
   ]
  },
  {
   "cell_type": "markdown",
   "metadata": {},
   "source": [
    "<h1>(1) 2pts: Convert Trans, Drive, Fuel, Veh Class, SmartWay column values to integers.</h1>"
   ]
  },
  {
   "cell_type": "markdown",
   "metadata": {},
   "source": [
    "<h4>Trans</h4>"
   ]
  },
  {
   "cell_type": "code",
   "execution_count": 38,
   "metadata": {
    "collapsed": false
   },
   "outputs": [
    {
     "data": {
      "text/plain": [
       "array(['AutoMan-8', 'AutoMan-7', 'AMS-8', 'AMS-6', 'AMS-7', 'Man-1',\n",
       "       'Man-6', 'SemiAuto-8', 'SemiAuto-6', 'CVT', 'Auto-6', 'Man-5',\n",
       "       'Auto-1', 'Auto-9', 'AutoMan-6', 'SCV-7', 'SCV-6', 'Auto-7',\n",
       "       'Auto-4'], dtype=object)"
      ]
     },
     "execution_count": 38,
     "metadata": {},
     "output_type": "execute_result"
    }
   ],
   "source": [
    "# find unique column values\n",
    "pd.unique(df['Trans'].ravel())"
   ]
  },
  {
   "cell_type": "code",
   "execution_count": 39,
   "metadata": {
    "collapsed": false
   },
   "outputs": [
    {
     "data": {
      "text/html": [
       "<div>\n",
       "<table border=\"1\" class=\"dataframe\">\n",
       "  <thead>\n",
       "    <tr style=\"text-align: right;\">\n",
       "      <th></th>\n",
       "      <th>Trans</th>\n",
       "      <th>Trans_Num</th>\n",
       "    </tr>\n",
       "  </thead>\n",
       "  <tbody>\n",
       "    <tr>\n",
       "      <th>0</th>\n",
       "      <td>AutoMan-8</td>\n",
       "      <td>0</td>\n",
       "    </tr>\n",
       "    <tr>\n",
       "      <th>1</th>\n",
       "      <td>AutoMan-7</td>\n",
       "      <td>1</td>\n",
       "    </tr>\n",
       "    <tr>\n",
       "      <th>2</th>\n",
       "      <td>AutoMan-7</td>\n",
       "      <td>1</td>\n",
       "    </tr>\n",
       "    <tr>\n",
       "      <th>3</th>\n",
       "      <td>AMS-8</td>\n",
       "      <td>2</td>\n",
       "    </tr>\n",
       "    <tr>\n",
       "      <th>4</th>\n",
       "      <td>AMS-6</td>\n",
       "      <td>3</td>\n",
       "    </tr>\n",
       "  </tbody>\n",
       "</table>\n",
       "</div>"
      ],
      "text/plain": [
       "       Trans  Trans_Num\n",
       "0  AutoMan-8          0\n",
       "1  AutoMan-7          1\n",
       "2  AutoMan-7          1\n",
       "3      AMS-8          2\n",
       "4      AMS-6          3"
      ]
     },
     "execution_count": 39,
     "metadata": {},
     "output_type": "execute_result"
    }
   ],
   "source": [
    "# map values\n",
    "df['Trans_Num'] = df['Trans'].map({ \\\n",
    "    'AutoMan-8': 0, 'AutoMan-7': 1, 'AMS-8': 2, 'AMS-6': 3, 'AMS-7': 4, \\\n",
    "    'Man-1': 5, 'Man-6': 6, 'SemiAuto-8': 7, 'SemiAuto-6': 8, 'CVT': 9, \\\n",
    "    'Auto-6': 10, 'Man-5': 11, 'Auto-1': 12, 'Auto-9': 13, \\\n",
    "    'AutoMan-6': 14, 'SCV-7': 15, 'SCV-6': 16, 'Auto-7': 17, 'Auto-4': 18})\n",
    "\n",
    "# convert dtype\n",
    "df['Trans_Num'] = df['Trans_Num'].astype(int)\n",
    "\n",
    "# display mapped values\n",
    "df[['Trans','Trans_Num']].head()"
   ]
  },
  {
   "cell_type": "markdown",
   "metadata": {},
   "source": [
    "<h4>Drive</h4>"
   ]
  },
  {
   "cell_type": "code",
   "execution_count": 40,
   "metadata": {
    "collapsed": false
   },
   "outputs": [
    {
     "data": {
      "text/plain": [
       "array(['2WD', '4WD'], dtype=object)"
      ]
     },
     "execution_count": 40,
     "metadata": {},
     "output_type": "execute_result"
    }
   ],
   "source": [
    "# find unique column values\n",
    "pd.unique(df['Drive'].ravel())"
   ]
  },
  {
   "cell_type": "code",
   "execution_count": 41,
   "metadata": {
    "collapsed": false
   },
   "outputs": [
    {
     "data": {
      "text/html": [
       "<div>\n",
       "<table border=\"1\" class=\"dataframe\">\n",
       "  <thead>\n",
       "    <tr style=\"text-align: right;\">\n",
       "      <th></th>\n",
       "      <th>Drive</th>\n",
       "      <th>Drive_Num</th>\n",
       "    </tr>\n",
       "  </thead>\n",
       "  <tbody>\n",
       "    <tr>\n",
       "      <th>0</th>\n",
       "      <td>2WD</td>\n",
       "      <td>0</td>\n",
       "    </tr>\n",
       "    <tr>\n",
       "      <th>1</th>\n",
       "      <td>4WD</td>\n",
       "      <td>1</td>\n",
       "    </tr>\n",
       "    <tr>\n",
       "      <th>2</th>\n",
       "      <td>4WD</td>\n",
       "      <td>1</td>\n",
       "    </tr>\n",
       "    <tr>\n",
       "      <th>3</th>\n",
       "      <td>2WD</td>\n",
       "      <td>0</td>\n",
       "    </tr>\n",
       "    <tr>\n",
       "      <th>4</th>\n",
       "      <td>2WD</td>\n",
       "      <td>0</td>\n",
       "    </tr>\n",
       "  </tbody>\n",
       "</table>\n",
       "</div>"
      ],
      "text/plain": [
       "  Drive  Drive_Num\n",
       "0   2WD          0\n",
       "1   4WD          1\n",
       "2   4WD          1\n",
       "3   2WD          0\n",
       "4   2WD          0"
      ]
     },
     "execution_count": 41,
     "metadata": {},
     "output_type": "execute_result"
    }
   ],
   "source": [
    "# map values\n",
    "df['Drive_Num'] = df['Drive'].map({'2WD': 0, '4WD': 1})\n",
    "\n",
    "# convert dtype\n",
    "df['Drive_Num'] = df['Drive_Num'].astype(int)\n",
    "\n",
    "# display mapped values\n",
    "df[['Drive','Drive_Num']].head()"
   ]
  },
  {
   "cell_type": "markdown",
   "metadata": {},
   "source": [
    "<h4>Fuel</h4>"
   ]
  },
  {
   "cell_type": "code",
   "execution_count": 42,
   "metadata": {
    "collapsed": false
   },
   "outputs": [
    {
     "data": {
      "text/plain": [
       "array(['Gasoline', 'Electricity', 'Diesel', 'Gasoline/Electricity',\n",
       "       'Ethanol/Gas', 'Hydrogen'], dtype=object)"
      ]
     },
     "execution_count": 42,
     "metadata": {},
     "output_type": "execute_result"
    }
   ],
   "source": [
    "# find unique column values\n",
    "pd.unique(df['Fuel'].ravel())"
   ]
  },
  {
   "cell_type": "code",
   "execution_count": 43,
   "metadata": {
    "collapsed": false
   },
   "outputs": [
    {
     "data": {
      "text/html": [
       "<div>\n",
       "<table border=\"1\" class=\"dataframe\">\n",
       "  <thead>\n",
       "    <tr style=\"text-align: right;\">\n",
       "      <th></th>\n",
       "      <th>Fuel</th>\n",
       "      <th>Fuel_Num</th>\n",
       "    </tr>\n",
       "  </thead>\n",
       "  <tbody>\n",
       "    <tr>\n",
       "      <th>0</th>\n",
       "      <td>Gasoline</td>\n",
       "      <td>0</td>\n",
       "    </tr>\n",
       "    <tr>\n",
       "      <th>1</th>\n",
       "      <td>Gasoline</td>\n",
       "      <td>0</td>\n",
       "    </tr>\n",
       "    <tr>\n",
       "      <th>2</th>\n",
       "      <td>Gasoline</td>\n",
       "      <td>0</td>\n",
       "    </tr>\n",
       "    <tr>\n",
       "      <th>3</th>\n",
       "      <td>Gasoline</td>\n",
       "      <td>0</td>\n",
       "    </tr>\n",
       "    <tr>\n",
       "      <th>4</th>\n",
       "      <td>Gasoline</td>\n",
       "      <td>0</td>\n",
       "    </tr>\n",
       "  </tbody>\n",
       "</table>\n",
       "</div>"
      ],
      "text/plain": [
       "       Fuel  Fuel_Num\n",
       "0  Gasoline         0\n",
       "1  Gasoline         0\n",
       "2  Gasoline         0\n",
       "3  Gasoline         0\n",
       "4  Gasoline         0"
      ]
     },
     "execution_count": 43,
     "metadata": {},
     "output_type": "execute_result"
    }
   ],
   "source": [
    "# map values\n",
    "df['Fuel_Num'] = df['Fuel'].map({'Gasoline': 0, 'Electricity': 1, \\\n",
    "    'Diesel': 2, 'Gasoline/Electricity': 3, 'Ethanol/Gas': 4, \\\n",
    "    'Hydrogen': 5})\n",
    "\n",
    "# convert dtype\n",
    "df['Fuel_Num'] = df['Fuel_Num'].astype(int)\n",
    "\n",
    "# display mapped values\n",
    "df[['Fuel','Fuel_Num']].head()"
   ]
  },
  {
   "cell_type": "markdown",
   "metadata": {},
   "source": [
    "<h4>Veh Class</h4>"
   ]
  },
  {
   "cell_type": "code",
   "execution_count": 44,
   "metadata": {
    "collapsed": false
   },
   "outputs": [
    {
     "data": {
      "text/plain": [
       "array(['small car', 'midsize car', 'station wagon', 'standard SUV',\n",
       "       'small SUV', 'large car'], dtype=object)"
      ]
     },
     "execution_count": 44,
     "metadata": {},
     "output_type": "execute_result"
    }
   ],
   "source": [
    "# find unique column values\n",
    "pd.unique(df['Veh Class'].ravel())"
   ]
  },
  {
   "cell_type": "code",
   "execution_count": 45,
   "metadata": {
    "collapsed": false
   },
   "outputs": [
    {
     "data": {
      "text/html": [
       "<div>\n",
       "<table border=\"1\" class=\"dataframe\">\n",
       "  <thead>\n",
       "    <tr style=\"text-align: right;\">\n",
       "      <th></th>\n",
       "      <th>Veh Class</th>\n",
       "      <th>Veh Class_Num</th>\n",
       "    </tr>\n",
       "  </thead>\n",
       "  <tbody>\n",
       "    <tr>\n",
       "      <th>0</th>\n",
       "      <td>small car</td>\n",
       "      <td>0</td>\n",
       "    </tr>\n",
       "    <tr>\n",
       "      <th>1</th>\n",
       "      <td>midsize car</td>\n",
       "      <td>1</td>\n",
       "    </tr>\n",
       "    <tr>\n",
       "      <th>2</th>\n",
       "      <td>midsize car</td>\n",
       "      <td>1</td>\n",
       "    </tr>\n",
       "    <tr>\n",
       "      <th>3</th>\n",
       "      <td>small car</td>\n",
       "      <td>0</td>\n",
       "    </tr>\n",
       "    <tr>\n",
       "      <th>4</th>\n",
       "      <td>small car</td>\n",
       "      <td>0</td>\n",
       "    </tr>\n",
       "  </tbody>\n",
       "</table>\n",
       "</div>"
      ],
      "text/plain": [
       "     Veh Class  Veh Class_Num\n",
       "0    small car              0\n",
       "1  midsize car              1\n",
       "2  midsize car              1\n",
       "3    small car              0\n",
       "4    small car              0"
      ]
     },
     "execution_count": 45,
     "metadata": {},
     "output_type": "execute_result"
    }
   ],
   "source": [
    "# map values\n",
    "df['Veh Class_Num'] = df['Veh Class'].map({'small car': 0, 'midsize car': 1, \\\n",
    "    'station wagon': 2, 'standard SUV': 3, 'small SUV': 4, \\\n",
    "    'large car': 4})\n",
    "\n",
    "# convert dtype\n",
    "df['Veh Class_Num'] = df['Veh Class_Num'].astype(int)\n",
    "\n",
    "# display mapped values\n",
    "df[['Veh Class','Veh Class_Num']].head()"
   ]
  },
  {
   "cell_type": "markdown",
   "metadata": {},
   "source": [
    "<h4>SmartWay</h4>"
   ]
  },
  {
   "cell_type": "code",
   "execution_count": 46,
   "metadata": {
    "collapsed": false
   },
   "outputs": [
    {
     "data": {
      "text/plain": [
       "array(['Yes', 'Elite'], dtype=object)"
      ]
     },
     "execution_count": 46,
     "metadata": {},
     "output_type": "execute_result"
    }
   ],
   "source": [
    "# find unique column values\n",
    "pd.unique(df['SmartWay'].ravel())"
   ]
  },
  {
   "cell_type": "code",
   "execution_count": 47,
   "metadata": {
    "collapsed": false
   },
   "outputs": [
    {
     "data": {
      "text/html": [
       "<div>\n",
       "<table border=\"1\" class=\"dataframe\">\n",
       "  <thead>\n",
       "    <tr style=\"text-align: right;\">\n",
       "      <th></th>\n",
       "      <th>SmartWay</th>\n",
       "      <th>SmartWay_Num</th>\n",
       "    </tr>\n",
       "  </thead>\n",
       "  <tbody>\n",
       "    <tr>\n",
       "      <th>0</th>\n",
       "      <td>Yes</td>\n",
       "      <td>0</td>\n",
       "    </tr>\n",
       "    <tr>\n",
       "      <th>1</th>\n",
       "      <td>Yes</td>\n",
       "      <td>0</td>\n",
       "    </tr>\n",
       "    <tr>\n",
       "      <th>2</th>\n",
       "      <td>Yes</td>\n",
       "      <td>0</td>\n",
       "    </tr>\n",
       "    <tr>\n",
       "      <th>3</th>\n",
       "      <td>Yes</td>\n",
       "      <td>0</td>\n",
       "    </tr>\n",
       "    <tr>\n",
       "      <th>4</th>\n",
       "      <td>Yes</td>\n",
       "      <td>0</td>\n",
       "    </tr>\n",
       "  </tbody>\n",
       "</table>\n",
       "</div>"
      ],
      "text/plain": [
       "  SmartWay  SmartWay_Num\n",
       "0      Yes             0\n",
       "1      Yes             0\n",
       "2      Yes             0\n",
       "3      Yes             0\n",
       "4      Yes             0"
      ]
     },
     "execution_count": 47,
     "metadata": {},
     "output_type": "execute_result"
    }
   ],
   "source": [
    "# map values\n",
    "df['SmartWay_Num'] = df['SmartWay'].map({'Yes': 0, 'Elite': 1})\n",
    "\n",
    "# convert dtype\n",
    "df['SmartWay_Num'] = df['SmartWay_Num'].astype(int)\n",
    "\n",
    "# display mapped values\n",
    "df[['SmartWay','SmartWay_Num']].head()"
   ]
  },
  {
   "cell_type": "code",
   "execution_count": 48,
   "metadata": {
    "collapsed": false
   },
   "outputs": [
    {
     "name": "stdout",
     "output_type": "stream",
     "text": [
      "<class 'pandas.core.frame.DataFrame'>\n",
      "Int64Index: 415 entries, 0 to 414\n",
      "Data columns (total 22 columns):\n",
      "Model                   415 non-null object\n",
      "Displ                   386 non-null float64\n",
      "Cyl                     386 non-null float64\n",
      "Trans                   415 non-null object\n",
      "Drive                   415 non-null object\n",
      "Fuel                    415 non-null object\n",
      "Sales Area              415 non-null object\n",
      "Stnd                    415 non-null object\n",
      "Stnd Description        415 non-null object\n",
      "Underhood ID            415 non-null object\n",
      "Veh Class               415 non-null object\n",
      "Smog Rating             415 non-null int64\n",
      "City MPG                415 non-null object\n",
      "Hwy MPG                 415 non-null object\n",
      "Cmb MPG                 415 non-null object\n",
      "Greenhouse Gas Score    415 non-null int64\n",
      "SmartWay                415 non-null object\n",
      "Trans_Num               415 non-null int64\n",
      "Drive_Num               415 non-null int64\n",
      "Fuel_Num                415 non-null int64\n",
      "Veh Class_Num           415 non-null int64\n",
      "SmartWay_Num            415 non-null int64\n",
      "dtypes: float64(2), int64(7), object(13)\n",
      "memory usage: 74.6+ KB\n"
     ]
    }
   ],
   "source": [
    "df.info()"
   ]
  },
  {
   "cell_type": "markdown",
   "metadata": {},
   "source": [
    "<h1>(2) 2pts: Replace all N/A with medians for all numeric columns except the ones in the previous line: for those choose mode.</h1>\n",
    "\n",
    "<h4>Columns with missing values: Displ, Cyl</h4>"
   ]
  },
  {
   "cell_type": "markdown",
   "metadata": {},
   "source": [
    "<h4>Displ</h4>"
   ]
  },
  {
   "cell_type": "code",
   "execution_count": 49,
   "metadata": {
    "collapsed": false
   },
   "outputs": [
    {
     "data": {
      "text/html": [
       "<div>\n",
       "<table border=\"1\" class=\"dataframe\">\n",
       "  <thead>\n",
       "    <tr style=\"text-align: right;\">\n",
       "      <th></th>\n",
       "      <th>Displ</th>\n",
       "      <th>Displ_Fill</th>\n",
       "    </tr>\n",
       "  </thead>\n",
       "  <tbody>\n",
       "    <tr>\n",
       "      <th>8</th>\n",
       "      <td>NaN</td>\n",
       "      <td>NaN</td>\n",
       "    </tr>\n",
       "    <tr>\n",
       "      <th>9</th>\n",
       "      <td>NaN</td>\n",
       "      <td>NaN</td>\n",
       "    </tr>\n",
       "    <tr>\n",
       "      <th>71</th>\n",
       "      <td>NaN</td>\n",
       "      <td>NaN</td>\n",
       "    </tr>\n",
       "    <tr>\n",
       "      <th>72</th>\n",
       "      <td>NaN</td>\n",
       "      <td>NaN</td>\n",
       "    </tr>\n",
       "    <tr>\n",
       "      <th>120</th>\n",
       "      <td>NaN</td>\n",
       "      <td>NaN</td>\n",
       "    </tr>\n",
       "  </tbody>\n",
       "</table>\n",
       "</div>"
      ],
      "text/plain": [
       "     Displ  Displ_Fill\n",
       "8      NaN         NaN\n",
       "9      NaN         NaN\n",
       "71     NaN         NaN\n",
       "72     NaN         NaN\n",
       "120    NaN         NaN"
      ]
     },
     "execution_count": 49,
     "metadata": {},
     "output_type": "execute_result"
    }
   ],
   "source": [
    "# create new column\n",
    "df['Displ_Fill'] = df['Displ']\n",
    "\n",
    "# display missing rows\n",
    "null_rows = df['Displ_Fill'].isnull()\n",
    "df[['Displ', 'Displ_Fill']][null_rows].head()"
   ]
  },
  {
   "cell_type": "code",
   "execution_count": 50,
   "metadata": {
    "collapsed": false
   },
   "outputs": [
    {
     "data": {
      "text/html": [
       "<div>\n",
       "<table border=\"1\" class=\"dataframe\">\n",
       "  <thead>\n",
       "    <tr style=\"text-align: right;\">\n",
       "      <th></th>\n",
       "      <th>Displ</th>\n",
       "      <th>Displ_Fill</th>\n",
       "    </tr>\n",
       "  </thead>\n",
       "  <tbody>\n",
       "    <tr>\n",
       "      <th>8</th>\n",
       "      <td>NaN</td>\n",
       "      <td>1.8</td>\n",
       "    </tr>\n",
       "    <tr>\n",
       "      <th>9</th>\n",
       "      <td>NaN</td>\n",
       "      <td>1.8</td>\n",
       "    </tr>\n",
       "    <tr>\n",
       "      <th>71</th>\n",
       "      <td>NaN</td>\n",
       "      <td>1.8</td>\n",
       "    </tr>\n",
       "    <tr>\n",
       "      <th>72</th>\n",
       "      <td>NaN</td>\n",
       "      <td>1.8</td>\n",
       "    </tr>\n",
       "    <tr>\n",
       "      <th>120</th>\n",
       "      <td>NaN</td>\n",
       "      <td>1.8</td>\n",
       "    </tr>\n",
       "  </tbody>\n",
       "</table>\n",
       "</div>"
      ],
      "text/plain": [
       "     Displ  Displ_Fill\n",
       "8      NaN         1.8\n",
       "9      NaN         1.8\n",
       "71     NaN         1.8\n",
       "72     NaN         1.8\n",
       "120    NaN         1.8"
      ]
     },
     "execution_count": 50,
     "metadata": {},
     "output_type": "execute_result"
    }
   ],
   "source": [
    "# calculate median\n",
    "median = df['Displ_Fill'].dropna().median()\n",
    "\n",
    "# fill missing values\n",
    "df.loc[df['Displ_Fill'].isnull(), 'Displ_Fill'] = median\n",
    "df[['Displ', 'Displ_Fill']][null_rows].head()"
   ]
  },
  {
   "cell_type": "markdown",
   "metadata": {},
   "source": [
    "<h4>Cyl</h4>"
   ]
  },
  {
   "cell_type": "code",
   "execution_count": 51,
   "metadata": {
    "collapsed": false
   },
   "outputs": [
    {
     "data": {
      "text/html": [
       "<div>\n",
       "<table border=\"1\" class=\"dataframe\">\n",
       "  <thead>\n",
       "    <tr style=\"text-align: right;\">\n",
       "      <th></th>\n",
       "      <th>Cyl</th>\n",
       "      <th>Cyl_Fill</th>\n",
       "    </tr>\n",
       "  </thead>\n",
       "  <tbody>\n",
       "    <tr>\n",
       "      <th>8</th>\n",
       "      <td>NaN</td>\n",
       "      <td>NaN</td>\n",
       "    </tr>\n",
       "    <tr>\n",
       "      <th>9</th>\n",
       "      <td>NaN</td>\n",
       "      <td>NaN</td>\n",
       "    </tr>\n",
       "    <tr>\n",
       "      <th>71</th>\n",
       "      <td>NaN</td>\n",
       "      <td>NaN</td>\n",
       "    </tr>\n",
       "    <tr>\n",
       "      <th>72</th>\n",
       "      <td>NaN</td>\n",
       "      <td>NaN</td>\n",
       "    </tr>\n",
       "    <tr>\n",
       "      <th>120</th>\n",
       "      <td>NaN</td>\n",
       "      <td>NaN</td>\n",
       "    </tr>\n",
       "  </tbody>\n",
       "</table>\n",
       "</div>"
      ],
      "text/plain": [
       "     Cyl  Cyl_Fill\n",
       "8    NaN       NaN\n",
       "9    NaN       NaN\n",
       "71   NaN       NaN\n",
       "72   NaN       NaN\n",
       "120  NaN       NaN"
      ]
     },
     "execution_count": 51,
     "metadata": {},
     "output_type": "execute_result"
    }
   ],
   "source": [
    "# create new column\n",
    "df['Cyl_Fill'] = df['Cyl']\n",
    "\n",
    "# display missing rows\n",
    "null_rows = df['Cyl_Fill'].isnull()\n",
    "df[['Cyl', 'Cyl_Fill']][null_rows].head()"
   ]
  },
  {
   "cell_type": "code",
   "execution_count": 52,
   "metadata": {
    "collapsed": false
   },
   "outputs": [
    {
     "data": {
      "text/html": [
       "<div>\n",
       "<table border=\"1\" class=\"dataframe\">\n",
       "  <thead>\n",
       "    <tr style=\"text-align: right;\">\n",
       "      <th></th>\n",
       "      <th>Cyl</th>\n",
       "      <th>Cyl_Fill</th>\n",
       "    </tr>\n",
       "  </thead>\n",
       "  <tbody>\n",
       "    <tr>\n",
       "      <th>8</th>\n",
       "      <td>NaN</td>\n",
       "      <td>4</td>\n",
       "    </tr>\n",
       "    <tr>\n",
       "      <th>9</th>\n",
       "      <td>NaN</td>\n",
       "      <td>4</td>\n",
       "    </tr>\n",
       "    <tr>\n",
       "      <th>71</th>\n",
       "      <td>NaN</td>\n",
       "      <td>4</td>\n",
       "    </tr>\n",
       "    <tr>\n",
       "      <th>72</th>\n",
       "      <td>NaN</td>\n",
       "      <td>4</td>\n",
       "    </tr>\n",
       "    <tr>\n",
       "      <th>120</th>\n",
       "      <td>NaN</td>\n",
       "      <td>4</td>\n",
       "    </tr>\n",
       "  </tbody>\n",
       "</table>\n",
       "</div>"
      ],
      "text/plain": [
       "     Cyl  Cyl_Fill\n",
       "8    NaN         4\n",
       "9    NaN         4\n",
       "71   NaN         4\n",
       "72   NaN         4\n",
       "120  NaN         4"
      ]
     },
     "execution_count": 52,
     "metadata": {},
     "output_type": "execute_result"
    }
   ],
   "source": [
    "# calculate median\n",
    "median = df['Cyl_Fill'].dropna().median()\n",
    "\n",
    "# fill missing values\n",
    "df.loc[df['Cyl_Fill'].isnull(), 'Cyl_Fill'] = median\n",
    "df[['Cyl', 'Cyl_Fill']][null_rows].head()"
   ]
  },
  {
   "cell_type": "markdown",
   "metadata": {},
   "source": [
    "<h3>Remove examples with \"Gasoline/Electric\" or \"Ethanol/Gas\" string values from Cmb MPG column.</h3>"
   ]
  },
  {
   "cell_type": "code",
   "execution_count": 53,
   "metadata": {
    "collapsed": true
   },
   "outputs": [],
   "source": [
    "# function: cmb_mpg_avg\n",
    "# input: vector of examples containing two values in the form \"value1/value2\"\n",
    "# output: vector of single values (i.e., average of value 1 and 2)\n",
    "\n",
    "def cmb_mpg_avg(v):\n",
    "    \n",
    "    values = v.str.split('/')\n",
    "    values = pd.eval(values).astype(float)\n",
    "    \n",
    "    v1 = values[:,0]\n",
    "    v2 = values[:,1]\n",
    "    \n",
    "    v_avg = (v1 + v2) / 2.0\n",
    "    return v_avg\n",
    "    "
   ]
  },
  {
   "cell_type": "code",
   "execution_count": 54,
   "metadata": {
    "collapsed": false
   },
   "outputs": [],
   "source": [
    "# convert Cmb MPG to float\n",
    "df['Cmb MPG_Num'] = pd.to_numeric(df['Cmb MPG'], errors='coerce')\n",
    "\n",
    "# find rows where Cmb MPG is a fraction\n",
    "null_rows = df['Cmb MPG_Num'].isnull()\n",
    "#df[null_rows]\n",
    "\n",
    "# evaluate string values by taking the average\n",
    "values = cmb_mpg_avg(df['Cmb MPG'][null_rows])\n",
    "\n",
    "# insert evaluated values into Cmb MPG_Num\n",
    "df.loc[df['Cmb MPG_Num'].isnull(), 'Cmb MPG_Num'] = values"
   ]
  },
  {
   "cell_type": "markdown",
   "metadata": {},
   "source": [
    "<h1>(3) 2pts: Implement scale_features as per lecture, it should take one training example and return a vector of scaled and mean-normalized values.</h1>"
   ]
  },
  {
   "cell_type": "code",
   "execution_count": 55,
   "metadata": {
    "collapsed": true
   },
   "outputs": [],
   "source": [
    "# function: scale_features\n",
    "# input: vector containing a single feature's values for all training examples\n",
    "# output: vector containing scaled and mean-normalized feature values\n",
    "\n",
    "def scale_features(f):\n",
    "    mean = np.mean(f)\n",
    "    std = np.std(f)\n",
    "    return (f - mean) / std"
   ]
  },
  {
   "cell_type": "markdown",
   "metadata": {},
   "source": [
    "<h1>(4) 2pts: Replace all values in the dataframe with scaled and mean-normalized values.</h1>"
   ]
  },
  {
   "cell_type": "code",
   "execution_count": 56,
   "metadata": {
    "collapsed": false
   },
   "outputs": [
    {
     "data": {
      "text/html": [
       "<div>\n",
       "<table border=\"1\" class=\"dataframe\">\n",
       "  <thead>\n",
       "    <tr style=\"text-align: right;\">\n",
       "      <th></th>\n",
       "      <th>Smog Rating</th>\n",
       "      <th>Greenhouse Gas Score</th>\n",
       "      <th>Trans_Num</th>\n",
       "      <th>Drive_Num</th>\n",
       "      <th>Fuel_Num</th>\n",
       "      <th>Veh Class_Num</th>\n",
       "      <th>SmartWay_Num</th>\n",
       "      <th>Displ_Fill</th>\n",
       "      <th>Cyl_Fill</th>\n",
       "      <th>Cmb MPG_Num</th>\n",
       "    </tr>\n",
       "  </thead>\n",
       "  <tbody>\n",
       "    <tr>\n",
       "      <th>0</th>\n",
       "      <td>6</td>\n",
       "      <td>7</td>\n",
       "      <td>0</td>\n",
       "      <td>0</td>\n",
       "      <td>0</td>\n",
       "      <td>0</td>\n",
       "      <td>0</td>\n",
       "      <td>2.4</td>\n",
       "      <td>4</td>\n",
       "      <td>29</td>\n",
       "    </tr>\n",
       "    <tr>\n",
       "      <th>1</th>\n",
       "      <td>7</td>\n",
       "      <td>7</td>\n",
       "      <td>1</td>\n",
       "      <td>1</td>\n",
       "      <td>0</td>\n",
       "      <td>1</td>\n",
       "      <td>0</td>\n",
       "      <td>3.5</td>\n",
       "      <td>6</td>\n",
       "      <td>30</td>\n",
       "    </tr>\n",
       "    <tr>\n",
       "      <th>2</th>\n",
       "      <td>8</td>\n",
       "      <td>7</td>\n",
       "      <td>1</td>\n",
       "      <td>1</td>\n",
       "      <td>0</td>\n",
       "      <td>1</td>\n",
       "      <td>0</td>\n",
       "      <td>3.5</td>\n",
       "      <td>6</td>\n",
       "      <td>30</td>\n",
       "    </tr>\n",
       "    <tr>\n",
       "      <th>3</th>\n",
       "      <td>6</td>\n",
       "      <td>7</td>\n",
       "      <td>2</td>\n",
       "      <td>0</td>\n",
       "      <td>0</td>\n",
       "      <td>0</td>\n",
       "      <td>0</td>\n",
       "      <td>2.4</td>\n",
       "      <td>4</td>\n",
       "      <td>28</td>\n",
       "    </tr>\n",
       "    <tr>\n",
       "      <th>4</th>\n",
       "      <td>9</td>\n",
       "      <td>7</td>\n",
       "      <td>3</td>\n",
       "      <td>0</td>\n",
       "      <td>0</td>\n",
       "      <td>0</td>\n",
       "      <td>0</td>\n",
       "      <td>1.8</td>\n",
       "      <td>4</td>\n",
       "      <td>28</td>\n",
       "    </tr>\n",
       "  </tbody>\n",
       "</table>\n",
       "</div>"
      ],
      "text/plain": [
       "   Smog Rating  Greenhouse Gas Score  Trans_Num  Drive_Num  Fuel_Num  \\\n",
       "0            6                     7          0          0         0   \n",
       "1            7                     7          1          1         0   \n",
       "2            8                     7          1          1         0   \n",
       "3            6                     7          2          0         0   \n",
       "4            9                     7          3          0         0   \n",
       "\n",
       "   Veh Class_Num  SmartWay_Num  Displ_Fill  Cyl_Fill  Cmb MPG_Num  \n",
       "0              0             0         2.4         4           29  \n",
       "1              1             0         3.5         6           30  \n",
       "2              1             0         3.5         6           30  \n",
       "3              0             0         2.4         4           28  \n",
       "4              0             0         1.8         4           28  "
      ]
     },
     "execution_count": 56,
     "metadata": {},
     "output_type": "execute_result"
    }
   ],
   "source": [
    "# select only numeric columns for new dataframe\n",
    "df_data = df.select_dtypes(['float64', 'int64'])\n",
    "del df_data['Displ']\n",
    "del df_data['Cyl']\n",
    "df_data.head()"
   ]
  },
  {
   "cell_type": "code",
   "execution_count": 57,
   "metadata": {
    "collapsed": false
   },
   "outputs": [
    {
     "data": {
      "text/html": [
       "<div>\n",
       "<table border=\"1\" class=\"dataframe\">\n",
       "  <thead>\n",
       "    <tr style=\"text-align: right;\">\n",
       "      <th></th>\n",
       "      <th>Smog Rating</th>\n",
       "      <th>Greenhouse Gas Score</th>\n",
       "      <th>Trans_Num</th>\n",
       "      <th>Drive_Num</th>\n",
       "      <th>Fuel_Num</th>\n",
       "      <th>Veh Class_Num</th>\n",
       "      <th>SmartWay_Num</th>\n",
       "      <th>Displ_Fill</th>\n",
       "      <th>Cyl_Fill</th>\n",
       "      <th>Cmb MPG_Num</th>\n",
       "    </tr>\n",
       "  </thead>\n",
       "  <tbody>\n",
       "    <tr>\n",
       "      <th>0</th>\n",
       "      <td>-0.694226</td>\n",
       "      <td>-0.742857</td>\n",
       "      <td>-2.545273</td>\n",
       "      <td>-0.326599</td>\n",
       "      <td>-0.35663</td>\n",
       "      <td>-0.822402</td>\n",
       "      <td>-0.293917</td>\n",
       "      <td>1.276235</td>\n",
       "      <td>-0.069589</td>\n",
       "      <td>29</td>\n",
       "    </tr>\n",
       "    <tr>\n",
       "      <th>1</th>\n",
       "      <td>-0.024217</td>\n",
       "      <td>-0.742857</td>\n",
       "      <td>-2.268104</td>\n",
       "      <td>3.061862</td>\n",
       "      <td>-0.35663</td>\n",
       "      <td>-0.057163</td>\n",
       "      <td>-0.293917</td>\n",
       "      <td>3.916024</td>\n",
       "      <td>5.706290</td>\n",
       "      <td>30</td>\n",
       "    </tr>\n",
       "    <tr>\n",
       "      <th>2</th>\n",
       "      <td>0.645792</td>\n",
       "      <td>-0.742857</td>\n",
       "      <td>-2.268104</td>\n",
       "      <td>3.061862</td>\n",
       "      <td>-0.35663</td>\n",
       "      <td>-0.057163</td>\n",
       "      <td>-0.293917</td>\n",
       "      <td>3.916024</td>\n",
       "      <td>5.706290</td>\n",
       "      <td>30</td>\n",
       "    </tr>\n",
       "    <tr>\n",
       "      <th>3</th>\n",
       "      <td>-0.694226</td>\n",
       "      <td>-0.742857</td>\n",
       "      <td>-1.990936</td>\n",
       "      <td>-0.326599</td>\n",
       "      <td>-0.35663</td>\n",
       "      <td>-0.822402</td>\n",
       "      <td>-0.293917</td>\n",
       "      <td>1.276235</td>\n",
       "      <td>-0.069589</td>\n",
       "      <td>28</td>\n",
       "    </tr>\n",
       "    <tr>\n",
       "      <th>4</th>\n",
       "      <td>1.315800</td>\n",
       "      <td>-0.742857</td>\n",
       "      <td>-1.713768</td>\n",
       "      <td>-0.326599</td>\n",
       "      <td>-0.35663</td>\n",
       "      <td>-0.822402</td>\n",
       "      <td>-0.293917</td>\n",
       "      <td>-0.163650</td>\n",
       "      <td>-0.069589</td>\n",
       "      <td>28</td>\n",
       "    </tr>\n",
       "  </tbody>\n",
       "</table>\n",
       "</div>"
      ],
      "text/plain": [
       "   Smog Rating  Greenhouse Gas Score  Trans_Num  Drive_Num  Fuel_Num  \\\n",
       "0    -0.694226             -0.742857  -2.545273  -0.326599  -0.35663   \n",
       "1    -0.024217             -0.742857  -2.268104   3.061862  -0.35663   \n",
       "2     0.645792             -0.742857  -2.268104   3.061862  -0.35663   \n",
       "3    -0.694226             -0.742857  -1.990936  -0.326599  -0.35663   \n",
       "4     1.315800             -0.742857  -1.713768  -0.326599  -0.35663   \n",
       "\n",
       "   Veh Class_Num  SmartWay_Num  Displ_Fill  Cyl_Fill  Cmb MPG_Num  \n",
       "0      -0.822402     -0.293917    1.276235 -0.069589           29  \n",
       "1      -0.057163     -0.293917    3.916024  5.706290           30  \n",
       "2      -0.057163     -0.293917    3.916024  5.706290           30  \n",
       "3      -0.822402     -0.293917    1.276235 -0.069589           28  \n",
       "4      -0.822402     -0.293917   -0.163650 -0.069589           28  "
      ]
     },
     "execution_count": 57,
     "metadata": {},
     "output_type": "execute_result"
    }
   ],
   "source": [
    "# copy data\n",
    "df_scaled = df_data\n",
    "\n",
    "# normalize data\n",
    "for i in range(df_scaled.shape[1]-1):\n",
    "    scaled_features = scale_features(df_data.ix[:,i])\n",
    "    df_scaled.ix[:,i] = scaled_features\n",
    "df_scaled.head()"
   ]
  },
  {
   "cell_type": "markdown",
   "metadata": {},
   "source": [
    "<h1>(5) 1pts: Convert to a numpy matrix using the numeric and converted columns above.</h1>"
   ]
  },
  {
   "cell_type": "code",
   "execution_count": 58,
   "metadata": {
    "collapsed": false
   },
   "outputs": [],
   "source": [
    "# convert to numpy arrray\n",
    "total_data = df_scaled.values\n"
   ]
  },
  {
   "cell_type": "markdown",
   "metadata": {},
   "source": [
    "<h3>Add a column of ones to total_data.</h3>"
   ]
  },
  {
   "cell_type": "code",
   "execution_count": 59,
   "metadata": {
    "collapsed": true
   },
   "outputs": [],
   "source": [
    "# add x0 feature column of ones to data matrix\n",
    "rows = total_data.shape[0]\n",
    "total_data = np.column_stack((np.ones((rows,1)), total_data))"
   ]
  },
  {
   "cell_type": "markdown",
   "metadata": {},
   "source": [
    "<h1>(6) 2pts: Implement cost_function as per lecture/Ng videos: it takes the above numpy matrix and returns a cost value.</h1>"
   ]
  },
  {
   "cell_type": "code",
   "execution_count": 60,
   "metadata": {
    "collapsed": true
   },
   "outputs": [],
   "source": [
    "# function: cost_function\n",
    "# input: total data (y values in last column), theta vec\n",
    "# output: cost value\n",
    "\n",
    "def cost_function(A, theta):\n",
    "    \n",
    "    # feature matrix\n",
    "    X = A[:,0:-1]   \n",
    "    # outcome vector\n",
    "    y = A[:,-1]\n",
    "    \n",
    "    # calculate cost\n",
    "    cost = np.sum( \\\n",
    "        (1.0 / (2*A.shape[0])) * (np.power(np.dot(X,theta) - y, 2))) \n",
    "    \n",
    "    return cost"
   ]
  },
  {
   "cell_type": "markdown",
   "metadata": {},
   "source": [
    "<h1>(7) 2pts: Implement gradient as per lecture/Ng videos.</h1>"
   ]
  },
  {
   "cell_type": "code",
   "execution_count": 61,
   "metadata": {
    "collapsed": false
   },
   "outputs": [],
   "source": [
    "# function: gradient\n",
    "# input: total data matrix (y values in last column), theta vec\n",
    "# output: gradeint vec (i.e., derivatives) for theta weights \n",
    "\n",
    "def gradient(A, theta):\n",
    "    \n",
    "    # feature matrix\n",
    "    X = A[:,0:-1]\n",
    "    # outcome vector\n",
    "    y = A[:,-1]\n",
    "    \n",
    "    # training examples\n",
    "    m = X.shape[0]\n",
    "    # features\n",
    "    n = X.shape[1]\n",
    "    \n",
    "    # calculate gradient  \n",
    "    error = (np.dot(X,theta) - y)   \n",
    "    gradient = (1.0 / m) * np.dot(np.transpose(error), X)\n",
    "    gradient = np.transpose(gradient)\n",
    "                 \n",
    "    return gradient"
   ]
  },
  {
   "cell_type": "markdown",
   "metadata": {},
   "source": [
    "<h1>(8) 3pts: Implement gradient_descent as per lecture/Ng videos. It should return a vector of trained parameters. It should take in a numpy array, num_iter (number of iterations),  and an alpha (learning rate).</h1>"
   ]
  },
  {
   "cell_type": "code",
   "execution_count": 62,
   "metadata": {
    "collapsed": true
   },
   "outputs": [],
   "source": [
    "# function: gradient_descent\n",
    "# input: total data matrix (y values in last column), iterations of gradient descent, alpha (learning rate)\n",
    "# output: trained theta weight parameters\n",
    "\n",
    "def gradient_descent(A, num_iter, alpha):\n",
    "    \n",
    "    # feature matrix\n",
    "    X = A[:,0:-1]\n",
    "    # outcome vector\n",
    "    y = A[:,-1]\n",
    "    \n",
    "    # training examples\n",
    "    m = X.shape[0]\n",
    "    # features\n",
    "    n = X.shape[1]\n",
    "    \n",
    "    # create initial theta vector (i.e., all weights = 0)\n",
    "    theta = np.zeros(X.shape[1])\n",
    "    \n",
    "    for i in range(num_iter):\n",
    "        \n",
    "        # calculate gradients\n",
    "        gradient_vec = gradient(A, theta)\n",
    "    \n",
    "        # update theta values\n",
    "        theta = theta - (alpha * gradient_vec)\n",
    "    \n",
    "    # return updated values\n",
    "    return theta"
   ]
  },
  {
   "cell_type": "markdown",
   "metadata": {},
   "source": [
    "<h1>(9) 2pts: Run gradient_descent. Calculate the cost function values on the normalized data before and after, print these values.</h1>"
   ]
  },
  {
   "cell_type": "code",
   "execution_count": 63,
   "metadata": {
    "collapsed": false
   },
   "outputs": [
    {
     "name": "stdout",
     "output_type": "stream",
     "text": [
      "Cost before gradient descent:  866.575903614\n",
      "Cost after gradient descent:   21.0236932077\n"
     ]
    }
   ],
   "source": [
    "# create initial theta vector (i.e., all weights = 0)\n",
    "theta = np.zeros(total_data.shape[1]-1)\n",
    "\n",
    "# call cost_function\n",
    "cost_beg = cost_function(total_data, theta)\n",
    "\n",
    "# run gradient descent\n",
    "theta = gradient_descent(total_data, 100, .3) #tested alpha values: [.001, .003, .01, .03, .1, .3]. Diverged at 1\n",
    "\n",
    "# call cost_function\n",
    "cost_end = cost_function(total_data, theta)\n",
    "\n",
    "print \"Cost before gradient descent: \", cost_beg\n",
    "print \"Cost after gradient descent:  \", cost_end"
   ]
  },
  {
   "cell_type": "markdown",
   "metadata": {},
   "source": [
    "<h1>(9.5) Extra Credit: Calculate theta weights using the Normal Equation.</h1>"
   ]
  },
  {
   "cell_type": "code",
   "execution_count": 64,
   "metadata": {
    "collapsed": false
   },
   "outputs": [
    {
     "name": "stdout",
     "output_type": "stream",
     "text": [
      "Theta weights calculated using gradient descent: \n",
      "[ 37.33975904   0.39385041   7.54005195   0.36896612   0.5396787\n",
      "  -1.48734227  -1.15858288  11.58648801  -0.60772809   0.82564105]\n",
      "\n",
      "\n",
      "Theta weights calculated using normal equation: \n",
      "[ 37.33975904   0.39385041   7.54005195   0.36896612   0.5396787\n",
      "  -1.48734227  -1.15858288  11.58648801  -0.60772809   0.82564105]\n",
      "\n",
      "\n",
      "Gradient Descent Thetas - Normal Equation Thetas\n",
      "[ -2.13162821e-14   1.56541446e-14  -4.44089210e-15  -3.49720253e-15\n",
      "  -4.99600361e-15   7.54951657e-15   1.55431223e-15  -1.06581410e-14\n",
      "  -9.88098492e-15   2.22044605e-15]\n"
     ]
    }
   ],
   "source": [
    "# calculate theta weights with gradient descent\n",
    "theta_grad = gradient_descent(total_data, 1000, .3)\n",
    "\n",
    "# calculate theta weights using normal equation\n",
    "X = total_data[:,0:-1] #feature matrix\n",
    "y = total_data[:,-1] #outcome vector\n",
    "X_T = np.transpose(X)\n",
    "theta_norm = np.dot(np.dot(np.linalg.inv(np.dot(X_T, X)), X_T), y)\n",
    "\n",
    "print \"Theta weights calculated using gradient descent: \"\n",
    "print theta_grad\n",
    "print \"\\n\"\n",
    "print \"Theta weights calculated using normal equation: \"\n",
    "print theta_norm\n",
    "print \"\\n\"\n",
    "print \"Gradient Descent Thetas - Normal Equation Thetas\" #essentially should be zero\n",
    "print theta_grad - theta_norm"
   ]
  },
  {
   "cell_type": "markdown",
   "metadata": {},
   "source": [
    "<h1>(10) 3pts: Plot a learning curve. Hint: do gradient descent and in each iteration, calculate cost each time, store it in an array. Use pylab.plot to do the plot: see http://matplotlib.org/users/pyplot_tutorial.html).</h1>"
   ]
  },
  {
   "cell_type": "code",
   "execution_count": 65,
   "metadata": {
    "collapsed": false
   },
   "outputs": [
    {
     "name": "stdout",
     "output_type": "stream",
     "text": [
      "Populating the interactive namespace from numpy and matplotlib\n"
     ]
    },
    {
     "name": "stderr",
     "output_type": "stream",
     "text": [
      "WARNING: pylab import has clobbered these variables: ['median', 'gradient']\n",
      "`%matplotlib` prevents importing * from pylab and numpy\n"
     ]
    },
    {
     "data": {
      "image/png": "[encoded data removed]",
      "text/plain": [
       "<matplotlib.figure.Figure at 0x105b138d0>"
      ]
     },
     "metadata": {},
     "output_type": "display_data"
    }
   ],
   "source": [
    "# run gradient descent while keeping track of cost at each iteration\n",
    "\n",
    "# total data matrix\n",
    "A = total_data\n",
    "\n",
    "# number of iteration for gradient descent\n",
    "num_iter = 100\n",
    "\n",
    "# alpha value\n",
    "alpha = 0.1\n",
    "\n",
    "# feature matrix\n",
    "X = A[:,0:-1]\n",
    "# outcome vector\n",
    "y = A[:,-1]\n",
    "    \n",
    "# training examples\n",
    "m = X.shape[0]\n",
    "# features\n",
    "n = X.shape[1]\n",
    "    \n",
    "# create initial theta vector (i.e., all weights = 0)\n",
    "theta = np.zeros(X.shape[1])\n",
    "\n",
    "# initialize cost function array\n",
    "cost = np.zeros(num_iter)\n",
    "    \n",
    "for i in range(num_iter):\n",
    "       \n",
    "    # calculate cost\n",
    "    cost[i] = cost_function(A, theta)\n",
    "    \n",
    "    # calculate gradients\n",
    "    gradient_vec = gradient(A, theta)\n",
    "    \n",
    "    # update theta values\n",
    "    theta = theta - (alpha * gradient_vec)\n",
    "\n",
    "    \n",
    "# plot learning curve\n",
    "import matplotlib.pyplot as plt\n",
    "%pylab inline \n",
    "plt.plot(cost)\n",
    "plt.title('Learning Curve')\n",
    "plt.ylabel('Cost')\n",
    "plt.xlabel('Gradient Descent Iterations')\n",
    "plt.show()"
   ]
  }
 ],
 "metadata": {
  "kernelspec": {
   "display_name": "Python 2",
   "language": "python",
   "name": "python2"
  },
  "language_info": {
   "codemirror_mode": {
    "name": "ipython",
    "version": 2
   },
   "file_extension": ".py",
   "mimetype": "text/x-python",
   "name": "python",
   "nbconvert_exporter": "python",
   "pygments_lexer": "ipython2",
   "version": "2.7.11"
  }
 },
 "nbformat": 4,
 "nbformat_minor": 0
}
