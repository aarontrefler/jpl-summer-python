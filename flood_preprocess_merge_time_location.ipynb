{
 "cells": [
  {
   "cell_type": "markdown",
   "metadata": {},
   "source": [
    "# Flood - Merge Time and Location Information\n",
    "<h3> \n",
    "Aaron Trefler <br/>\n",
    "JPL <br/>\n",
    "Created: 06/22/2016 <br/>\n",
    "</h3>"
   ]
  },
  {
   "cell_type": "markdown",
   "metadata": {},
   "source": [
    "# I. Setup"
   ]
  },
  {
   "cell_type": "code",
   "execution_count": 1,
   "metadata": {
    "collapsed": true
   },
   "outputs": [],
   "source": [
    "%load_ext autoreload\n",
    "%autoreload 2"
   ]
  },
  {
   "cell_type": "code",
   "execution_count": 2,
   "metadata": {
    "collapsed": false,
    "scrolled": true
   },
   "outputs": [],
   "source": [
    "import datetime as dt\n",
    "import matplotlib.pyplot as plt\n",
    "import numpy as np\n",
    "import pandas as pd\n",
    "import pickle\n",
    "import scipy.io as sio \n",
    "import warnings\n",
    "\n",
    "from flood_functions import grace_brick_convert_lowres"
   ]
  },
  {
   "cell_type": "code",
   "execution_count": 3,
   "metadata": {
    "collapsed": true
   },
   "outputs": [],
   "source": [
    "# define directories\n",
    "dir_flood = '../../Raw Data/Flood Observatory/'\n",
    "dir_python_data = '../Data/'\n",
    "dir_grace = '../../Work_Matlab/Data/'\n",
    "dir_figures = '../Figures/'"
   ]
  },
  {
   "cell_type": "markdown",
   "metadata": {},
   "source": [
    "# II. Load Data"
   ]
  },
  {
   "cell_type": "markdown",
   "metadata": {},
   "source": [
    "## GRACE MASCON-CRI"
   ]
  },
  {
   "cell_type": "code",
   "execution_count": 4,
   "metadata": {
    "collapsed": false
   },
   "outputs": [],
   "source": [
    "# GRACE MASCON-CRI Matlab files\n",
    "mat_content_1 = sio.loadmat(dir_grace + \\\n",
    "    'GRCTellus.JPL.200204_201603.GLO.RL05M_1.MSCNv02CRIv02.nc.mat')\n",
    "mat_content_2 = sio.loadmat(dir_grace + \\\n",
    "    'GRCTellus.JPL.200204_201603.GLO.RL05M_1.MSCNv02CRIv02_dateVectors.nc.mat')\n",
    "mat_content_3 = sio.loadmat(dir_grace + \\\n",
    "    'LAND_MASK.CRIv01.nc.mat')"
   ]
  },
  {
   "cell_type": "code",
   "execution_count": 5,
   "metadata": {
    "collapsed": false
   },
   "outputs": [
    {
     "name": "stdout",
     "output_type": "stream",
     "text": [
      "GRACE: [('lat', (360, 1), 'double'), ('lon', (720, 1), 'double'), ('lwe_thickness', (720, 360, 152), 'double'), ('time', (152, 1), 'double'), ('uncertainty', (720, 360, 152), 'double')] \n",
      "\n",
      "GRACE Date Vectors: [('time_datenum', (152, 1), 'double'), ('time_datestr', (152,), 'char'), ('time_datestr_cell', (152, 1), 'cell'), ('time_dayOfYear', (152, 1), 'double'), ('time_month', (152, 1), 'double'), ('time_year', (152, 1), 'double')]\n"
     ]
    }
   ],
   "source": [
    "# GRACE MASCON-CRI data description\n",
    "print 'GRACE:', sio.whosmat(dir_grace + \\\n",
    "    'GRCTellus.JPL.200204_201603.GLO.RL05M_1.MSCNv02CRIv02.nc.mat'), '\\n'\n",
    "print 'GRACE Date Vectors:', sio.whosmat(dir_grace + \\\n",
    "    'GRCTellus.JPL.200204_201603.GLO.RL05M_1.MSCNv02CRIv02_dateVectors.nc.mat')"
   ]
  },
  {
   "cell_type": "code",
   "execution_count": 6,
   "metadata": {
    "collapsed": true
   },
   "outputs": [],
   "source": [
    "# assign imported matlab variables to python objects\n",
    "grace_lat = mat_content_1['lat']\n",
    "grace_lon = mat_content_1['lon']\n",
    "grace_uncertainty = mat_content_1['uncertainty']\n",
    "\n",
    "grace_time_datestr = mat_content_2['time_datestr']\n",
    "\n",
    "grace_land_mask = mat_content_3['land_mask']"
   ]
  },
  {
   "cell_type": "markdown",
   "metadata": {},
   "source": [
    "## Flood Observatory"
   ]
  },
  {
   "cell_type": "code",
   "execution_count": 7,
   "metadata": {
    "collapsed": false
   },
   "outputs": [
    {
     "name": "stdout",
     "output_type": "stream",
     "text": [
      "(2445, 15)\n"
     ]
    },
    {
     "data": {
      "text/html": [
       "<div>\n",
       "<table border=\"1\" class=\"dataframe\">\n",
       "  <thead>\n",
       "    <tr style=\"text-align: right;\">\n",
       "      <th></th>\n",
       "      <th>Register #</th>\n",
       "      <th>Began</th>\n",
       "      <th>Date Began</th>\n",
       "      <th>Ended</th>\n",
       "      <th>Duration in Days</th>\n",
       "      <th>Dead</th>\n",
       "      <th>Displaced</th>\n",
       "      <th>Main cause</th>\n",
       "      <th>Severity *</th>\n",
       "      <th>Affected sq km</th>\n",
       "      <th>Magnitude (M)**</th>\n",
       "      <th>Country</th>\n",
       "      <th>Other</th>\n",
       "      <th>Centroid X</th>\n",
       "      <th>Centroid Y</th>\n",
       "    </tr>\n",
       "  </thead>\n",
       "  <tbody>\n",
       "    <tr>\n",
       "      <th>2444</th>\n",
       "      <td>1905.0</td>\n",
       "      <td>17-Apr-02</td>\n",
       "      <td>17-Apr-02</td>\n",
       "      <td>19-Apr-02</td>\n",
       "      <td>3.0</td>\n",
       "      <td>4.0</td>\n",
       "      <td>0.0</td>\n",
       "      <td>Heavy rain</td>\n",
       "      <td>1.0</td>\n",
       "      <td>919.174</td>\n",
       "      <td>3.4</td>\n",
       "      <td>Indonesia</td>\n",
       "      <td>0</td>\n",
       "      <td>108.216</td>\n",
       "      <td>-7.28558</td>\n",
       "    </tr>\n",
       "  </tbody>\n",
       "</table>\n",
       "</div>"
      ],
      "text/plain": [
       "      Register #      Began Date Began      Ended  Duration in Days  Dead  \\\n",
       "2444      1905.0  17-Apr-02  17-Apr-02  19-Apr-02               3.0   4.0   \n",
       "\n",
       "      Displaced  Main cause  Severity *  Affected sq km  Magnitude (M)**  \\\n",
       "2444        0.0  Heavy rain         1.0         919.174              3.4   \n",
       "\n",
       "        Country Other  Centroid X  Centroid Y  \n",
       "2444  Indonesia     0     108.216    -7.28558  "
      ]
     },
     "execution_count": 7,
     "metadata": {},
     "output_type": "execute_result"
    }
   ],
   "source": [
    "# FO data previously cleaned by FloodObservatory_Preprocess.py\n",
    "df_flood_grace = pd.read_csv(dir_python_data + 'df_flood.csv')\n",
    "df_flood_grace = df_flood_grace.drop('Unnamed: 0', axis=1)\n",
    "print df_flood_grace.shape\n",
    "df_flood_grace.tail(1)"
   ]
  },
  {
   "cell_type": "markdown",
   "metadata": {},
   "source": [
    "## CMAP Precipitation"
   ]
  },
  {
   "cell_type": "code",
   "execution_count": 15,
   "metadata": {
    "collapsed": false
   },
   "outputs": [
    {
     "name": "stdout",
     "output_type": "stream",
     "text": [
      "['cmap_precip_time_date_pentad', 'cmap_precip_time_str_pentad']\n",
      "['cmap_precip_time_date_monthly', 'cmap_precip_time_str_monthly']\n"
     ]
    }
   ],
   "source": [
    "# load pentad time data\n",
    "f = open(dir_python_data + 'cmap_pentad_precip_time_dict.p', 'rb')\n",
    "cmap_pentad_precip_time_dict = pickle.load(f)\n",
    "f.close()\n",
    "\n",
    "# load monthly time data\n",
    "f = open(dir_python_data + 'cmap_monthly_precip_time_dict.p', 'rb')\n",
    "cmap_monthly_precip_time_dict = pickle.load(f)\n",
    "f.close()\n",
    "\n",
    "print cmap_pentad_precip_time_dict.keys()\n",
    "print cmap_monthly_precip_time_dict.keys()"
   ]
  },
  {
   "cell_type": "markdown",
   "metadata": {},
   "source": [
    "# III. Merge Data"
   ]
  },
  {
   "cell_type": "markdown",
   "metadata": {},
   "source": [
    "## Location"
   ]
  },
  {
   "cell_type": "markdown",
   "metadata": {},
   "source": [
    "### Map Centroid X to Grace Longitude"
   ]
  },
  {
   "cell_type": "code",
   "execution_count": 11,
   "metadata": {
    "collapsed": false
   },
   "outputs": [],
   "source": [
    "df_flood_grace['Centroid GRACE Lon'] = df_flood_grace['Centroid X']\n",
    "a_centroid_x = df_flood_grace['Centroid GRACE Lon'].values\n",
    "\n",
    "for i in range(a_centroid_x.size):\n",
    "    centroid_x = a_centroid_x[i]\n",
    "    \n",
    "    if centroid_x < 0:\n",
    "        centroid_x = 180 - (centroid_x * -1)\n",
    "        \n",
    "        # moves negative longitudes to the right of positive longitudes\n",
    "        a_centroid_x[i] = centroid_x + 180 \n",
    "        \n",
    "df_flood_grace['Centroid GRACE Lon'] = a_centroid_x\n",
    "df_flood_grace['Centroid GRACE Lon'] = (df_flood_grace['Centroid GRACE Lon'] * 2).round()"
   ]
  },
  {
   "cell_type": "markdown",
   "metadata": {},
   "source": [
    "### Map Centroid Y to Grace Latitude"
   ]
  },
  {
   "cell_type": "code",
   "execution_count": 12,
   "metadata": {
    "collapsed": true
   },
   "outputs": [],
   "source": [
    "df_flood_grace['Centroid GRACE Lat'] = df_flood_grace['Centroid Y']\n",
    "a_centroid_y = df_flood_grace['Centroid GRACE Lat'].values\n",
    "\n",
    "for i in range(a_centroid_y.size):\n",
    "    centroid_y = a_centroid_y[i]\n",
    "    \n",
    "    a_centroid_y[i] = centroid_y + 90\n",
    "        \n",
    "df_flood_grace['Centroid GRACE Lat'] = a_centroid_y\n",
    "df_flood_grace['Centroid GRACE Lat'] = (df_flood_grace['Centroid GRACE Lat'] * 2).round()"
   ]
  },
  {
   "cell_type": "markdown",
   "metadata": {},
   "source": [
    "## Time"
   ]
  },
  {
   "cell_type": "markdown",
   "metadata": {},
   "source": [
    "### CMAP Monthly Precipitation Prior to Flood Event"
   ]
  },
  {
   "cell_type": "code",
   "execution_count": 13,
   "metadata": {
    "collapsed": false
   },
   "outputs": [],
   "source": [
    "# Date Association\n",
    "\n",
    "# convert cmap times to Series\n",
    "time_datestr_series = pd.Series(cmap_monthly_precip_time_dict['cmap_precip_time_str_monthly'])\n",
    "\n",
    "# empty vectors\n",
    "diff = np.zeros(len(time_datestr_series))\n",
    "min_diff = np.zeros(df_flood_grace.shape[0])\n",
    "min_diff_ix = np.zeros(df_flood_grace.shape[0])\n",
    "\n",
    "# find CMAP Precip index prior to each flood\n",
    "for i in range(df_flood_grace.shape[0]):\n",
    "\n",
    "    datestr_flood = df_flood_grace['Began'].iloc[i]\n",
    "    date_flood = dt.datetime.strptime(datestr_flood, \"%d-%b-%y\")\n",
    "    \n",
    "    for j in range(len(time_datestr_series)):\n",
    "    \n",
    "        datestr = time_datestr_series.iloc[j]\n",
    "        date = dt.datetime.strptime(datestr, \"%Y-%m-%d\")\n",
    "        \n",
    "        # diff b/w grace and flood\n",
    "        diff[j] = (date_flood - date).days\n",
    "        \n",
    "        # negative values indicate MASCONs that occur after flood\n",
    "        diff[diff < 0] = diff.max() + 1\n",
    "        \n",
    "    # minimum difference\n",
    "    min_diff[i] = diff.min()\n",
    "    min_diff_ix[i] = diff.argmin() #returns index of first occurance of min value\n",
    "            \n",
    "# add date association metrics to dataframe\n",
    "df_flood_grace['Prior CMAP Precip Diff-Days Monthly'] = min_diff\n",
    "df_flood_grace['Prior CMAP Precip Index Monthly'] = min_diff_ix   "
   ]
  },
  {
   "cell_type": "markdown",
   "metadata": {},
   "source": [
    "### CMAP Pentad Precipitation Prior to Flood Event"
   ]
  },
  {
   "cell_type": "code",
   "execution_count": 16,
   "metadata": {
    "collapsed": false,
    "scrolled": false
   },
   "outputs": [],
   "source": [
    "# Date Association\n",
    "\n",
    "# convert cmap times to Series\n",
    "time_datestr_series = pd.Series(cmap_pentad_precip_time_dict['cmap_precip_time_str_pentad'])\n",
    "\n",
    "# empty vectors\n",
    "diff = np.zeros(len(time_datestr_series))\n",
    "min_diff = np.zeros(df_flood_grace.shape[0])\n",
    "min_diff_ix = np.zeros(df_flood_grace.shape[0])\n",
    "\n",
    "# find CMAP Precip index prior to each flood\n",
    "for i in range(df_flood_grace.shape[0]):\n",
    "\n",
    "    datestr_flood = df_flood_grace['Began'].iloc[i]\n",
    "    date_flood = dt.datetime.strptime(datestr_flood, \"%d-%b-%y\")\n",
    "    \n",
    "    for j in range(len(time_datestr_series)):\n",
    "    \n",
    "        datestr = time_datestr_series.iloc[j]\n",
    "        date = dt.datetime.strptime(datestr, \"%Y-%m-%d\")\n",
    "        \n",
    "        # diff b/w grace and flood\n",
    "        diff[j] = (date_flood - date).days\n",
    "        \n",
    "        # negative values indicate MASCONs that occur after flood\n",
    "        diff[diff < 0] = diff.max() + 1\n",
    "        \n",
    "    # minimum difference\n",
    "    min_diff[i] = diff.min()\n",
    "    min_diff_ix[i] = diff.argmin() #returns index of first occurance of min value\n",
    "            \n",
    "# add date association metrics to dataframe\n",
    "df_flood_grace['Prior CMAP Precip Diff-Days Pentad'] = min_diff\n",
    "df_flood_grace['Prior CMAP Precip Index Pentad'] = min_diff_ix    "
   ]
  },
  {
   "cell_type": "markdown",
   "metadata": {},
   "source": [
    "### GRACE MASCON Prior to Flood Event"
   ]
  },
  {
   "cell_type": "code",
   "execution_count": null,
   "metadata": {
    "collapsed": false
   },
   "outputs": [],
   "source": [
    "# Date Association\n",
    "\n",
    "# convert GRACE times to Series\n",
    "s_grace_time_datestr = pd.Series(grace_time_datestr)\n",
    "\n",
    "# empty vectors\n",
    "diff = np.zeros(s_grace_time_datestr.size)\n",
    "min_diff = np.zeros(df_flood_grace.shape[0])\n",
    "min_diff_ix = np.zeros(df_flood_grace.shape[0])\n",
    "\n",
    "# find GRACE MASCON index for each flood\n",
    "for i in range(df_flood_grace.shape[0]):\n",
    "    \n",
    "    date_flood = df_flood_grace['Began'].iloc[i]\n",
    "    datetime_flood = dt.datetime.strptime(date_flood, \"%d-%b-%y\")\n",
    "    \n",
    "    for j in range(s_grace_time_datestr.size):\n",
    "        \n",
    "        date_mascon = s_grace_time_datestr.iloc[j]\n",
    "        datetime_mascon = dt.datetime.strptime(date_mascon, \"%d-%b-%Y\")\n",
    "    \n",
    "        # diff b/w grace and flood\n",
    "        diff[j] = (datetime_flood - datetime_mascon).days\n",
    "        \n",
    "        # negative values indicate MASCONs that occur after flood\n",
    "        diff[diff < 0] = diff.max() + 1\n",
    "        \n",
    "        \n",
    "    # minimum difference\n",
    "    min_diff[i] = diff.min()\n",
    "    min_diff_ix[i] = diff.argmin() #returns index of first occurance of min value\n",
    "\n",
    "# add date association metrics to dataframe\n",
    "df_flood_grace['Prior MASCON Diff-Days'] = min_diff\n",
    "df_flood_grace['Prior MASCON Index'] = min_diff_ix"
   ]
  },
  {
   "cell_type": "markdown",
   "metadata": {},
   "source": [
    "### GRACE MASCON After Flood Event"
   ]
  },
  {
   "cell_type": "code",
   "execution_count": null,
   "metadata": {
    "collapsed": false,
    "scrolled": true
   },
   "outputs": [],
   "source": [
    "# Post-MASCON Date Association \n",
    "\n",
    "# convert GRACE times to Series\n",
    "s_grace_time_datestr = pd.Series(grace_time_datestr)\n",
    "\n",
    "# empty vectors\n",
    "diff = np.zeros(s_grace_time_datestr.size)\n",
    "min_diff = np.zeros(df_flood_grace.shape[0])\n",
    "min_diff_ix = np.zeros(df_flood_grace.shape[0])\n",
    "\n",
    "# find GRACE MASCON index for each flood\n",
    "for i in range(df_flood_grace.shape[0]):\n",
    "    \n",
    "    date_flood = df_flood_grace['Ended'].iloc[i]\n",
    "    datetime_flood = dt.datetime.strptime(date_flood, \"%d-%b-%y\")\n",
    "    \n",
    "    for j in range(s_grace_time_datestr.size):\n",
    "        \n",
    "        date_mascon = s_grace_time_datestr.iloc[j]\n",
    "        datetime_mascon = dt.datetime.strptime(date_mascon, \"%d-%b-%Y\")\n",
    "    \n",
    "        # diff b/w grace and flood\n",
    "        diff[j] = (datetime_mascon - datetime_flood).days\n",
    "        \n",
    "        # negative values indicate MASCONs that occur after flood\n",
    "        diff[diff <= 0] = diff.max() + 1\n",
    "        \n",
    "        \n",
    "    # minimum difference\n",
    "    min_diff[i] = diff.min()\n",
    "    min_diff_ix[i] = diff.argmin() #returns index of first occurance of min value\n",
    "\n",
    "# add date association metrics to dataframe\n",
    "df_flood_grace['Post MASCON Diff-Days'] = min_diff\n",
    "df_flood_grace['Post MASCON Index'] = min_diff_ix"
   ]
  },
  {
   "cell_type": "code",
   "execution_count": null,
   "metadata": {
    "collapsed": false
   },
   "outputs": [],
   "source": [
    "# replace \"Post MASCON Diff-Days\" and \"Post MASCON Index\" \n",
    "# with NaN where no MASCON exists post flood\n",
    "df_flood_grace.loc[0:21,'Post MASCON Diff-Days'] = np.nan\n",
    "df_flood_grace.loc[0:21,'Post MASCON Index'] = np.nan"
   ]
  },
  {
   "cell_type": "code",
   "execution_count": null,
   "metadata": {
    "collapsed": false
   },
   "outputs": [],
   "source": [
    "df_flood_grace.head(1)"
   ]
  },
  {
   "cell_type": "markdown",
   "metadata": {},
   "source": [
    "# IV. Remove Flood Events with Large Diff-Days"
   ]
  },
  {
   "cell_type": "code",
   "execution_count": null,
   "metadata": {
    "collapsed": false
   },
   "outputs": [],
   "source": [
    "# Large Difference b/w Flood and Prior GRACE Map\n",
    "bool_idx = df_flood_grace['Prior MASCON Diff-Days'] <= 15\n",
    "df_flood_grace_copy = df_flood_grace.loc[bool_idx]\n",
    "df_flood_grace = df_flood_grace_copy"
   ]
  },
  {
   "cell_type": "code",
   "execution_count": null,
   "metadata": {
    "collapsed": true
   },
   "outputs": [],
   "source": [
    "# Large Difference b/w Flood and Prior CMAP-Precip Map\n",
    "bool_idx = df_flood_grace['Prior CMAP Precip Diff-Days'] <= 5\n",
    "df_flood_grace_copy = df_flood_grace.loc[bool_idx]\n",
    "df_flood_grace = df_flood_grace_copy"
   ]
  },
  {
   "cell_type": "code",
   "execution_count": null,
   "metadata": {
    "collapsed": false
   },
   "outputs": [],
   "source": [
    "print \"Number of flood events in dataframe after removals:\", df_flood_grace.shape[0]\n",
    "df_flood_grace.head()"
   ]
  },
  {
   "cell_type": "markdown",
   "metadata": {},
   "source": [
    "# IV. Low Resolution Land Mask"
   ]
  },
  {
   "cell_type": "code",
   "execution_count": null,
   "metadata": {
    "collapsed": false
   },
   "outputs": [],
   "source": [
    "data_highres = grace_land_mask\n",
    "scale = 6\n",
    "\n",
    "dim = grace_land_mask.shape\n",
    "d1 = dim[0]  \n",
    "d2 = dim[1]\n",
    "\n",
    "d1_lowres = d1/scale\n",
    "d2_lowres = d2/scale\n",
    "\n",
    "data_lowres = np.empty([d1_lowres,d2_lowres])\n",
    "data_lowres.fill(np.nan)\n",
    "\n",
    "for j in range(0,d1,6):\n",
    "    idx_d1 = (j+5)/6\n",
    "    r_d1 = range(j,j+5)\n",
    "    r_d1_beg = min(r_d1)\n",
    "    r_d1_end = max(r_d1)+1\n",
    "\n",
    "    for k in range(0,d2,6):\n",
    "        idx_d2 = (k+5)/6\n",
    "        r_d2 = range(k,k+5)\n",
    "        r_d2_beg = min(r_d2)\n",
    "        r_d2_end = max(r_d2)+1\n",
    "\n",
    "        # expecting warning when calculating mean of all NaN values\n",
    "        with warnings.catch_warnings():\n",
    "            warnings.simplefilter(\"ignore\", category=RuntimeWarning)    \n",
    "            \n",
    "            data_lowres[idx_d1,idx_d2] = \\\n",
    "                np.max(data_highres\\\n",
    "                [r_d1_beg:r_d1_end,r_d2_beg:r_d2_end])\n",
    "                \n",
    "grace_land_mask_lowres = data_lowres"
   ]
  },
  {
   "cell_type": "markdown",
   "metadata": {},
   "source": [
    "# V. Save"
   ]
  },
  {
   "cell_type": "code",
   "execution_count": null,
   "metadata": {
    "collapsed": false
   },
   "outputs": [],
   "source": [
    "df_flood_grace.to_csv('../Data/df_flood_grace_time_location.csv')\n",
    "\n",
    "# save dataframe for matlabe script: \"analysis_flood_visualization.m\"\n",
    "df_flood_grace[['Centroid GRACE Lon', 'Centroid GRACE Lat', 'Prior MASCON Index']].to_csv\\\n",
    "    ('../Data/df_flood_graceLon_graceLat_priorMasconIdx.csv')"
   ]
  },
  {
   "cell_type": "code",
   "execution_count": null,
   "metadata": {
    "collapsed": true
   },
   "outputs": [],
   "source": [
    "# pickle land mask\n",
    "f = open(dir_python_data + 'grace_land_mask.p', 'wb') \n",
    "pickle.dump(grace_land_mask, f, -1)\n",
    "f = open(dir_python_data + 'grace_land_mask_lowres.p', 'wb') \n",
    "pickle.dump(grace_land_mask_lowres, f, -1)\n",
    "\n",
    "# pickle grace variables\n",
    "f = open(dir_python_data + 'grace_lat.p', 'wb') \n",
    "pickle.dump(grace_lat, f, -1)\n",
    "f = open(dir_python_data + 'grace_lon.p', 'wb') \n",
    "pickle.dump(grace_lon, f, -1)\n",
    "f = open(dir_python_data + 'grace_uncertainty.p', 'wb') \n",
    "pickle.dump(grace_uncertainty, f, -1)\n",
    "f = open(dir_python_data + 'grace_time_datestr.p', 'wb') \n",
    "pickle.dump(grace_time_datestr, f, -1)\n",
    "f.close()"
   ]
  },
  {
   "cell_type": "code",
   "execution_count": null,
   "metadata": {
    "collapsed": true
   },
   "outputs": [],
   "source": []
  }
 ],
 "metadata": {
  "kernelspec": {
   "display_name": "Python 2",
   "language": "python",
   "name": "python2"
  },
  "language_info": {
   "codemirror_mode": {
    "name": "ipython",
    "version": 2
   },
   "file_extension": ".py",
   "mimetype": "text/x-python",
   "name": "python",
   "nbconvert_exporter": "python",
   "pygments_lexer": "ipython2",
   "version": "2.7.11"
  }
 },
 "nbformat": 4,
 "nbformat_minor": 0
}
