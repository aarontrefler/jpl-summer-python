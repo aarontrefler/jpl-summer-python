{
 "cells": [
  {
   "cell_type": "markdown",
   "metadata": {},
   "source": [
    "# Flood  - Classification Using a Decison Tree\n",
    "\n",
    "<h3> \n",
    "Aaron Trefler <br/>\n",
    "JPL <br/>\n",
    "Created: 07/25/2016 <br/>\n",
    "</h3>"
   ]
  },
  {
   "cell_type": "markdown",
   "metadata": {},
   "source": [
    "# Script Setup"
   ]
  },
  {
   "cell_type": "code",
   "execution_count": 4,
   "metadata": {
    "collapsed": false
   },
   "outputs": [],
   "source": [
    "%load_ext autoreload\n",
    "%autoreload 2"
   ]
  },
  {
   "cell_type": "code",
   "execution_count": 5,
   "metadata": {
    "collapsed": false,
    "scrolled": true
   },
   "outputs": [],
   "source": [
    "import datetime as dt\n",
    "import matplotlib.pyplot as plt\n",
    "import numpy as np\n",
    "import pandas as pd\n",
    "import pickle\n",
    "import scipy.io as sio\n",
    "\n",
    "from flood_functions import grace_brick_convert_lowres \n",
    "from flood_functions import calculate_confusion_matrix_bricks\n",
    "from flood_functions import calculate_ml_metric_maps\n",
    "from IPython.display import display, HTML\n",
    "\n",
    "from scipy import interp\n",
    "\n",
    "from sklearn import tree\n",
    "from sklearn.cross_validation import cross_val_score\n",
    "from sklearn.cross_validation import StratifiedKFold\n",
    "from sklearn.cross_validation import train_test_split\n",
    "from sklearn.ensemble import RandomForestClassifier\n",
    "from sklearn.externals.six import StringIO\n",
    "from sklearn.metrics import auc\n",
    "from sklearn.metrics import roc_curve\n",
    "from sklearn.metrics import roc_auc_score\n",
    "from sklearn.tree import DecisionTreeClassifier"
   ]
  },
  {
   "cell_type": "code",
   "execution_count": 6,
   "metadata": {
    "collapsed": false
   },
   "outputs": [
    {
     "name": "stdout",
     "output_type": "stream",
     "text": [
      "Populating the interactive namespace from numpy and matplotlib\n"
     ]
    }
   ],
   "source": [
    "%pylab inline\n",
    "#%matplotlib"
   ]
  },
  {
   "cell_type": "code",
   "execution_count": 7,
   "metadata": {
    "collapsed": true
   },
   "outputs": [],
   "source": [
    "# define directories\n",
    "dir_flood = '../../Raw Data/Flood Observatory/'\n",
    "dir_python_data = '../Data/'\n",
    "dir_grace = '../../Work_Matlab/Data/'\n",
    "dir_figures = '../Figures/'"
   ]
  },
  {
   "cell_type": "markdown",
   "metadata": {},
   "source": [
    "# Load Data"
   ]
  },
  {
   "cell_type": "markdown",
   "metadata": {},
   "source": [
    "## GRACE"
   ]
  },
  {
   "cell_type": "code",
   "execution_count": 8,
   "metadata": {
    "collapsed": false
   },
   "outputs": [
    {
     "name": "stdout",
     "output_type": "stream",
     "text": [
      "GRACE Feature Brick Shape: (60, 120, 152)\n"
     ]
    }
   ],
   "source": [
    "# features\n",
    "f = open(dir_python_data+'grace_features_lowres.p', 'rb')\n",
    "grace_features_dict = pickle.load(f)\n",
    "f.close()\n",
    "\n",
    "# alter shape\n",
    "feature_lwe_rank =\\\n",
    "    np.flipud(grace_features_dict['grace_lwe_rank_lowres'].transpose(1,0,2))\n",
    "feature_lwe_noClim_rank =\\\n",
    "    np.flipud(grace_features_dict['grace_lwe_rank_lowres'].transpose(1,0,2))\n",
    "feature_lwe_clim_rank =\\\n",
    "    np.flipud(grace_features_dict['grace_lwe_rank_lowres'].transpose(1,0,2))\n",
    "    \n",
    "print\"GRACE Feature Brick Shape:\", feature_lwe_rank.shape"
   ]
  },
  {
   "cell_type": "markdown",
   "metadata": {},
   "source": [
    "## Flood Observatory"
   ]
  },
  {
   "cell_type": "code",
   "execution_count": 9,
   "metadata": {
    "collapsed": false
   },
   "outputs": [
    {
     "name": "stdout",
     "output_type": "stream",
     "text": [
      "Flood Event Brick Shape: (60, 120, 152)\n"
     ]
    }
   ],
   "source": [
    "# flood event brick\n",
    "f = open(dir_python_data+'flood_event_brick_lowres.p', 'rb')\n",
    "flood_event_brick = pickle.load(f)\n",
    "f.close()\n",
    "\n",
    "# alter shape\n",
    "flood_event_brick = flood_event_brick[0]\n",
    "flood_event_brick = np.flipud(flood_event_brick.transpose(1,0,2))\n",
    "print \"Flood Event Brick Shape:\",flood_event_brick.shape"
   ]
  },
  {
   "cell_type": "code",
   "execution_count": 10,
   "metadata": {
    "collapsed": false
   },
   "outputs": [
    {
     "name": "stdout",
     "output_type": "stream",
     "text": [
      "Flood Dataframe Shape: (1977, 41)\n"
     ]
    }
   ],
   "source": [
    "# flood dataframe\n",
    "df_name = 'df_flood_grace_time_location_features'\n",
    "df_flood_grace = pd.read_csv(dir_python_data + df_name + '.csv')\n",
    "df_flood_grace = df_flood_grace.drop('Unnamed: 0', axis=1)\n",
    "print \"Flood Dataframe Shape:\", df_flood_grace.shape"
   ]
  },
  {
   "cell_type": "markdown",
   "metadata": {},
   "source": [
    "# Script Variables"
   ]
  },
  {
   "cell_type": "code",
   "execution_count": 11,
   "metadata": {
    "collapsed": false
   },
   "outputs": [],
   "source": [
    "# GRACE\n",
    "dim = feature_lwe_rank.shape\n",
    "d1 = dim[0]\n",
    "d2 = dim[1]\n",
    "tp = dim[2]\n",
    "\n",
    "# FO\n",
    "floods = len(df_flood_grace)"
   ]
  },
  {
   "cell_type": "markdown",
   "metadata": {},
   "source": [
    "# Decision Tree Classification"
   ]
  },
  {
   "cell_type": "markdown",
   "metadata": {},
   "source": [
    "## Create Labels"
   ]
  },
  {
   "cell_type": "code",
   "execution_count": 12,
   "metadata": {
    "collapsed": false
   },
   "outputs": [],
   "source": [
    "label_brick = flood_event_brick\n",
    "y_labels = label_brick.ravel()"
   ]
  },
  {
   "cell_type": "code",
   "execution_count": 13,
   "metadata": {
    "collapsed": false
   },
   "outputs": [],
   "source": [
    "# mask out regions without flood events\n",
    "mask = ~np.isnan(y_labels)\n",
    "y_labels = y_labels[mask]\n",
    "y = y_labels"
   ]
  },
  {
   "cell_type": "markdown",
   "metadata": {},
   "source": [
    "## Create Features"
   ]
  },
  {
   "cell_type": "code",
   "execution_count": 14,
   "metadata": {
    "collapsed": false
   },
   "outputs": [],
   "source": [
    "# convert to percentiles\n",
    "feature_lwe_perc =\\\n",
    "    ((feature_lwe_rank/tp)*100).ravel()\n",
    "feature_lwe_noClim_perc =\\\n",
    "    ((feature_lwe_noClim_rank/tp)*100).ravel()\n",
    "feature_lwe_clim_perc =\\\n",
    "    ((feature_lwe_noClim_rank/tp)*100).ravel()"
   ]
  },
  {
   "cell_type": "code",
   "execution_count": 15,
   "metadata": {
    "collapsed": false
   },
   "outputs": [],
   "source": [
    "# mask out regions without flood events\n",
    "feature_lwe_perc = feature_lwe_perc[mask]\n",
    "feature_lwe_noClim_perc = feature_lwe_noClim_perc[mask]\n",
    "feature_lwe_clim_perc = feature_lwe_clim_perc[mask]"
   ]
  },
  {
   "cell_type": "code",
   "execution_count": 16,
   "metadata": {
    "collapsed": false
   },
   "outputs": [],
   "source": [
    "# create feature matrix\n",
    "X_features =\\\n",
    "    np.vstack((feature_lwe_perc, feature_lwe_noClim_perc, feature_lwe_clim_perc))\n",
    "X_features = X_features.transpose()\n",
    "X = X_features"
   ]
  },
  {
   "cell_type": "markdown",
   "metadata": {},
   "source": [
    "## Train-Test Split"
   ]
  },
  {
   "cell_type": "code",
   "execution_count": 17,
   "metadata": {
    "collapsed": false
   },
   "outputs": [],
   "source": [
    "idx_split = int(round(y.shape[0] * 0.7) -1)\n",
    "\n",
    "X_train = X[0:idx_split]\n",
    "X_test = X[idx_split:-1]\n",
    "\n",
    "y_train = y[0:idx_split]\n",
    "y_test = y[idx_split:-1]"
   ]
  },
  {
   "cell_type": "code",
   "execution_count": 18,
   "metadata": {
    "collapsed": false
   },
   "outputs": [
    {
     "name": "stdout",
     "output_type": "stream",
     "text": [
      "Length of Training Set:  63733\n",
      "Length of Testing Set:  27314\n"
     ]
    }
   ],
   "source": [
    "print \"Length of Training Set: \",len(y_train)\n",
    "print \"Length of Testing Set: \",len(y_test)"
   ]
  },
  {
   "cell_type": "markdown",
   "metadata": {},
   "source": [
    "## Decision Tree Analysis"
   ]
  },
  {
   "cell_type": "code",
   "execution_count": 35,
   "metadata": {
    "collapsed": false
   },
   "outputs": [],
   "source": [
    "clf = DecisionTreeClassifier(max_depth=2,\n",
    "                             min_samples_split=400)"
   ]
  },
  {
   "cell_type": "code",
   "execution_count": 36,
   "metadata": {
    "collapsed": false
   },
   "outputs": [
    {
     "data": {
      "image/png": "[encoded data removed]",
      "text/plain": [
       "<matplotlib.figure.Figure at 0x125875d90>"
      ]
     },
     "metadata": {},
     "output_type": "display_data"
    }
   ],
   "source": [
    "probas_ = clf.fit(X_train, y_train).predict_proba(X_test)\n",
    "y_scores = probas_[:,1]\n",
    "fpr, tpr, thresholds = roc_curve(y_test, y_scores)\n",
    "roc_auc = roc_auc_score(y_test, y_scores)\n",
    "plt.plot(fpr, tpr, 'b', label='ROC (area = %0.3f)' % roc_auc)\n",
    "\n",
    "plt.legend(loc='upper left', fontsize='medium', frameon=False)\n",
    "plt.show()"
   ]
  },
  {
   "cell_type": "code",
   "execution_count": 37,
   "metadata": {
    "collapsed": true
   },
   "outputs": [],
   "source": [
    "with open(\"tree.dot\", 'w') as f:\n",
    "    f = tree.export_graphviz(clf, out_file=f, filled=True, rounded=True, \n",
    "                             impurity=False, proportion=True,\n",
    "                             feature_names=['lwe perc','lwe no-clim perc','lwe clim'])\n",
    "\n",
    "# terminal command to create pdf\n",
    "# dot -Tpdf tree.dot -o tree.pdf"
   ]
  },
  {
   "cell_type": "markdown",
   "metadata": {},
   "source": [
    "## Random Forest Analysis"
   ]
  },
  {
   "cell_type": "code",
   "execution_count": 264,
   "metadata": {
    "collapsed": true
   },
   "outputs": [],
   "source": [
    "clf = RandomForestClassifier(n_estimators = 100,\n",
    "                             max_depth=2,\n",
    "                             min_samples_split=400)"
   ]
  },
  {
   "cell_type": "code",
   "execution_count": 265,
   "metadata": {
    "collapsed": false
   },
   "outputs": [
    {
     "data": {
      "image/png": "[encoded data removed]",
      "text/plain": [
       "<matplotlib.figure.Figure at 0x11b7f3810>"
      ]
     },
     "metadata": {},
     "output_type": "display_data"
    }
   ],
   "source": [
    "# fit and predict\n",
    "probas_ = clf.fit(X_train, y_train).predict_proba(X_test)\n",
    "y_scores = probas_[:,1]\n",
    "\n",
    "# roc curve\n",
    "fpr, tpr, thresholds = roc_curve(y_test, y_scores)\n",
    "roc_auc = roc_auc_score(y_test, y_scores)\n",
    "plt.plot(fpr, tpr, 'b', label='ROC (area = %0.3f)' % roc_auc)\n",
    "\n",
    "plt.legend(loc='upper left', fontsize='medium', frameon=False)\n",
    "plt.show()"
   ]
  },
  {
   "cell_type": "markdown",
   "metadata": {},
   "source": [
    "## Random Forest Analysis K-Fold Analysis"
   ]
  },
  {
   "cell_type": "code",
   "execution_count": 197,
   "metadata": {
    "collapsed": true
   },
   "outputs": [],
   "source": [
    "eval_size = 0.1"
   ]
  },
  {
   "cell_type": "code",
   "execution_count": 198,
   "metadata": {
    "collapsed": false
   },
   "outputs": [],
   "source": [
    "# create cross-validation folds\n",
    "kf = StratifiedKFold(y_labels, round(1./ eval_size))"
   ]
  },
  {
   "cell_type": "code",
   "execution_count": 212,
   "metadata": {
    "collapsed": false
   },
   "outputs": [],
   "source": [
    "clf = RandomForestClassifier(n_estimators=100, \n",
    "                             n_jobs=-1, \n",
    "                            min_samples_split=400,\n",
    "                             max_depth=2)"
   ]
  },
  {
   "cell_type": "code",
   "execution_count": 213,
   "metadata": {
    "collapsed": false
   },
   "outputs": [
    {
     "data": {
      "image/png": "[encoded data removed]",
      "text/plain": [
       "<matplotlib.figure.Figure at 0x11bcb6c10>"
      ]
     },
     "metadata": {},
     "output_type": "display_data"
    }
   ],
   "source": [
    "plt.figure(figsize=(9,4.95))\n",
    "\n",
    "tprs = []\n",
    "base_fpr = np.linspace(0, 1, 101)\n",
    "\n",
    "for i, (train, test) in enumerate(kf):\n",
    "    probas_ = clf.fit(X[train], y[train]).predict_proba(X[test])\n",
    "    y_scores = probas_[:,1]\n",
    "    fpr, tpr, thresholds = roc_curve(y[test], y_scores)\n",
    "    roc_auc = roc_auc_score(y[test], y_scores)\n",
    "    plt.plot(fpr, tpr, 'b', alpha=0.15)\n",
    "             #label='ROC fold %d (area = %0.3f)' % (i, roc_auc))\n",
    "            \n",
    "    tpr = interp(base_fpr, fpr, tpr)\n",
    "    tpr[0] = 0.0\n",
    "    tprs.append(tpr)\n",
    "    \n",
    "tprs = np.array(tprs)\n",
    "mean_tprs = tprs.mean(axis=0)\n",
    "std = tprs.std(axis=0)\n",
    "tprs_upper = np.minimum(mean_tprs + std, 1)\n",
    "tprs_lower = mean_tprs - std\n",
    "mean_auc = auc(base_fpr, mean_tprs)\n",
    "\n",
    "plt.plot(base_fpr, mean_tprs, 'b', lw=2,\\\n",
    "         label='Mean ROC (area = %0.3f)' % mean_auc)\n",
    "plt.legend(loc='upper left', fontsize='medium', frameon=False)\n",
    "plt.plot([0,1],[0,1], 'r', ls='--', label='luck')\n",
    "#plt.fill_between(base_fpr, tprs_lower, tprs_upper, color='gray', alpha=0.3)\n",
    "\n",
    "plt.show()"
   ]
  }
 ],
 "metadata": {
  "kernelspec": {
   "display_name": "Python 2",
   "language": "python",
   "name": "python2"
  },
  "language_info": {
   "codemirror_mode": {
    "name": "ipython",
    "version": 2
   },
   "file_extension": ".py",
   "mimetype": "text/x-python",
   "name": "python",
   "nbconvert_exporter": "python",
   "pygments_lexer": "ipython2",
   "version": "2.7.11"
  }
 },
 "nbformat": 4,
 "nbformat_minor": 0
}
