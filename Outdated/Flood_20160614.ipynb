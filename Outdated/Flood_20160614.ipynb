{
 "cells": [
  {
   "cell_type": "markdown",
   "metadata": {},
   "source": [
    "# Flood Observatory - GRACE Analysis\n",
    "\n",
    "<h3> \n",
    "Aaron Trefler <br/>\n",
    "JPL <br/>\n",
    "Created: 06/07/2016 <br/>\n",
    "</h3>"
   ]
  },
  {
   "cell_type": "markdown",
   "metadata": {},
   "source": [
    "# Setup"
   ]
  },
  {
   "cell_type": "code",
   "execution_count": 16,
   "metadata": {
    "collapsed": false,
    "scrolled": true
   },
   "outputs": [],
   "source": [
    "import datetime as dt\n",
    "import matplotlib.pyplot as plt\n",
    "import numpy as np\n",
    "import pandas as pd\n",
    "import scipy.io as sio "
   ]
  },
  {
   "cell_type": "code",
   "execution_count": 17,
   "metadata": {
    "collapsed": false
   },
   "outputs": [
    {
     "name": "stdout",
     "output_type": "stream",
     "text": [
      "Populating the interactive namespace from numpy and matplotlib\n"
     ]
    }
   ],
   "source": [
    "%pylab inline"
   ]
  },
  {
   "cell_type": "code",
   "execution_count": 18,
   "metadata": {
    "collapsed": true
   },
   "outputs": [],
   "source": [
    "# define directories\n",
    "dir_flood = '../../Raw Data/Flood Observatory/'\n",
    "dir_grace = '../../Work_Matlab/Data/'\n",
    "dir_figures = '../Figures/'"
   ]
  },
  {
   "cell_type": "markdown",
   "metadata": {},
   "source": [
    "## Load Data"
   ]
  },
  {
   "cell_type": "markdown",
   "metadata": {},
   "source": [
    "### Flood Observatory"
   ]
  },
  {
   "cell_type": "code",
   "execution_count": 19,
   "metadata": {
    "collapsed": true
   },
   "outputs": [],
   "source": [
    "df_flood = pd.read_csv(dir_flood + 'MasterListrev.csv')"
   ]
  },
  {
   "cell_type": "code",
   "execution_count": 20,
   "metadata": {
    "collapsed": false,
    "scrolled": false
   },
   "outputs": [
    {
     "data": {
      "text/plain": [
       "['Register #',\n",
       " 'Annual DFO # (discontinued)',\n",
       " 'Glide #',\n",
       " 'Country',\n",
       " 'Other',\n",
       " 'Nations',\n",
       " ' Affected',\n",
       " 'Detailed Locations (click on active links to access inundation extents)',\n",
       " 'Validation (post event #3503)',\n",
       " 'Began',\n",
       " 'Ended',\n",
       " 'Duration in Days',\n",
       " 'Dead',\n",
       " 'Displaced',\n",
       " 'Damage (USD)',\n",
       " 'Main cause',\n",
       " 'Severity *',\n",
       " 'Affected sq km',\n",
       " 'Magnitude (M)**',\n",
       " 'Centroid X',\n",
       " 'Centroid Y',\n",
       " '\"News\" if validated',\n",
       " 'M>6',\n",
       " 'Total annual floods M>6',\n",
       " 'M>4',\n",
       " 'Total annual floods M>4',\n",
       " 'Date Began',\n",
       " 'Total floods M>6',\n",
       " 'Total floods M>4',\n",
       " 'Notes and Comments (may include quoted headlines from copyrighted news stories; for internal research purposes only)',\n",
       " 'Unnamed: 30',\n",
       " 'Unnamed: 31',\n",
       " 'Unnamed: 32',\n",
       " 'Unnamed: 33',\n",
       " 'Unnamed: 34',\n",
       " 'Unnamed: 35']"
      ]
     },
     "execution_count": 20,
     "metadata": {},
     "output_type": "execute_result"
    }
   ],
   "source": [
    "# flood observatory column descriptions\n",
    "list(df_flood.columns.values)"
   ]
  },
  {
   "cell_type": "markdown",
   "metadata": {},
   "source": [
    "### GRACE Mascon-CRI"
   ]
  },
  {
   "cell_type": "code",
   "execution_count": 21,
   "metadata": {
    "collapsed": false
   },
   "outputs": [],
   "source": [
    "# GRACE MASCON-CRI Matlab files\n",
    "mat_content_1 = sio.loadmat(dir_grace + \\\n",
    "    'GRCTellus.JPL.200204_201603.GLO.RL05M_1.MSCNv02CRIv02_percentileMaps.nc.mat')\n",
    "mat_content_2 = sio.loadmat(dir_grace + \\\n",
    "    'GRCTellus.JPL.200204_201603.GLO.RL05M_1.MSCNv02CRIv02.nc.mat')\n",
    "mat_content_3 = sio.loadmat(dir_grace + \\\n",
    "    'GRCTellus.JPL.200204_201603.GLO.RL05M_1.MSCNv02CRIv02_dateVectors.nc.mat')\n",
    "\n",
    "grace_lwe = mat_content_2['lwe_thickness']\n",
    "grace_lwe_perc = mat_content_1['lwe_thickness_percentiles']\n",
    "grace_lwe_perc_adj = mat_content_1['lwe_thickness_percentiles_adj']\n",
    "grace_lat = mat_content_2['lat']\n",
    "grace_lon = mat_content_2['lon']\n",
    "grace_time = mat_content_2['time']\n",
    "grace_time_datestr = mat_content_3['time_datestr']\n",
    "grace_uncertainty = mat_content_2['uncertainty']"
   ]
  },
  {
   "cell_type": "code",
   "execution_count": 22,
   "metadata": {
    "collapsed": false
   },
   "outputs": [
    {
     "name": "stdout",
     "output_type": "stream",
     "text": [
      "[('lwe_thickness_percentiles', (720, 360, 152), 'double'), ('lwe_thickness_percentiles_adj', (360, 720, 152), 'double')]\n",
      "[('lat', (360, 1), 'double'), ('lon', (720, 1), 'double'), ('lwe_thickness', (720, 360, 152), 'double'), ('time', (152, 1), 'double'), ('uncertainty', (720, 360, 152), 'double')]\n",
      "[('time_datenum', (152, 1), 'double'), ('time_datestr', (152,), 'char'), ('time_datestr_cell', (152, 1), 'cell'), ('time_dayOfYear', (152, 1), 'double'), ('time_month', (152, 1), 'double'), ('time_year', (152, 1), 'double')]\n"
     ]
    }
   ],
   "source": [
    "# GRACE MASCON-CRI data description\n",
    "print sio.whosmat(dir_grace + \\\n",
    "    'GRCTellus.JPL.200204_201603.GLO.RL05M_1.MSCNv02CRIv02_percentileMaps.nc.mat')\n",
    "print sio.whosmat(dir_grace + \\\n",
    "    'GRCTellus.JPL.200204_201603.GLO.RL05M_1.MSCNv02CRIv02.nc.mat')\n",
    "print sio.whosmat(dir_grace + \\\n",
    "    'GRCTellus.JPL.200204_201603.GLO.RL05M_1.MSCNv02CRIv02_dateVectors.nc.mat')"
   ]
  },
  {
   "cell_type": "markdown",
   "metadata": {},
   "source": [
    "# Flood Dataframe Cleaning"
   ]
  },
  {
   "cell_type": "code",
   "execution_count": 24,
   "metadata": {
    "collapsed": false
   },
   "outputs": [
    {
     "name": "stdout",
     "output_type": "stream",
     "text": [
      "(2454, 17)\n"
     ]
    }
   ],
   "source": [
    "# create dataframe with relevant columns\n",
    "df_flood_sub = df_flood[['Register #', 'Began','Date Began', 'Ended','Duration in Days',\\\n",
    "             'Dead','Displaced','Damage (USD)', \\\n",
    "             'Main cause','Severity *','Affected sq km','Magnitude (M)**',\n",
    "             'Country','Other', \\\n",
    "            'Detailed Locations (click on active links to access inundation extents)', \\\n",
    "             'Centroid X', 'Centroid Y', \\\n",
    "             ]]\n",
    "\n",
    "# alter column names\n",
    "df_flood_sub = df_flood_sub.rename(columns = \\\n",
    "    {'Detailed Locations (click on active links to access inundation extents)': \\\n",
    "     'Detailed Locations'})\n",
    "\n",
    "\n",
    "# create dataframe with records occuring after GRACE launch\n",
    "df_flood_grace = df_flood_sub[(df_flood_sub['Register #'] > 1901)]\n",
    "\n",
    "print df_flood_grace.shape"
   ]
  },
  {
   "cell_type": "code",
   "execution_count": 25,
   "metadata": {
    "collapsed": false,
    "scrolled": true
   },
   "outputs": [
    {
     "data": {
      "text/html": [
       "<div>\n",
       "<table border=\"1\" class=\"dataframe\">\n",
       "  <thead>\n",
       "    <tr style=\"text-align: right;\">\n",
       "      <th></th>\n",
       "      <th>Register #</th>\n",
       "      <th>Began</th>\n",
       "      <th>Ended</th>\n",
       "      <th>Date Began</th>\n",
       "    </tr>\n",
       "  </thead>\n",
       "  <tbody>\n",
       "    <tr>\n",
       "      <th>856</th>\n",
       "      <td>3500.0</td>\n",
       "      <td>NaN</td>\n",
       "      <td>NaN</td>\n",
       "      <td>NaN</td>\n",
       "    </tr>\n",
       "    <tr>\n",
       "      <th>2033</th>\n",
       "      <td>2323.0</td>\n",
       "      <td>NaN</td>\n",
       "      <td>NaN</td>\n",
       "      <td>NaN</td>\n",
       "    </tr>\n",
       "    <tr>\n",
       "      <th>2037</th>\n",
       "      <td>2319.0</td>\n",
       "      <td>NaN</td>\n",
       "      <td>NaN</td>\n",
       "      <td>NaN</td>\n",
       "    </tr>\n",
       "    <tr>\n",
       "      <th>2038</th>\n",
       "      <td>2318.0</td>\n",
       "      <td>NaN</td>\n",
       "      <td>NaN</td>\n",
       "      <td>NaN</td>\n",
       "    </tr>\n",
       "    <tr>\n",
       "      <th>2044</th>\n",
       "      <td>2312.0</td>\n",
       "      <td>NaN</td>\n",
       "      <td>NaN</td>\n",
       "      <td>NaN</td>\n",
       "    </tr>\n",
       "  </tbody>\n",
       "</table>\n",
       "</div>"
      ],
      "text/plain": [
       "      Register # Began Ended Date Began\n",
       "856       3500.0   NaN   NaN        NaN\n",
       "2033      2323.0   NaN   NaN        NaN\n",
       "2037      2319.0   NaN   NaN        NaN\n",
       "2038      2318.0   NaN   NaN        NaN\n",
       "2044      2312.0   NaN   NaN        NaN"
      ]
     },
     "execution_count": 25,
     "metadata": {},
     "output_type": "execute_result"
    }
   ],
   "source": [
    "# display NaN rows for 'Began' column\n",
    "null_rows = df_flood_grace['Began'].isnull()\n",
    "df_flood_grace[['Register #', 'Began', 'Ended', 'Date Began']][null_rows]"
   ]
  },
  {
   "cell_type": "code",
   "execution_count": 26,
   "metadata": {
    "collapsed": false
   },
   "outputs": [],
   "source": [
    "# remove NaN rows\n",
    "df_flood_grace = df_flood_grace[~null_rows]"
   ]
  },
  {
   "cell_type": "markdown",
   "metadata": {},
   "source": [
    "## Add GRACE Percentiles"
   ]
  },
  {
   "cell_type": "markdown",
   "metadata": {},
   "source": [
    "### Conversion: Centroid Fields"
   ]
  },
  {
   "cell_type": "code",
   "execution_count": 27,
   "metadata": {
    "collapsed": false
   },
   "outputs": [],
   "source": [
    "# convert Centroid X\n",
    "df_flood_grace['Centroid X GRACE'] = df_flood_grace['Centroid X']\n",
    "a_centroid_x = df_flood_grace['Centroid X GRACE'].values\n",
    "\n",
    "for i in range(a_centroid_x.size):\n",
    "    centroid_x = a_centroid_x[i]\n",
    "    \n",
    "    if centroid_x < 0:\n",
    "        a_centroid_x[i] = (180 - (centroid_x * -1)) + 180\n",
    "\n",
    "df_flood_grace['Centroid X GRACE'] = a_centroid_x\n",
    "df_flood_grace['Centroid X GRACE'] = df_flood_grace['Centroid X GRACE'] * 2\n",
    "\n",
    "\n",
    "# convert Centroid Y\n",
    "df_flood_grace['Centroid Y GRACE'] = df_flood_grace['Centroid Y']\n",
    "a_centroid_y = df_flood_grace['Centroid Y GRACE'].values\n",
    "\n",
    "for i in range(a_centroid_y.size):\n",
    "    centroid_y = a_centroid_y[i]\n",
    "    \n",
    "    a_centroid_y[i] = centroid_y + 90\n",
    "        \n",
    "df_flood_grace['Centroid Y GRACE'] = a_centroid_y\n",
    "df_flood_grace['Centroid Y GRACE'] = df_flood_grace['Centroid Y GRACE'] * 2\n",
    "df_flood_grace['Centroid Y GRACE'] = 360 - df_flood_grace['Centroid Y GRACE']\n"
   ]
  },
  {
   "cell_type": "markdown",
   "metadata": {},
   "source": [
    "### Date Association"
   ]
  },
  {
   "cell_type": "code",
   "execution_count": null,
   "metadata": {
    "collapsed": false
   },
   "outputs": [],
   "source": [
    "# convert GRACE times to Series\n",
    "s_grace_time_datestr = pd.Series(grace_time_datestr)\n",
    "\n",
    "# empty vectors\n",
    "diff = np.zeros(s_grace_time_datestr.size)\n",
    "min_diff = np.zeros(df_flood_grace.shape[0])\n",
    "min_diff_ix = np.zeros(df_flood_grace.shape[0])\n",
    "\n",
    "# find GRACE MASCON index for each flood\n",
    "for i in range(df_flood_grace.shape[0]):\n",
    "    \n",
    "    date_flood = df_flood_grace['Began'].iloc[i]\n",
    "    datetime_flood = dt.datetime.strptime(date_flood, \"%d-%b-%y\")\n",
    "    \n",
    "    for j in range(s_grace_time_datestr.size):\n",
    "        \n",
    "        date_mascon = s_grace_time_datestr.iloc[j]\n",
    "        datetime_mascon = dt.datetime.strptime(date_mascon, \"%d-%b-%Y\")\n",
    "    \n",
    "        # diff b/w grace and flood\n",
    "        diff[j] = abs((datetime_flood - datetime_mascon).days)\n",
    "        \n",
    "    # minimum difference\n",
    "    min_diff[i] = diff.min()\n",
    "    min_diff_ix[i] = diff.argmin()\n",
    "\n",
    "# add date association metrics to dataframe\n",
    "df_flood_grace['Days from MASCON'] = min_diff\n",
    "df_flood_grace['MASCON Index'] = min_diff_ix"
   ]
  },
  {
   "cell_type": "code",
   "execution_count": null,
   "metadata": {
    "collapsed": false,
    "scrolled": true
   },
   "outputs": [],
   "source": [
    "# plot histogram of differences b/w flood and GRACE-MASCON dates\n",
    "plt.hist(df_flood_grace['Days from MASCON'])"
   ]
  },
  {
   "cell_type": "code",
   "execution_count": null,
   "metadata": {
    "collapsed": false
   },
   "outputs": [],
   "source": [
    "# plot histogram of GRACE MASCON time indexes of floods\n",
    "plt.hist(df_flood_grace['MASCON Index'])"
   ]
  },
  {
   "cell_type": "markdown",
   "metadata": {},
   "source": [
    "### Percentile Association"
   ]
  },
  {
   "cell_type": "code",
   "execution_count": null,
   "metadata": {
    "collapsed": false
   },
   "outputs": [],
   "source": [
    "# create empty vectors\n",
    "perc = np.zeros(df_flood_grace.shape[0])\n",
    "\n",
    "# extract percentiles\n",
    "for i in range(df_flood_grace.shape[0]):\n",
    "    x = int(round(df_flood_grace['Centroid X GRACE'].iloc[i]))\n",
    "    y = int(round(df_flood_grace['Centroid Y GRACE'].iloc[i]))\n",
    "    time_ix = int(min_diff_ix[i])\n",
    "    \n",
    "    if x == 720:\n",
    "        x = 719\n",
    "    \n",
    "    perc[i] = grace_lwe_perc_adj[y-1, x-1,  time_ix] "
   ]
  },
  {
   "cell_type": "code",
   "execution_count": null,
   "metadata": {
    "collapsed": false
   },
   "outputs": [],
   "source": [
    "df_flood_grace['GRACE %'] = perc"
   ]
  },
  {
   "cell_type": "markdown",
   "metadata": {},
   "source": [
    "### Remove Floods Outside GRACE Land Mask "
   ]
  },
  {
   "cell_type": "code",
   "execution_count": null,
   "metadata": {
    "collapsed": false
   },
   "outputs": [],
   "source": [
    "# list of floods outsdie land mask\n",
    "df_flood_grace_ocean = df_flood_grace[df_flood_grace['GRACE %'] == -1]\n",
    "df_flood_grace_ocean[['Country','Centroid X GRACE', 'Centroid Y GRACE', 'MASCON Index']].head(5)"
   ]
  },
  {
   "cell_type": "code",
   "execution_count": null,
   "metadata": {
    "collapsed": true
   },
   "outputs": [],
   "source": [
    "df_flood_grace_land = df_flood_grace[~(df_flood_grace['GRACE %'] == -1)]"
   ]
  },
  {
   "cell_type": "markdown",
   "metadata": {},
   "source": [
    "# Plots"
   ]
  },
  {
   "cell_type": "code",
   "execution_count": null,
   "metadata": {
    "collapsed": false
   },
   "outputs": [],
   "source": [
    "# set dataframe for plotting\n",
    "df = df_flood_grace_land\n",
    "df.shape"
   ]
  },
  {
   "cell_type": "code",
   "execution_count": null,
   "metadata": {
    "collapsed": false
   },
   "outputs": [],
   "source": [
    "df.head()"
   ]
  },
  {
   "cell_type": "code",
   "execution_count": null,
   "metadata": {
    "collapsed": false
   },
   "outputs": [],
   "source": [
    "# frequency of floods across the world\n",
    "x = df['Centroid X']\n",
    "y = df['Centroid Y']\n",
    "\n",
    "plt.scatter(x, y, alpha=0.05)\n",
    "plt.title('Mainland Flood Events\\n04/02 to 05/16')\n",
    "plt.xlabel('Longitude')\n",
    "plt.ylabel('Latitude')\n",
    "plt.savefig(dir_figures + 'floods_events.png')"
   ]
  },
  {
   "cell_type": "code",
   "execution_count": null,
   "metadata": {
    "collapsed": false
   },
   "outputs": [],
   "source": [
    "# GRACE levels during flood events\n",
    "plt.hist(df['GRACE %'], bins=20)\n",
    "plt.title('Ground Water Level at Time of Flood')\n",
    "plt.xlabel('GRACE Percentile at Flood Location')\n",
    "plt.ylabel('Number of Floods\\n04/02 to 05/16')\n",
    "plt.savefig(dir_figures + 'floods_GRACEPercentiles.png')"
   ]
  }
 ],
 "metadata": {
  "kernelspec": {
   "display_name": "Python 2",
   "language": "python",
   "name": "python2"
  },
  "language_info": {
   "codemirror_mode": {
    "name": "ipython",
    "version": 2
   },
   "file_extension": ".py",
   "mimetype": "text/x-python",
   "name": "python",
   "nbconvert_exporter": "python",
   "pygments_lexer": "ipython2",
   "version": "2.7.11"
  }
 },
 "nbformat": 4,
 "nbformat_minor": 0
}
