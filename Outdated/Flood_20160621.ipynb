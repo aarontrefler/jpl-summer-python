{
 "cells": [
  {
   "cell_type": "markdown",
   "metadata": {},
   "source": [
    "# Flood Observatory - GRACE Analysis\n",
    "\n",
    "<h3> \n",
    "Aaron Trefler <br/>\n",
    "JPL <br/>\n",
    "Created: 06/07/2016 <br/>\n",
    "</h3>"
   ]
  },
  {
   "cell_type": "markdown",
   "metadata": {},
   "source": [
    "# Setup"
   ]
  },
  {
   "cell_type": "code",
   "execution_count": 118,
   "metadata": {
    "collapsed": false,
    "scrolled": true
   },
   "outputs": [],
   "source": [
    "import datetime as dt\n",
    "import matplotlib.pyplot as plt\n",
    "import numpy as np\n",
    "import pandas as pd\n",
    "import scipy.io as sio "
   ]
  },
  {
   "cell_type": "code",
   "execution_count": 119,
   "metadata": {
    "collapsed": false
   },
   "outputs": [
    {
     "name": "stdout",
     "output_type": "stream",
     "text": [
      "Populating the interactive namespace from numpy and matplotlib\n"
     ]
    },
    {
     "name": "stderr",
     "output_type": "stream",
     "text": [
      "WARNING: pylab import has clobbered these variables: ['diff']\n",
      "`%matplotlib` prevents importing * from pylab and numpy\n"
     ]
    }
   ],
   "source": [
    "%pylab inline"
   ]
  },
  {
   "cell_type": "code",
   "execution_count": 120,
   "metadata": {
    "collapsed": true
   },
   "outputs": [],
   "source": [
    "# define directories\n",
    "dir_flood = '../../Raw Data/Flood Observatory/'\n",
    "dir_grace = '../../Work_Matlab/Data/'\n",
    "dir_figures = '../Figures/'"
   ]
  },
  {
   "cell_type": "markdown",
   "metadata": {},
   "source": [
    "## Load Data"
   ]
  },
  {
   "cell_type": "markdown",
   "metadata": {},
   "source": [
    "### Flood Observatory"
   ]
  },
  {
   "cell_type": "code",
   "execution_count": 121,
   "metadata": {
    "collapsed": true
   },
   "outputs": [],
   "source": [
    "df_flood = pd.read_csv(dir_flood + 'MasterListrev.csv')"
   ]
  },
  {
   "cell_type": "code",
   "execution_count": 122,
   "metadata": {
    "collapsed": false,
    "scrolled": false
   },
   "outputs": [
    {
     "data": {
      "text/plain": [
       "['Register #',\n",
       " 'Annual DFO # (discontinued)',\n",
       " 'Glide #',\n",
       " 'Country',\n",
       " 'Other',\n",
       " 'Nations',\n",
       " ' Affected',\n",
       " 'Detailed Locations (click on active links to access inundation extents)',\n",
       " 'Validation (post event #3503)',\n",
       " 'Began',\n",
       " 'Ended',\n",
       " 'Duration in Days',\n",
       " 'Dead',\n",
       " 'Displaced',\n",
       " 'Damage (USD)',\n",
       " 'Main cause',\n",
       " 'Severity *',\n",
       " 'Affected sq km',\n",
       " 'Magnitude (M)**',\n",
       " 'Centroid X',\n",
       " 'Centroid Y',\n",
       " '\"News\" if validated',\n",
       " 'M>6',\n",
       " 'Total annual floods M>6',\n",
       " 'M>4',\n",
       " 'Total annual floods M>4',\n",
       " 'Date Began',\n",
       " 'Total floods M>6',\n",
       " 'Total floods M>4',\n",
       " 'Notes and Comments (may include quoted headlines from copyrighted news stories; for internal research purposes only)',\n",
       " 'Unnamed: 30',\n",
       " 'Unnamed: 31',\n",
       " 'Unnamed: 32',\n",
       " 'Unnamed: 33',\n",
       " 'Unnamed: 34',\n",
       " 'Unnamed: 35']"
      ]
     },
     "execution_count": 122,
     "metadata": {},
     "output_type": "execute_result"
    }
   ],
   "source": [
    "# flood observatory column descriptions\n",
    "list(df_flood.columns.values)"
   ]
  },
  {
   "cell_type": "markdown",
   "metadata": {},
   "source": [
    "### GRACE Mascon-CRI"
   ]
  },
  {
   "cell_type": "code",
   "execution_count": 140,
   "metadata": {
    "collapsed": false
   },
   "outputs": [],
   "source": [
    "# GRACE MASCON-CRI Matlab files\n",
    "mat_content_grace = sio.loadmat(dir_grace + \\\n",
    "    'GRCTellus.JPL.200204_201603.GLO.RL05M_1.MSCNv02CRIv02.nc.mat')\n",
    "mat_content_derivedMaps = sio.loadmat(dir_grace + \\\n",
    "    'GRCTellus.JPL.200204_201603.GLO.RL05M_1.MSCNv02CRIv02_derivedMaps.nc.mat')\n",
    "mat_content_dateVectors = sio.loadmat(dir_grace + \\\n",
    "    'GRCTellus.JPL.200204_201603.GLO.RL05M_1.MSCNv02CRIv02_dateVectors.nc.mat')\n",
    "\n",
    "grace_lwe_perc_adj = mat_content_derivedMaps['lwe_thickness_percentiles_adj']\n",
    "grace_lwe_climRemStd_adj = mat_content_derivedMaps['lwe_thickness_climRemStd_adj']\n",
    "grace_time_datestr = mat_content_dateVectors['time_datestr']"
   ]
  },
  {
   "cell_type": "code",
   "execution_count": 142,
   "metadata": {
    "collapsed": false
   },
   "outputs": [
    {
     "name": "stdout",
     "output_type": "stream",
     "text": [
      "[('lat', (360, 1), 'double'), ('lon', (720, 1), 'double'), ('lwe_thickness', (720, 360, 152), 'double'), ('time', (152, 1), 'double'), ('uncertainty', (720, 360, 152), 'double')]\n",
      "[('lwe_thickness_percentiles', (720, 360, 152), 'double'), ('lwe_thickness_percentiles_adj', (360, 720, 152), 'double'), ('lwe_thickness_climRemStd', (720, 360, 152), 'double'), ('lwe_thickness_climRemStd_adj', (360, 720, 152), 'double'), ('lwe_thickness_climRem', (720, 360, 152), 'double'), ('lwe_thickness_climRem_adj', (360, 720, 152), 'double'), ('lwe_thickness_climatology', (720, 360, 152), 'double'), ('lwe_thickness_climatology_adj', (720, 360, 152), 'double')]\n",
      "[('time_datenum', (152, 1), 'double'), ('time_datestr', (152,), 'char'), ('time_datestr_cell', (152, 1), 'cell'), ('time_dayOfYear', (152, 1), 'double'), ('time_month', (152, 1), 'double'), ('time_year', (152, 1), 'double')]\n"
     ]
    }
   ],
   "source": [
    "# GRACE MASCON-CRI data description\n",
    "print sio.whosmat(dir_grace + \\\n",
    "    'GRCTellus.JPL.200204_201603.GLO.RL05M_1.MSCNv02CRIv02.nc.mat')\n",
    "print sio.whosmat(dir_grace + \\\n",
    "    'GRCTellus.JPL.200204_201603.GLO.RL05M_1.MSCNv02CRIv02_derivedMaps.nc.mat')\n",
    "print sio.whosmat(dir_grace + \\\n",
    "    'GRCTellus.JPL.200204_201603.GLO.RL05M_1.MSCNv02CRIv02_dateVectors.nc.mat')"
   ]
  },
  {
   "cell_type": "markdown",
   "metadata": {},
   "source": [
    "# Flood Dataframe Cleaning"
   ]
  },
  {
   "cell_type": "code",
   "execution_count": 125,
   "metadata": {
    "collapsed": false
   },
   "outputs": [
    {
     "name": "stdout",
     "output_type": "stream",
     "text": [
      "(2450, 17)\n"
     ]
    }
   ],
   "source": [
    "# create dataframe with relevant columns\n",
    "df_flood_sub = df_flood[['Register #', 'Began','Date Began', 'Ended','Duration in Days',\\\n",
    "             'Dead','Displaced','Damage (USD)', \\\n",
    "             'Main cause','Severity *','Affected sq km','Magnitude (M)**',\n",
    "             'Country','Other', \\\n",
    "            'Detailed Locations (click on active links to access inundation extents)', \\\n",
    "             'Centroid X', 'Centroid Y', \\\n",
    "             ]]\n",
    "\n",
    "# alter column names\n",
    "df_flood_sub = df_flood_sub.rename(columns = \\\n",
    "    {'Detailed Locations (click on active links to access inundation extents)': \\\n",
    "     'Detailed Locations'})\n",
    "\n",
    "\n",
    "# create dataframe with records occuring \n",
    "# (1) after GRACE launch: 04/16/2002 \n",
    "# (2) flood number 1907 began before GRACE launch, but ended after\n",
    "# note final GRACE MASCON: 03/17/2016\n",
    "df_flood_grace = df_flood_sub[(df_flood_sub['Register #'] > 1904) & \\\n",
    "                              (df_flood_sub['Register #'] != 1907)]\n",
    "\n",
    "print df_flood_grace.shape"
   ]
  },
  {
   "cell_type": "code",
   "execution_count": 126,
   "metadata": {
    "collapsed": false,
    "scrolled": true
   },
   "outputs": [
    {
     "data": {
      "text/html": [
       "<div>\n",
       "<table border=\"1\" class=\"dataframe\">\n",
       "  <thead>\n",
       "    <tr style=\"text-align: right;\">\n",
       "      <th></th>\n",
       "      <th>Register #</th>\n",
       "      <th>Began</th>\n",
       "      <th>Ended</th>\n",
       "      <th>Date Began</th>\n",
       "    </tr>\n",
       "  </thead>\n",
       "  <tbody>\n",
       "    <tr>\n",
       "      <th>856</th>\n",
       "      <td>3500.0</td>\n",
       "      <td>NaN</td>\n",
       "      <td>NaN</td>\n",
       "      <td>NaN</td>\n",
       "    </tr>\n",
       "    <tr>\n",
       "      <th>2033</th>\n",
       "      <td>2323.0</td>\n",
       "      <td>NaN</td>\n",
       "      <td>NaN</td>\n",
       "      <td>NaN</td>\n",
       "    </tr>\n",
       "    <tr>\n",
       "      <th>2037</th>\n",
       "      <td>2319.0</td>\n",
       "      <td>NaN</td>\n",
       "      <td>NaN</td>\n",
       "      <td>NaN</td>\n",
       "    </tr>\n",
       "    <tr>\n",
       "      <th>2038</th>\n",
       "      <td>2318.0</td>\n",
       "      <td>NaN</td>\n",
       "      <td>NaN</td>\n",
       "      <td>NaN</td>\n",
       "    </tr>\n",
       "    <tr>\n",
       "      <th>2044</th>\n",
       "      <td>2312.0</td>\n",
       "      <td>NaN</td>\n",
       "      <td>NaN</td>\n",
       "      <td>NaN</td>\n",
       "    </tr>\n",
       "  </tbody>\n",
       "</table>\n",
       "</div>"
      ],
      "text/plain": [
       "      Register # Began Ended Date Began\n",
       "856       3500.0   NaN   NaN        NaN\n",
       "2033      2323.0   NaN   NaN        NaN\n",
       "2037      2319.0   NaN   NaN        NaN\n",
       "2038      2318.0   NaN   NaN        NaN\n",
       "2044      2312.0   NaN   NaN        NaN"
      ]
     },
     "execution_count": 126,
     "metadata": {},
     "output_type": "execute_result"
    }
   ],
   "source": [
    "# display NaN rows for 'Began' column\n",
    "null_rows = df_flood_grace['Began'].isnull()\n",
    "df_flood_grace[['Register #', 'Began', 'Ended', 'Date Began']][null_rows]"
   ]
  },
  {
   "cell_type": "code",
   "execution_count": 127,
   "metadata": {
    "collapsed": false
   },
   "outputs": [],
   "source": [
    "# remove NaN rows\n",
    "df_flood_grace = df_flood_grace[~null_rows]"
   ]
  },
  {
   "cell_type": "markdown",
   "metadata": {},
   "source": [
    "## Add GRACE Percentiles"
   ]
  },
  {
   "cell_type": "markdown",
   "metadata": {},
   "source": [
    "### Conversion: Centroid Fields"
   ]
  },
  {
   "cell_type": "code",
   "execution_count": 128,
   "metadata": {
    "collapsed": false
   },
   "outputs": [],
   "source": [
    "# convert Centroid X\n",
    "df_flood_grace['Centroid X GRACE'] = df_flood_grace['Centroid X']\n",
    "a_centroid_x = df_flood_grace['Centroid X GRACE'].values\n",
    "\n",
    "for i in range(a_centroid_x.size):\n",
    "    centroid_x = a_centroid_x[i]\n",
    "    \n",
    "    if centroid_x < 0:\n",
    "        a_centroid_x[i] = (180 - (centroid_x * -1)) + 180\n",
    "\n",
    "df_flood_grace['Centroid X GRACE'] = a_centroid_x\n",
    "df_flood_grace['Centroid X GRACE'] = df_flood_grace['Centroid X GRACE'] * 2\n",
    "\n",
    "\n",
    "# convert Centroid Y\n",
    "df_flood_grace['Centroid Y GRACE'] = df_flood_grace['Centroid Y']\n",
    "a_centroid_y = df_flood_grace['Centroid Y GRACE'].values\n",
    "\n",
    "for i in range(a_centroid_y.size):\n",
    "    centroid_y = a_centroid_y[i]\n",
    "    \n",
    "    a_centroid_y[i] = centroid_y + 90\n",
    "        \n",
    "df_flood_grace['Centroid Y GRACE'] = a_centroid_y\n",
    "df_flood_grace['Centroid Y GRACE'] = df_flood_grace['Centroid Y GRACE'] * 2\n",
    "df_flood_grace['Centroid Y GRACE'] = 360 - df_flood_grace['Centroid Y GRACE']\n"
   ]
  },
  {
   "cell_type": "markdown",
   "metadata": {},
   "source": [
    "### Date Association"
   ]
  },
  {
   "cell_type": "code",
   "execution_count": 129,
   "metadata": {
    "collapsed": false
   },
   "outputs": [],
   "source": [
    "# convert GRACE times to Series\n",
    "s_grace_time_datestr = pd.Series(grace_time_datestr)\n",
    "\n",
    "# empty vectors\n",
    "diff = np.zeros(s_grace_time_datestr.size)\n",
    "min_diff = np.zeros(df_flood_grace.shape[0])\n",
    "min_diff_ix = np.zeros(df_flood_grace.shape[0])\n",
    "\n",
    "# find GRACE MASCON index for each flood\n",
    "for i in range(df_flood_grace.shape[0]):\n",
    "    \n",
    "    date_flood = df_flood_grace['Began'].iloc[i]\n",
    "    datetime_flood = dt.datetime.strptime(date_flood, \"%d-%b-%y\")\n",
    "    \n",
    "    for j in range(s_grace_time_datestr.size):\n",
    "        \n",
    "        date_mascon = s_grace_time_datestr.iloc[j]\n",
    "        datetime_mascon = dt.datetime.strptime(date_mascon, \"%d-%b-%Y\")\n",
    "    \n",
    "        # diff b/w grace and flood\n",
    "        diff[j] = (datetime_flood - datetime_mascon).days\n",
    "        \n",
    "        # negative values indicate MASCONs that occur after flood\n",
    "        diff[diff < 0] = diff.max()\n",
    "        \n",
    "        \n",
    "    # minimum difference\n",
    "    min_diff[i] = diff.min()\n",
    "    min_diff_ix[i] = diff.argmin() #returns index of first occurance of min value\n",
    "\n",
    "# add date association metrics to dataframe\n",
    "df_flood_grace['Days from MASCON'] = min_diff\n",
    "df_flood_grace['MASCON Index'] = min_diff_ix"
   ]
  },
  {
   "cell_type": "code",
   "execution_count": 130,
   "metadata": {
    "collapsed": false,
    "scrolled": true
   },
   "outputs": [
    {
     "data": {
      "image/png": "[encoded data removed]",
      "text/plain": [
       "<matplotlib.figure.Figure at 0x11dd88e10>"
      ]
     },
     "metadata": {},
     "output_type": "display_data"
    }
   ],
   "source": [
    "# plot histogram of differences b/w flood and GRACE-MASCON dates\n",
    "plt.hist(df_flood_grace['Days from MASCON'])\n",
    "plt.show()"
   ]
  },
  {
   "cell_type": "code",
   "execution_count": 131,
   "metadata": {
    "collapsed": false
   },
   "outputs": [
    {
     "data": {
      "image/png": "[encoded data removed]",
      "text/plain": [
       "<matplotlib.figure.Figure at 0x11f310ad0>"
      ]
     },
     "metadata": {},
     "output_type": "display_data"
    }
   ],
   "source": [
    "# plot histogram of GRACE MASCON time indexes of floods\n",
    "plt.hist(df_flood_grace['MASCON Index'], bins = grace_time_datestr.size)\n",
    "plt.show()"
   ]
  },
  {
   "cell_type": "markdown",
   "metadata": {},
   "source": [
    "### Percentile Association"
   ]
  },
  {
   "cell_type": "code",
   "execution_count": 132,
   "metadata": {
    "collapsed": false
   },
   "outputs": [],
   "source": [
    "# create empty vectors\n",
    "perc = np.zeros(df_flood_grace.shape[0])\n",
    "\n",
    "# extract percentiles\n",
    "for i in range(df_flood_grace.shape[0]):\n",
    "    x = int(round(df_flood_grace['Centroid X GRACE'].iloc[i]))\n",
    "    y = int(round(df_flood_grace['Centroid Y GRACE'].iloc[i]))\n",
    "    time_ix = int(min_diff_ix[i])\n",
    "    \n",
    "    if x == 720:\n",
    "        x = 719\n",
    "    \n",
    "    perc[i] = grace_lwe_perc_adj[y-1, x-1,  time_ix] "
   ]
  },
  {
   "cell_type": "code",
   "execution_count": 133,
   "metadata": {
    "collapsed": false
   },
   "outputs": [],
   "source": [
    "df_flood_grace['GRACE %'] = perc"
   ]
  },
  {
   "cell_type": "markdown",
   "metadata": {},
   "source": [
    "### Remove Floods Outside GRACE Land Mask "
   ]
  },
  {
   "cell_type": "code",
   "execution_count": 134,
   "metadata": {
    "collapsed": false
   },
   "outputs": [
    {
     "data": {
      "text/html": [
       "<div>\n",
       "<table border=\"1\" class=\"dataframe\">\n",
       "  <thead>\n",
       "    <tr style=\"text-align: right;\">\n",
       "      <th></th>\n",
       "      <th>Country</th>\n",
       "      <th>Centroid X GRACE</th>\n",
       "      <th>Centroid Y GRACE</th>\n",
       "      <th>MASCON Index</th>\n",
       "    </tr>\n",
       "  </thead>\n",
       "  <tbody>\n",
       "    <tr>\n",
       "      <th>27</th>\n",
       "      <td>Fiji</td>\n",
       "      <td>355.8560</td>\n",
       "      <td>215.55080</td>\n",
       "      <td>150.0</td>\n",
       "    </tr>\n",
       "    <tr>\n",
       "      <th>44</th>\n",
       "      <td>Maldives</td>\n",
       "      <td>146.3784</td>\n",
       "      <td>180.28859</td>\n",
       "      <td>147.0</td>\n",
       "    </tr>\n",
       "    <tr>\n",
       "      <th>50</th>\n",
       "      <td>Bahamas</td>\n",
       "      <td>572.3352</td>\n",
       "      <td>135.01680</td>\n",
       "      <td>147.0</td>\n",
       "    </tr>\n",
       "    <tr>\n",
       "      <th>101</th>\n",
       "      <td>Chile</td>\n",
       "      <td>574.1576</td>\n",
       "      <td>268.20660</td>\n",
       "      <td>144.0</td>\n",
       "    </tr>\n",
       "    <tr>\n",
       "      <th>123</th>\n",
       "      <td>Angola</td>\n",
       "      <td>27.3622</td>\n",
       "      <td>197.63328</td>\n",
       "      <td>141.0</td>\n",
       "    </tr>\n",
       "  </tbody>\n",
       "</table>\n",
       "</div>"
      ],
      "text/plain": [
       "      Country  Centroid X GRACE  Centroid Y GRACE  MASCON Index\n",
       "27       Fiji          355.8560         215.55080         150.0\n",
       "44   Maldives          146.3784         180.28859         147.0\n",
       "50    Bahamas          572.3352         135.01680         147.0\n",
       "101     Chile          574.1576         268.20660         144.0\n",
       "123    Angola           27.3622         197.63328         141.0"
      ]
     },
     "execution_count": 134,
     "metadata": {},
     "output_type": "execute_result"
    }
   ],
   "source": [
    "# list of floods outsdie land mask\n",
    "df_flood_grace_ocean = df_flood_grace[df_flood_grace['GRACE %'] == -1]\n",
    "df_flood_grace_ocean[['Country','Centroid X GRACE', 'Centroid Y GRACE', 'MASCON Index']].head(5)"
   ]
  },
  {
   "cell_type": "code",
   "execution_count": 135,
   "metadata": {
    "collapsed": true
   },
   "outputs": [],
   "source": [
    "df_flood_grace_land = df_flood_grace[~(df_flood_grace['GRACE %'] == -1)]"
   ]
  },
  {
   "cell_type": "markdown",
   "metadata": {},
   "source": [
    "# Plots"
   ]
  },
  {
   "cell_type": "code",
   "execution_count": 136,
   "metadata": {
    "collapsed": false
   },
   "outputs": [
    {
     "data": {
      "text/plain": [
       "(2261, 22)"
      ]
     },
     "execution_count": 136,
     "metadata": {},
     "output_type": "execute_result"
    }
   ],
   "source": [
    "# set dataframe for plotting\n",
    "df = df_flood_grace_land\n",
    "df.shape"
   ]
  },
  {
   "cell_type": "code",
   "execution_count": 137,
   "metadata": {
    "collapsed": false
   },
   "outputs": [
    {
     "data": {
      "text/html": [
       "<div>\n",
       "<table border=\"1\" class=\"dataframe\">\n",
       "  <thead>\n",
       "    <tr style=\"text-align: right;\">\n",
       "      <th></th>\n",
       "      <th>Register #</th>\n",
       "      <th>Began</th>\n",
       "      <th>Date Began</th>\n",
       "      <th>Ended</th>\n",
       "      <th>Duration in Days</th>\n",
       "      <th>Dead</th>\n",
       "      <th>Displaced</th>\n",
       "      <th>Damage (USD)</th>\n",
       "      <th>Main cause</th>\n",
       "      <th>Severity *</th>\n",
       "      <th>...</th>\n",
       "      <th>Country</th>\n",
       "      <th>Other</th>\n",
       "      <th>Detailed Locations</th>\n",
       "      <th>Centroid X</th>\n",
       "      <th>Centroid Y</th>\n",
       "      <th>Centroid X GRACE</th>\n",
       "      <th>Centroid Y GRACE</th>\n",
       "      <th>Days from MASCON</th>\n",
       "      <th>MASCON Index</th>\n",
       "      <th>GRACE %</th>\n",
       "    </tr>\n",
       "  </thead>\n",
       "  <tbody>\n",
       "    <tr>\n",
       "      <th>0</th>\n",
       "      <td>4356.0</td>\n",
       "      <td>8-May-16</td>\n",
       "      <td>08-May-16</td>\n",
       "      <td>11-May-16</td>\n",
       "      <td>4.0</td>\n",
       "      <td>0.0</td>\n",
       "      <td>0.0</td>\n",
       "      <td>NaN</td>\n",
       "      <td>Heavy Rain</td>\n",
       "      <td>1.0</td>\n",
       "      <td>...</td>\n",
       "      <td>China</td>\n",
       "      <td>0</td>\n",
       "      <td>South China; Guangzhou</td>\n",
       "      <td>112.952</td>\n",
       "      <td>24.7532</td>\n",
       "      <td>225.904</td>\n",
       "      <td>130.4936</td>\n",
       "      <td>52.0</td>\n",
       "      <td>151.0</td>\n",
       "      <td>100.0</td>\n",
       "    </tr>\n",
       "  </tbody>\n",
       "</table>\n",
       "<p>1 rows × 22 columns</p>\n",
       "</div>"
      ],
      "text/plain": [
       "   Register #     Began Date Began      Ended  Duration in Days  Dead  \\\n",
       "0      4356.0  8-May-16  08-May-16  11-May-16               4.0   0.0   \n",
       "\n",
       "   Displaced Damage (USD)  Main cause  Severity *   ...     Country  Other  \\\n",
       "0        0.0          NaN  Heavy Rain         1.0   ...       China      0   \n",
       "\n",
       "       Detailed Locations Centroid X Centroid Y  Centroid X GRACE  \\\n",
       "0  South China; Guangzhou    112.952    24.7532           225.904   \n",
       "\n",
       "   Centroid Y GRACE  Days from MASCON  MASCON Index  GRACE %  \n",
       "0          130.4936              52.0         151.0    100.0  \n",
       "\n",
       "[1 rows x 22 columns]"
      ]
     },
     "execution_count": 137,
     "metadata": {},
     "output_type": "execute_result"
    }
   ],
   "source": [
    "df.head(1)"
   ]
  },
  {
   "cell_type": "code",
   "execution_count": 138,
   "metadata": {
    "collapsed": false
   },
   "outputs": [
    {
     "data": {
      "image/png": "[encoded data removed]",
      "text/plain": [
       "<matplotlib.figure.Figure at 0x119fbfc90>"
      ]
     },
     "metadata": {},
     "output_type": "display_data"
    }
   ],
   "source": [
    "# frequency of floods across the world\n",
    "x = df['Centroid X']\n",
    "y = df['Centroid Y']\n",
    "\n",
    "plt.scatter(x, y, alpha=0.05)\n",
    "plt.title('Mainland Flood Events\\n04/02 to 05/16')\n",
    "plt.xlabel('Longitude')\n",
    "plt.ylabel('Latitude')\n",
    "plt.savefig(dir_figures + 'floods_events.png')"
   ]
  },
  {
   "cell_type": "code",
   "execution_count": 139,
   "metadata": {
    "collapsed": false
   },
   "outputs": [
    {
     "data": {
      "image/png": "[encoded data removed]",
      "text/plain": [
       "<matplotlib.figure.Figure at 0x11f123ed0>"
      ]
     },
     "metadata": {},
     "output_type": "display_data"
    }
   ],
   "source": [
    "# GRACE levels during flood events\n",
    "plt.hist(df['GRACE %'], bins=20)\n",
    "plt.title('Ground Water Level at Time of Flood')\n",
    "plt.xlabel('GRACE Percentile at Flood Location')\n",
    "plt.ylabel('Number of Floods\\n04/02 to 05/16')\n",
    "plt.savefig(dir_figures + 'floods_GRACEPercentiles.png')"
   ]
  },
  {
   "cell_type": "code",
   "execution_count": null,
   "metadata": {
    "collapsed": true
   },
   "outputs": [],
   "source": []
  }
 ],
 "metadata": {
  "kernelspec": {
   "display_name": "Python 2",
   "language": "python",
   "name": "python2"
  },
  "language_info": {
   "codemirror_mode": {
    "name": "ipython",
    "version": 2
   },
   "file_extension": ".py",
   "mimetype": "text/x-python",
   "name": "python",
   "nbconvert_exporter": "python",
   "pygments_lexer": "ipython2",
   "version": "2.7.11"
  }
 },
 "nbformat": 4,
 "nbformat_minor": 0
}
