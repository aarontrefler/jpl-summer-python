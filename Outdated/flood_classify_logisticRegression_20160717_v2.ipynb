{
 "cells": [
  {
   "cell_type": "markdown",
   "metadata": {},
   "source": [
    "# Flood  - Classification Using Logistic Regression\n",
    "\n",
    "<h3> \n",
    "Aaron Trefler <br/>\n",
    "JPL <br/>\n",
    "Created: 07/11/2016 <br/>\n",
    "</h3>"
   ]
  },
  {
   "cell_type": "markdown",
   "metadata": {},
   "source": [
    "# I. Setup"
   ]
  },
  {
   "cell_type": "code",
   "execution_count": 1,
   "metadata": {
    "collapsed": false
   },
   "outputs": [],
   "source": [
    "%load_ext autoreload\n",
    "%autoreload 2"
   ]
  },
  {
   "cell_type": "code",
   "execution_count": 2,
   "metadata": {
    "collapsed": false,
    "scrolled": true
   },
   "outputs": [],
   "source": [
    "import datetime as dt\n",
    "import matplotlib.pyplot as plt\n",
    "import numpy as np\n",
    "import pandas as pd\n",
    "import pickle\n",
    "import scipy.io as sio\n",
    "\n",
    "from flood_functions import grace_brick_convert_lowres \n",
    "from flood_functions import calculate_confusion_matrix_bricks\n",
    "from flood_functions import calculate_ml_metric_maps\n",
    "from IPython.display import display, HTML\n",
    "from sklearn import datasets\n",
    "from sklearn.linear_model import LogisticRegression\n",
    "from sklearn.metrics import accuracy_score, classification_report"
   ]
  },
  {
   "cell_type": "code",
   "execution_count": 3,
   "metadata": {
    "collapsed": false
   },
   "outputs": [
    {
     "name": "stdout",
     "output_type": "stream",
     "text": [
      "Using matplotlib backend: MacOSX\n"
     ]
    }
   ],
   "source": [
    "%matplotlib"
   ]
  },
  {
   "cell_type": "code",
   "execution_count": 4,
   "metadata": {
    "collapsed": true
   },
   "outputs": [],
   "source": [
    "# define directories\n",
    "dir_flood = '../../Raw Data/Flood Observatory/'\n",
    "dir_python_data = '../Data/'\n",
    "dir_grace = '../../Work_Matlab/Data/'\n",
    "dir_figures = '../Figures/'"
   ]
  },
  {
   "cell_type": "markdown",
   "metadata": {},
   "source": [
    "# II. Load Data"
   ]
  },
  {
   "cell_type": "markdown",
   "metadata": {},
   "source": [
    "## GRACE"
   ]
  },
  {
   "cell_type": "markdown",
   "metadata": {},
   "source": [
    "### Features"
   ]
  },
  {
   "cell_type": "code",
   "execution_count": 5,
   "metadata": {
    "collapsed": false
   },
   "outputs": [],
   "source": [
    "# GRACE MASCON-GRI Pickle Files\n",
    "f = open(dir_python_data+'grace_features.p', 'rb')\n",
    "grace_features_dict = pickle.load(f)\n",
    "f.close()"
   ]
  },
  {
   "cell_type": "code",
   "execution_count": 6,
   "metadata": {
    "collapsed": false
   },
   "outputs": [],
   "source": [
    "# assign grace maps to python objects\n",
    "\n",
    "# continuous\n",
    "grace_lwe = grace_features_dict['grace_lwe']\n",
    "grace_lwe_norm = grace_features_dict['grace_lwe_norm']\n",
    "grace_lwe_clim_norm = grace_features_dict['grace_lwe_clim_norm']\n",
    "grace_lwe_noClim_norm = grace_features_dict['grace_lwe_noClim_norm']\n",
    "\n",
    "# ranked\n",
    "grace_lwe_rank = grace_features_dict['grace_lwe_rank']\n",
    "grace_lwe_rank_norm = grace_features_dict['grace_lwe_rank_norm']\n",
    "grace_lwe_clim_rank = grace_features_dict['grace_lwe_clim_rank']\n",
    "grace_lwe_clim_rank_norm = grace_features_dict['grace_lwe_clim_rank_norm']\n",
    "grace_lwe_noClim_rank = grace_features_dict['grace_lwe_noClim_rank']\n",
    "grace_lwe_noClim_rank_norm = grace_features_dict['grace_lwe_noClim_rank_norm']"
   ]
  },
  {
   "cell_type": "markdown",
   "metadata": {},
   "source": [
    "## Flood Observatory"
   ]
  },
  {
   "cell_type": "markdown",
   "metadata": {},
   "source": [
    "### Flood Event Brick"
   ]
  },
  {
   "cell_type": "code",
   "execution_count": 7,
   "metadata": {
    "collapsed": true
   },
   "outputs": [],
   "source": [
    "f = open(dir_python_data+'flood_event_brick.p', 'rb')\n",
    "flood_event_brick = pickle.load(f)\n",
    "f.close()\n",
    "flood_event_brick_highres = flood_event_brick[0]"
   ]
  },
  {
   "cell_type": "markdown",
   "metadata": {},
   "source": [
    "### Dataframe"
   ]
  },
  {
   "cell_type": "code",
   "execution_count": 8,
   "metadata": {
    "collapsed": true
   },
   "outputs": [],
   "source": [
    "# name of preprocessed and merged flood dataframe\n",
    "df_name = 'df_flood_grace_time_location_features'"
   ]
  },
  {
   "cell_type": "code",
   "execution_count": 9,
   "metadata": {
    "collapsed": false
   },
   "outputs": [],
   "source": [
    "# FO data\n",
    "df_flood_grace = pd.read_csv(dir_python_data + df_name + '.csv')\n",
    "df_flood_grace = df_flood_grace.drop('Unnamed: 0', axis=1)\n",
    "#df_flood_grace.tail(1)"
   ]
  },
  {
   "cell_type": "markdown",
   "metadata": {},
   "source": [
    "## Script Variables"
   ]
  },
  {
   "cell_type": "code",
   "execution_count": 10,
   "metadata": {
    "collapsed": true
   },
   "outputs": [],
   "source": [
    "# GRACE\n",
    "dim = grace_lwe.shape\n",
    "d1 = dim[0]\n",
    "d2 = dim[1]\n",
    "tp = dim[2]\n",
    "# FO\n",
    "floods = len(df_flood_grace)"
   ]
  },
  {
   "cell_type": "markdown",
   "metadata": {},
   "source": [
    "# III. Classification"
   ]
  },
  {
   "cell_type": "markdown",
   "metadata": {},
   "source": [
    "### Setup"
   ]
  },
  {
   "cell_type": "code",
   "execution_count": 11,
   "metadata": {
    "collapsed": true
   },
   "outputs": [],
   "source": [
    "# define feature brick (NaN's for non-land regions)\n",
    "feature_brick_highres = grace_lwe_rank"
   ]
  },
  {
   "cell_type": "code",
   "execution_count": 12,
   "metadata": {
    "collapsed": true
   },
   "outputs": [],
   "source": [
    "# create low resolution feature brick (0's and 1's)\n",
    "feature_brick = grace_brick_convert_lowres(feature_brick_highres, 6)"
   ]
  },
  {
   "cell_type": "code",
   "execution_count": 13,
   "metadata": {
    "collapsed": false
   },
   "outputs": [],
   "source": [
    "# create low resolution flood brick (0's and 1's)\n",
    "flood_event_brick_lowres = grace_brick_convert_lowres(flood_event_brick_highres, 6)\n",
    "flood_event_brick_lowres[flood_event_brick_lowres > 0] = 1"
   ]
  },
  {
   "cell_type": "code",
   "execution_count": 14,
   "metadata": {
    "collapsed": false
   },
   "outputs": [],
   "source": [
    "# create binary flood zone map and brick\n",
    "flood_zone = np.nansum(flood_event_brick_lowres,axis=2)\n",
    "flood_zone[flood_zone > 0] = 1\n",
    "flood_zone = flood_zone[:,:,np.newaxis]\n",
    "flood_zone_brick = np.tile(flood_zone,(1,1,152))"
   ]
  },
  {
   "cell_type": "code",
   "execution_count": 15,
   "metadata": {
    "collapsed": true
   },
   "outputs": [],
   "source": [
    "# create label brick (NaNs for non-flood regions)\n",
    "label_brick = flood_event_brick_lowres\n",
    "label_brick[flood_zone_brick==0] = np.nan"
   ]
  },
  {
   "cell_type": "code",
   "execution_count": 26,
   "metadata": {
    "collapsed": true
   },
   "outputs": [],
   "source": [
    "# define low resolution variabls\n",
    "dim_lowres = label_brick.shape\n",
    "d1_lowres = dim_lowres[0]  \n",
    "d2_lowres = dim_lowres[1]"
   ]
  },
  {
   "cell_type": "markdown",
   "metadata": {},
   "source": [
    "### Logistic Regression"
   ]
  },
  {
   "cell_type": "code",
   "execution_count": 52,
   "metadata": {
    "collapsed": false,
    "scrolled": false
   },
   "outputs": [],
   "source": [
    "# create prediction brick\n",
    "pred_brick = np.empty([d1_lowres,d2_lowres,tp])\n",
    "pred_brick.fill(np.nan)\n",
    "\n",
    "# perform logistic regression\n",
    "for i in range(d1_lowres):\n",
    "    \n",
    "    for j in range(d2_lowres):\n",
    "        \n",
    "        features = feature_brick[i,j,:]\n",
    "        labels = label_brick[i,j,:].astype(int)\n",
    "        \n",
    "        # add column of 1's to features\n",
    "        ones = np.ones(len(features))\n",
    "        features = np.vstack((ones,features)).transpose()\n",
    "              \n",
    "        if (np.nansum(labels) > 0): #flood events occured\n",
    "                \n",
    "            clf = LogisticRegression(fit_intercept=False)\n",
    "            clf.fit(features, labels)\n",
    "            pred = clf.predict(features)\n",
    "            pred_brick[i,j,:] = pred    "
   ]
  },
  {
   "cell_type": "markdown",
   "metadata": {},
   "source": [
    "### Threshold Classification"
   ]
  },
  {
   "cell_type": "code",
   "execution_count": 78,
   "metadata": {
    "collapsed": true
   },
   "outputs": [],
   "source": [
    "# create prediction brick\n",
    "pred_brick = np.empty([d1_lowres,d2_lowres,tp])\n",
    "pred_brick.fill(np.nan)\n",
    "\n",
    "# perform threshold classification\n",
    "for i in range(d1_lowres):\n",
    "    \n",
    "    for j in range(d2_lowres):\n",
    "        \n",
    "        features = feature_brick[i,j,:]\n",
    "        labels = label_brick[i,j,:].astype(int)\n",
    "              \n",
    "        if (np.nansum(labels) > 0): #flood events occured\n",
    "                \n",
    "            pred = features >= 114\n",
    "            pred_brick[i,j,:] = pred    "
   ]
  },
  {
   "cell_type": "markdown",
   "metadata": {},
   "source": [
    "### Null Hypothesis Prediction"
   ]
  },
  {
   "cell_type": "code",
   "execution_count": 79,
   "metadata": {
    "collapsed": false
   },
   "outputs": [],
   "source": [
    "# create null hypothesis prediction brick\n",
    "pred_null_brick = np.empty([d1_lowres,d2_lowres,tp])\n",
    "pred_null_brick.fill(np.nan)\n",
    "\n",
    "# fill in null hypothesis birck with all 0's in areas with flood events\n",
    "for i in range(d1_lowres):\n",
    "    \n",
    "    for j in range(d2_lowres):\n",
    "        \n",
    "        labels = label_brick[i,j,:].astype(int)\n",
    "              \n",
    "        if (np.nansum(labels) > 0): #flood events occured\n",
    "                \n",
    "            pred_null_brick[i,j,:] = 0  "
   ]
  },
  {
   "cell_type": "markdown",
   "metadata": {},
   "source": [
    "### Calculate Metrics"
   ]
  },
  {
   "cell_type": "code",
   "execution_count": 80,
   "metadata": {
    "collapsed": false
   },
   "outputs": [],
   "source": [
    "# create confusion-matrix bricks\n",
    "\n",
    "# predcitions\n",
    "pred_confusion_matrix = calculate_confusion_matrix_bricks(label_brick, pred_brick)\n",
    "pred_tp_brick = pred_confusion_matrix['true_positive'] #hit\n",
    "pred_fp_brick = pred_confusion_matrix['false_positive'] #type I error\n",
    "pred_fn_brick = pred_confusion_matrix['false_negative'] #type II error\n",
    "pred_tn_brick = pred_confusion_matrix['true_negative'] #correct regection\n",
    "\n",
    "# null hypothesis\n",
    "pred_null_confusion_matrix = calculate_confusion_matrix_bricks(label_brick, pred_null_brick)\n",
    "pred_null_tp_brick = pred_null_confusion_matrix['true_positive'] #hit\n",
    "pred_null_fp_brick = pred_null_confusion_matrix['false_positive'] #type I error\n",
    "pred_null_fn_brick = pred_null_confusion_matrix['false_negative'] #type II error\n",
    "pred_null_tn_brick = pred_null_confusion_matrix['true_negative'] #correct regection"
   ]
  },
  {
   "cell_type": "code",
   "execution_count": 89,
   "metadata": {
    "collapsed": false
   },
   "outputs": [],
   "source": [
    "# create ML metric maps\n",
    "\n",
    "# predictions\n",
    "pred_ml_metrics = calculate_ml_metric_maps(label_brick, \\\n",
    "                                           pred_brick, \\\n",
    "                                           pred_tp_brick, \\\n",
    "                                           pred_fp_brick, \\\n",
    "                                           pred_tn_brick, \\\n",
    "                                           pred_fn_brick)\n",
    "pred_accuracy_map = pred_ml_metrics['accuracy']\n",
    "pred_missClassRate_map = pred_ml_metrics['missClassRate']\n",
    "pred_tpRate_map = pred_ml_metrics['tpRate']\n",
    "pred_fpRate_map = pred_ml_metrics['fpRate']\n",
    "pred_specificity_map = pred_ml_metrics['specificity']\n",
    "pred_precision_map = pred_ml_metrics['precision']\n",
    "pred_prevalence_map = pred_ml_metrics['prevalence']\n",
    "\n",
    "# null hypothesis\n",
    "pred_null_ml_metrics = calculate_ml_metric_maps(label_brick, \\\n",
    "                                           pred_null_brick, \\\n",
    "                                           pred_null_tp_brick, \\\n",
    "                                           pred_null_fp_brick, \\\n",
    "                                           pred_null_tn_brick, \\\n",
    "                                           pred_null_fn_brick)\n",
    "pred_null_accuracy_map = pred_null_ml_metrics['accuracy']\n",
    "pred_null_missClassRate_map = pred_null_ml_metrics['missClassRate']\n",
    "pred_null_tpRate_map = pred_null_ml_metrics['tpRate']\n",
    "pred_null_fpRate_map = pred_null_ml_metrics['fpRate']\n",
    "pred_null_specificity_map = pred_null_ml_metrics['specificity']\n",
    "pred_null_precision_map = pred_null_ml_metrics['precision']\n",
    "pred_null_prevalence_map = pred_null_ml_metrics['prevalence']"
   ]
  },
  {
   "cell_type": "markdown",
   "metadata": {},
   "source": [
    "# NULL"
   ]
  },
  {
   "cell_type": "code",
   "execution_count": 85,
   "metadata": {
    "collapsed": false
   },
   "outputs": [],
   "source": [
    "# create ML metric maps\n",
    "\n",
    "#accuracy\n",
    "metric_accuracy_map = np.empty([d1_lowres,d2_lowres]) \n",
    "metric_accuracy_map.fill(np.nan)\n",
    "#miss-classifcation rate\n",
    "metric_missClassRate_map = np.empty([d1_lowres,d2_lowres]) \n",
    "metric_missClassRate_map.fill(np.nan)\n",
    "#true positive rate\n",
    "metric_tpRate_map = np.empty([d1_lowres,d2_lowres]) \n",
    "metric_tpRate_map.fill(np.nan)\n",
    "#false positive rate\n",
    "metric_fpRate_map = np.empty([d1_lowres,d2_lowres]) \n",
    "metric_fpRate_map.fill(np.nan)\n",
    "#specificity\n",
    "metric_specificity_map = np.empty([d1_lowres,d2_lowres]) \n",
    "metric_specificity_map.fill(np.nan)\n",
    "#precision\n",
    "metric_precision_map = np.empty([d1_lowres,d2_lowres]) \n",
    "metric_precision_map.fill(np.nan)\n",
    "#prevalence\n",
    "metric_prevalence_map = np.empty([d1_lowres,d2_lowres]) \n",
    "metric_prevalence_map.fill(np.nan)\n",
    "\n",
    "for i in range(d1_lowres):\n",
    "    for j in range(d2_lowres):\n",
    "    \n",
    "        if (np.nansum(label_brick[i,j,:]) > 0): #flood events occured\n",
    "            \n",
    "            metric_accuracy_map[i,j] = \\\n",
    "                (np.sum(pred_null_tp_brick[i,j,:]) + np.sum(pred_null_tn_brick[i,j,:])) / tp\n",
    "            metric_missClassRate_map[i,j] = \\\n",
    "                (np.sum(pred_null_fp_brick[i,j,:]) + np.sum(pred_null_fn_brick[i,j,:])) / tp\n",
    "            metric_tpRate_map[i,j] = \\\n",
    "                np.sum(pred_null_tp_brick[i,j,:]) /  np.sum(label_brick[i,j,:])\n",
    "            metric_fpRate_map[i,j] = \\\n",
    "                np.sum(pred_null_fp_brick[i,j,:]) /  np.sum(label_brick[i,j,:] == 0)\n",
    "            metric_specificity_map[i,j] = \\\n",
    "                np.sum(pred_null_tn_brick[i,j,:]) /  np.sum(label_brick[i,j,:] == 0)\n",
    "            metric_precision_map[i,j] = \\\n",
    "                np.sum(pred_null_tp_brick[i,j,:]) /  np.sum(pred_null_brick[i,j,:] == 1)\n",
    "            metric_prevalence_map[i,j] = \\\n",
    "                np.sum(label_brick[i,j,:] == 1)  / tp"
   ]
  },
  {
   "cell_type": "code",
   "execution_count": 86,
   "metadata": {
    "collapsed": false
   },
   "outputs": [],
   "source": [
    "plt.subplot(3,3,1)\n",
    "plt.imshow(np.flipud(metric_accuracy_map.transpose()), vmin=0, vmax=1)\n",
    "plt.colorbar(orientation='horizontal')\n",
    "plt.title('Accuracy')\n",
    "\n",
    "plt.subplot(3,3,2)\n",
    "plt.imshow(np.flipud(metric_missClassRate_map.transpose()), vmin=0, vmax=1)\n",
    "plt.colorbar(orientation='horizontal')\n",
    "plt.title('Error Rate')\n",
    "\n",
    "plt.subplot(3,3,3)\n",
    "plt.imshow(np.flipud(metric_tpRate_map.transpose()), vmin=0, vmax=1)\n",
    "plt.colorbar(orientation='horizontal')\n",
    "plt.title('True Positive Rate')\n",
    "\n",
    "plt.subplot(3,3,4)\n",
    "plt.imshow(np.flipud(metric_fpRate_map.transpose()), vmin=0, vmax=1)\n",
    "plt.colorbar(orientation='horizontal')\n",
    "plt.title('False Positive Rate')\n",
    "\n",
    "plt.subplot(3,3,5)\n",
    "plt.imshow(np.flipud(metric_specificity_map.transpose()), vmin=0, vmax=1)\n",
    "plt.colorbar(orientation='horizontal')\n",
    "plt.title('Specificity')\n",
    "\n",
    "plt.subplot(3,3,6)\n",
    "plt.imshow(np.flipud(metric_precision_map.transpose()), vmin=0, vmax=1)\n",
    "plt.colorbar(orientation='horizontal')\n",
    "plt.title('Precision')\n",
    "\n",
    "plt.subplot(3,3,7)\n",
    "plt.imshow(np.flipud(metric_prevalence_map.transpose()), vmin=0, vmax=1)\n",
    "plt.colorbar(orientation='horizontal')\n",
    "plt.title('Prevalence')\n",
    "\n",
    "plt.show()"
   ]
  },
  {
   "cell_type": "markdown",
   "metadata": {},
   "source": [
    "# PREDICTION"
   ]
  },
  {
   "cell_type": "code",
   "execution_count": 87,
   "metadata": {
    "collapsed": false
   },
   "outputs": [],
   "source": [
    "# create ML metric maps\n",
    "\n",
    "#accuracy\n",
    "metric_accuracy_map = np.empty([d1_lowres,d2_lowres]) \n",
    "metric_accuracy_map.fill(np.nan)\n",
    "#miss-classifcation rate\n",
    "metric_missClassRate_map = np.empty([d1_lowres,d2_lowres]) \n",
    "metric_missClassRate_map.fill(np.nan)\n",
    "#true positive rate\n",
    "metric_tpRate_map = np.empty([d1_lowres,d2_lowres]) \n",
    "metric_tpRate_map.fill(np.nan)\n",
    "#false positive rate\n",
    "metric_fpRate_map = np.empty([d1_lowres,d2_lowres]) \n",
    "metric_fpRate_map.fill(np.nan)\n",
    "#specificity\n",
    "metric_specificity_map = np.empty([d1_lowres,d2_lowres]) \n",
    "metric_specificity_map.fill(np.nan)\n",
    "#precision\n",
    "metric_precision_map = np.empty([d1_lowres,d2_lowres]) \n",
    "metric_precision_map.fill(np.nan)\n",
    "#prevalence\n",
    "metric_prevalence_map = np.empty([d1_lowres,d2_lowres]) \n",
    "metric_prevalence_map.fill(np.nan)\n",
    "\n",
    "for i in range(d1_lowres):\n",
    "    for j in range(d2_lowres):\n",
    "    \n",
    "        if (np.nansum(label_brick[i,j,:]) > 0): #flood events occured\n",
    "            \n",
    "            metric_accuracy_map[i,j] = \\\n",
    "                (np.sum(pred_tp_brick[i,j,:]) + np.sum(pred_tn_brick[i,j,:])) / tp\n",
    "            metric_missClassRate_map[i,j] = \\\n",
    "                (np.sum(pred_fp_brick[i,j,:]) + np.sum(pred_fn_brick[i,j,:])) / tp\n",
    "            metric_tpRate_map[i,j] = \\\n",
    "                np.sum(pred_tp_brick[i,j,:]) /  np.sum(label_brick[i,j,:])\n",
    "            metric_fpRate_map[i,j] = \\\n",
    "                np.sum(pred_fp_brick[i,j,:]) /  np.sum(label_brick[i,j,:] == 0)\n",
    "            metric_specificity_map[i,j] = \\\n",
    "                np.sum(pred_tn_brick[i,j,:]) /  np.sum(label_brick[i,j,:] == 0)\n",
    "            metric_precision_map[i,j] = \\\n",
    "                np.sum(pred_tp_brick[i,j,:]) /  np.sum(pred_brick[i,j,:] == 1)\n",
    "            metric_prevalence_map[i,j] = \\\n",
    "                np.sum(label_brick[i,j,:] == 1)  / tp"
   ]
  },
  {
   "cell_type": "code",
   "execution_count": 88,
   "metadata": {
    "collapsed": false
   },
   "outputs": [],
   "source": [
    "plt.figure()\n",
    "\n",
    "plt.subplot(3,3,1)\n",
    "plt.imshow(np.flipud(metric_accuracy_map.transpose()), vmin=0, vmax=1)\n",
    "plt.colorbar(orientation='horizontal')\n",
    "plt.title('Accuracy')\n",
    "\n",
    "plt.subplot(3,3,2)\n",
    "plt.imshow(np.flipud(metric_missClassRate_map.transpose()), vmin=0, vmax=1)\n",
    "plt.colorbar(orientation='horizontal')\n",
    "plt.title('Error Rate')\n",
    "\n",
    "plt.subplot(3,3,3)\n",
    "plt.imshow(np.flipud(metric_tpRate_map.transpose()), vmin=0, vmax=1)\n",
    "plt.colorbar(orientation='horizontal')\n",
    "plt.title('True Positive Rate')\n",
    "\n",
    "plt.subplot(3,3,4)\n",
    "plt.imshow(np.flipud(metric_fpRate_map.transpose()), vmin=0, vmax=1)\n",
    "plt.colorbar(orientation='horizontal')\n",
    "plt.title('False Positive Rate')\n",
    "\n",
    "plt.subplot(3,3,5)\n",
    "plt.imshow(np.flipud(metric_specificity_map.transpose()), vmin=0, vmax=1)\n",
    "plt.colorbar(orientation='horizontal')\n",
    "plt.title('Specificity')\n",
    "\n",
    "plt.subplot(3,3,6)\n",
    "plt.imshow(np.flipud(metric_precision_map.transpose()), vmin=0, vmax=1)\n",
    "plt.colorbar(orientation='horizontal')\n",
    "plt.title('Precision')\n",
    "\n",
    "plt.subplot(3,3,7)\n",
    "plt.imshow(np.flipud(metric_prevalence_map.transpose()), vmin=0, vmax=1)\n",
    "plt.colorbar(orientation='horizontal')\n",
    "plt.title('Prevalence')\n",
    "\n",
    "plt.show()"
   ]
  },
  {
   "cell_type": "code",
   "execution_count": null,
   "metadata": {
    "collapsed": true
   },
   "outputs": [],
   "source": []
  }
 ],
 "metadata": {
  "kernelspec": {
   "display_name": "Python 2",
   "language": "python",
   "name": "python2"
  },
  "language_info": {
   "codemirror_mode": {
    "name": "ipython",
    "version": 2
   },
   "file_extension": ".py",
   "mimetype": "text/x-python",
   "name": "python",
   "nbconvert_exporter": "python",
   "pygments_lexer": "ipython2",
   "version": "2.7.11"
  }
 },
 "nbformat": 4,
 "nbformat_minor": 0
}
