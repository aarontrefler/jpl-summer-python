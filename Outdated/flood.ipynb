{
 "cells": [
  {
   "cell_type": "markdown",
   "metadata": {},
   "source": [
    "# Flood Observatory - GRACE Analysis\n",
    "\n",
    "<h3> \n",
    "Aaron Trefler <br/>\n",
    "JPL <br/>\n",
    "Created: 06/07/2016 <br/>\n",
    "</h3>"
   ]
  },
  {
   "cell_type": "markdown",
   "metadata": {},
   "source": [
    "# Setup"
   ]
  },
  {
   "cell_type": "code",
   "execution_count": 150,
   "metadata": {
    "collapsed": false,
    "scrolled": true
   },
   "outputs": [],
   "source": [
    "import datetime as dt\n",
    "import matplotlib.pyplot as plt\n",
    "import numpy as np\n",
    "import pandas as pd\n",
    "import scipy.io as sio "
   ]
  },
  {
   "cell_type": "code",
   "execution_count": 151,
   "metadata": {
    "collapsed": false
   },
   "outputs": [
    {
     "name": "stdout",
     "output_type": "stream",
     "text": [
      "Populating the interactive namespace from numpy and matplotlib\n"
     ]
    },
    {
     "name": "stderr",
     "output_type": "stream",
     "text": [
      "WARNING: pylab import has clobbered these variables: ['diff']\n",
      "`%matplotlib` prevents importing * from pylab and numpy\n"
     ]
    }
   ],
   "source": [
    "%pylab inline"
   ]
  },
  {
   "cell_type": "code",
   "execution_count": 152,
   "metadata": {
    "collapsed": true
   },
   "outputs": [],
   "source": [
    "# define directories\n",
    "dir_flood = '../../Raw Data/Flood Observatory/'\n",
    "dir_python_data = '../Data/'\n",
    "dir_grace = '../../Work_Matlab/Data/'\n",
    "dir_figures = '../Figures/'"
   ]
  },
  {
   "cell_type": "markdown",
   "metadata": {},
   "source": [
    "# Load Data"
   ]
  },
  {
   "cell_type": "markdown",
   "metadata": {},
   "source": [
    "## GRACE MASCON-CRI"
   ]
  },
  {
   "cell_type": "code",
   "execution_count": 268,
   "metadata": {
    "collapsed": false
   },
   "outputs": [],
   "source": [
    "# GRACE MASCON-CRI Matlab files\n",
    "mat_content_grace = sio.loadmat(dir_grace + \\\n",
    "    'GRCTellus.JPL.200204_201603.GLO.RL05M_1.MSCNv02CRIv02.nc.mat')\n",
    "mat_content_derivedMaps = sio.loadmat(dir_grace + \\\n",
    "    'GRCTellus.JPL.200204_201603.GLO.RL05M_1.MSCNv02CRIv02_derivedMaps.nc.mat')\n",
    "mat_content_dateVectors = sio.loadmat(dir_grace + \\\n",
    "    'GRCTellus.JPL.200204_201603.GLO.RL05M_1.MSCNv02CRIv02_dateVectors.nc.mat')\n",
    "\n",
    "grace_lwe_perc_adj = mat_content_derivedMaps['lwe_thickness_percentiles_adj']\n",
    "grace_lwe_climRemStd_adj = mat_content_derivedMaps['lwe_thickness_climRemStd_adj']\n",
    "grace_lwe_climatology_adj = mat_content_derivedMaps['lwe_thickness_climatology_adj']\n",
    "grace_time_datestr = mat_content_dateVectors['time_datestr']"
   ]
  },
  {
   "cell_type": "code",
   "execution_count": 154,
   "metadata": {
    "collapsed": false
   },
   "outputs": [
    {
     "name": "stdout",
     "output_type": "stream",
     "text": [
      "[('lat', (360, 1), 'double'), ('lon', (720, 1), 'double'), ('lwe_thickness', (720, 360, 152), 'double'), ('time', (152, 1), 'double'), ('uncertainty', (720, 360, 152), 'double')]\n",
      "[('lwe_thickness_percentiles', (720, 360, 152), 'double'), ('lwe_thickness_percentiles_adj', (360, 720, 152), 'double'), ('lwe_thickness_climRemStd', (720, 360, 152), 'double'), ('lwe_thickness_climRemStd_adj', (360, 720, 152), 'double'), ('lwe_thickness_climRem', (720, 360, 152), 'double'), ('lwe_thickness_climRem_adj', (360, 720, 152), 'double'), ('lwe_thickness_climatology', (720, 360, 152), 'double'), ('lwe_thickness_climatology_adj', (720, 360, 152), 'double')]\n",
      "[('time_datenum', (152, 1), 'double'), ('time_datestr', (152,), 'char'), ('time_datestr_cell', (152, 1), 'cell'), ('time_dayOfYear', (152, 1), 'double'), ('time_month', (152, 1), 'double'), ('time_year', (152, 1), 'double')]\n"
     ]
    }
   ],
   "source": [
    "# GRACE MASCON-CRI data description\n",
    "print sio.whosmat(dir_grace + \\\n",
    "    'GRCTellus.JPL.200204_201603.GLO.RL05M_1.MSCNv02CRIv02.nc.mat')\n",
    "print sio.whosmat(dir_grace + \\\n",
    "    'GRCTellus.JPL.200204_201603.GLO.RL05M_1.MSCNv02CRIv02_derivedMaps.nc.mat')\n",
    "print sio.whosmat(dir_grace + \\\n",
    "    'GRCTellus.JPL.200204_201603.GLO.RL05M_1.MSCNv02CRIv02_dateVectors.nc.mat')"
   ]
  },
  {
   "cell_type": "markdown",
   "metadata": {},
   "source": [
    "## Flood Observatory"
   ]
  },
  {
   "cell_type": "code",
   "execution_count": 197,
   "metadata": {
    "collapsed": false
   },
   "outputs": [
    {
     "data": {
      "text/html": [
       "<div>\n",
       "<table border=\"1\" class=\"dataframe\">\n",
       "  <thead>\n",
       "    <tr style=\"text-align: right;\">\n",
       "      <th></th>\n",
       "      <th>Register #</th>\n",
       "      <th>Began</th>\n",
       "      <th>Date Began</th>\n",
       "      <th>Ended</th>\n",
       "      <th>Duration in Days</th>\n",
       "      <th>Dead</th>\n",
       "      <th>Displaced</th>\n",
       "      <th>Main cause</th>\n",
       "      <th>Severity *</th>\n",
       "      <th>Affected sq km</th>\n",
       "      <th>Magnitude (M)**</th>\n",
       "      <th>Country</th>\n",
       "      <th>Other</th>\n",
       "      <th>Centroid X</th>\n",
       "      <th>Centroid Y</th>\n",
       "    </tr>\n",
       "  </thead>\n",
       "  <tbody>\n",
       "    <tr>\n",
       "      <th>0</th>\n",
       "      <td>4356.0</td>\n",
       "      <td>8-May-16</td>\n",
       "      <td>08-May-16</td>\n",
       "      <td>11-May-16</td>\n",
       "      <td>4.0</td>\n",
       "      <td>0.0</td>\n",
       "      <td>0.0</td>\n",
       "      <td>Heavy Rain</td>\n",
       "      <td>1.0</td>\n",
       "      <td>197079.53</td>\n",
       "      <td>5.9</td>\n",
       "      <td>China</td>\n",
       "      <td>0</td>\n",
       "      <td>112.9520</td>\n",
       "      <td>24.75320</td>\n",
       "    </tr>\n",
       "    <tr>\n",
       "      <th>1</th>\n",
       "      <td>4355.0</td>\n",
       "      <td>20-Apr-16</td>\n",
       "      <td>20-Apr-16</td>\n",
       "      <td>1-May-16</td>\n",
       "      <td>12.0</td>\n",
       "      <td>18.0</td>\n",
       "      <td>3000.0</td>\n",
       "      <td>Heavy Rain</td>\n",
       "      <td>1.5</td>\n",
       "      <td>70517.68</td>\n",
       "      <td>6.1</td>\n",
       "      <td>India</td>\n",
       "      <td>Bangladesh</td>\n",
       "      <td>95.6068</td>\n",
       "      <td>27.46400</td>\n",
       "    </tr>\n",
       "    <tr>\n",
       "      <th>2</th>\n",
       "      <td>4354.0</td>\n",
       "      <td>8-May-16</td>\n",
       "      <td>08-May-16</td>\n",
       "      <td>11-May-16</td>\n",
       "      <td>4.0</td>\n",
       "      <td>5.0</td>\n",
       "      <td>3000.0</td>\n",
       "      <td>Heavy Rain</td>\n",
       "      <td>1.5</td>\n",
       "      <td>23311.63</td>\n",
       "      <td>5.1</td>\n",
       "      <td>Dominican Republic</td>\n",
       "      <td>Haiti</td>\n",
       "      <td>-71.1644</td>\n",
       "      <td>18.99420</td>\n",
       "    </tr>\n",
       "    <tr>\n",
       "      <th>3</th>\n",
       "      <td>4353.0</td>\n",
       "      <td>6-May-16</td>\n",
       "      <td>06-May-16</td>\n",
       "      <td>11-May-16</td>\n",
       "      <td>6.0</td>\n",
       "      <td>49.0</td>\n",
       "      <td>2000.0</td>\n",
       "      <td>Heavy Rain</td>\n",
       "      <td>1.5</td>\n",
       "      <td>18269.24</td>\n",
       "      <td>5.2</td>\n",
       "      <td>Rwanda</td>\n",
       "      <td>0</td>\n",
       "      <td>30.0118</td>\n",
       "      <td>-2.05650</td>\n",
       "    </tr>\n",
       "    <tr>\n",
       "      <th>4</th>\n",
       "      <td>4352.0</td>\n",
       "      <td>13-Apr-16</td>\n",
       "      <td>13-Apr-16</td>\n",
       "      <td>22-Apr-16</td>\n",
       "      <td>10.0</td>\n",
       "      <td>0.0</td>\n",
       "      <td>0.0</td>\n",
       "      <td>Tropical Storm Fantala</td>\n",
       "      <td>1.0</td>\n",
       "      <td>117235.21</td>\n",
       "      <td>6.1</td>\n",
       "      <td>Kenya</td>\n",
       "      <td>Tanzania</td>\n",
       "      <td>38.3442</td>\n",
       "      <td>-4.71451</td>\n",
       "    </tr>\n",
       "  </tbody>\n",
       "</table>\n",
       "</div>"
      ],
      "text/plain": [
       "   Register #      Began Date Began      Ended  Duration in Days  Dead  \\\n",
       "0      4356.0   8-May-16  08-May-16  11-May-16               4.0   0.0   \n",
       "1      4355.0  20-Apr-16  20-Apr-16   1-May-16              12.0  18.0   \n",
       "2      4354.0   8-May-16  08-May-16  11-May-16               4.0   5.0   \n",
       "3      4353.0   6-May-16  06-May-16  11-May-16               6.0  49.0   \n",
       "4      4352.0  13-Apr-16  13-Apr-16  22-Apr-16              10.0   0.0   \n",
       "\n",
       "   Displaced              Main cause  Severity *  Affected sq km  \\\n",
       "0        0.0              Heavy Rain         1.0       197079.53   \n",
       "1     3000.0              Heavy Rain         1.5        70517.68   \n",
       "2     3000.0              Heavy Rain         1.5        23311.63   \n",
       "3     2000.0              Heavy Rain         1.5        18269.24   \n",
       "4        0.0  Tropical Storm Fantala         1.0       117235.21   \n",
       "\n",
       "   Magnitude (M)**             Country       Other  Centroid X  Centroid Y  \n",
       "0              5.9               China           0    112.9520    24.75320  \n",
       "1              6.1               India  Bangladesh     95.6068    27.46400  \n",
       "2              5.1  Dominican Republic       Haiti    -71.1644    18.99420  \n",
       "3              5.2              Rwanda           0     30.0118    -2.05650  \n",
       "4              6.1               Kenya    Tanzania     38.3442    -4.71451  "
      ]
     },
     "execution_count": 197,
     "metadata": {},
     "output_type": "execute_result"
    }
   ],
   "source": [
    "# FO data previously cleaned by FloodObservatory_Preprocess.py\n",
    "df_flood_grace = pd.read_csv(dir_python_data + 'df_flood_grace.csv')\n",
    "df_flood_grace = df_flood_grace.drop('Unnamed: 0', axis=1)\n",
    "df_flood_grace.head(5)"
   ]
  },
  {
   "cell_type": "markdown",
   "metadata": {},
   "source": [
    "# Merge Data"
   ]
  },
  {
   "cell_type": "markdown",
   "metadata": {},
   "source": [
    "## Location"
   ]
  },
  {
   "cell_type": "code",
   "execution_count": 198,
   "metadata": {
    "collapsed": false
   },
   "outputs": [],
   "source": [
    "# Conversion: Centroid Fields\n",
    "\n",
    "# convert Centroid X\n",
    "df_flood_grace['Centroid X GRACE'] = df_flood_grace['Centroid X']\n",
    "a_centroid_x = df_flood_grace['Centroid X GRACE'].values\n",
    "\n",
    "for i in range(a_centroid_x.size):\n",
    "    centroid_x = a_centroid_x[i]\n",
    "    \n",
    "    if centroid_x < 0:\n",
    "        a_centroid_x[i] = (180 - (centroid_x * -1)) + 180\n",
    "\n",
    "df_flood_grace['Centroid X GRACE'] = a_centroid_x\n",
    "df_flood_grace['Centroid X GRACE'] = df_flood_grace['Centroid X GRACE'] * 2\n",
    "\n",
    "\n",
    "# convert Centroid Y\n",
    "df_flood_grace['Centroid Y GRACE'] = df_flood_grace['Centroid Y']\n",
    "a_centroid_y = df_flood_grace['Centroid Y GRACE'].values\n",
    "\n",
    "for i in range(a_centroid_y.size):\n",
    "    centroid_y = a_centroid_y[i]\n",
    "    \n",
    "    a_centroid_y[i] = centroid_y + 90\n",
    "        \n",
    "df_flood_grace['Centroid Y GRACE'] = a_centroid_y\n",
    "df_flood_grace['Centroid Y GRACE'] = df_flood_grace['Centroid Y GRACE'] * 2\n",
    "df_flood_grace['Centroid Y GRACE'] = 360 - df_flood_grace['Centroid Y GRACE']\n"
   ]
  },
  {
   "cell_type": "markdown",
   "metadata": {},
   "source": [
    "## Time"
   ]
  },
  {
   "cell_type": "code",
   "execution_count": 200,
   "metadata": {
    "collapsed": false
   },
   "outputs": [],
   "source": [
    "# Date Association\n",
    "\n",
    "# convert GRACE times to Series\n",
    "s_grace_time_datestr = pd.Series(grace_time_datestr)\n",
    "\n",
    "# empty vectors\n",
    "diff = np.zeros(s_grace_time_datestr.size)\n",
    "min_diff = np.zeros(df_flood_grace.shape[0])\n",
    "min_diff_ix = np.zeros(df_flood_grace.shape[0])\n",
    "\n",
    "# find GRACE MASCON index for each flood\n",
    "for i in range(df_flood_grace.shape[0]):\n",
    "    \n",
    "    date_flood = df_flood_grace['Began'].iloc[i]\n",
    "    datetime_flood = dt.datetime.strptime(date_flood, \"%d-%b-%y\")\n",
    "    \n",
    "    for j in range(s_grace_time_datestr.size):\n",
    "        \n",
    "        date_mascon = s_grace_time_datestr.iloc[j]\n",
    "        datetime_mascon = dt.datetime.strptime(date_mascon, \"%d-%b-%Y\")\n",
    "    \n",
    "        # diff b/w grace and flood\n",
    "        diff[j] = (datetime_flood - datetime_mascon).days\n",
    "        \n",
    "        # negative values indicate MASCONs that occur after flood\n",
    "        diff[diff < 0] = diff.max()\n",
    "        \n",
    "        \n",
    "    # minimum difference\n",
    "    min_diff[i] = diff.min()\n",
    "    min_diff_ix[i] = diff.argmin() #returns index of first occurance of min value\n",
    "\n",
    "# add date association metrics to dataframe\n",
    "df_flood_grace['Days from MASCON'] = min_diff\n",
    "df_flood_grace['MASCON Index'] = min_diff_ix"
   ]
  },
  {
   "cell_type": "code",
   "execution_count": 246,
   "metadata": {
    "collapsed": false,
    "scrolled": true
   },
   "outputs": [
    {
     "data": {
      "image/png": "[encoded data removed]",
      "text/plain": [
       "<matplotlib.figure.Figure at 0x119190710>"
      ]
     },
     "metadata": {},
     "output_type": "display_data"
    }
   ],
   "source": [
    "# plot histogram of differences b/w flood and GRACE-MASCON dates\n",
    "plt.hist(df_flood_grace['Days from MASCON'], bins=50)\n",
    "plt.show()"
   ]
  },
  {
   "cell_type": "code",
   "execution_count": 203,
   "metadata": {
    "collapsed": false
   },
   "outputs": [
    {
     "data": {
      "image/png": "[encoded data removed]",
      "text/plain": [
       "<matplotlib.figure.Figure at 0x11fc4c190>"
      ]
     },
     "metadata": {},
     "output_type": "display_data"
    }
   ],
   "source": [
    "# plot histogram of GRACE MASCON time indexes of floods\n",
    "plt.hist(df_flood_grace['MASCON Index'], bins = grace_time_datestr.size)\n",
    "plt.show()"
   ]
  },
  {
   "cell_type": "code",
   "execution_count": 237,
   "metadata": {
    "collapsed": false
   },
   "outputs": [
    {
     "data": {
      "text/html": [
       "<div>\n",
       "<table border=\"1\" class=\"dataframe\">\n",
       "  <thead>\n",
       "    <tr style=\"text-align: right;\">\n",
       "      <th></th>\n",
       "      <th>Register #</th>\n",
       "      <th>Began</th>\n",
       "      <th>Date Began</th>\n",
       "      <th>Ended</th>\n",
       "      <th>Duration in Days</th>\n",
       "      <th>Dead</th>\n",
       "      <th>Displaced</th>\n",
       "      <th>Main cause</th>\n",
       "      <th>Severity *</th>\n",
       "      <th>Affected sq km</th>\n",
       "      <th>...</th>\n",
       "      <th>Country</th>\n",
       "      <th>Other</th>\n",
       "      <th>Centroid X</th>\n",
       "      <th>Centroid Y</th>\n",
       "      <th>Centroid X GRACE</th>\n",
       "      <th>Centroid Y GRACE</th>\n",
       "      <th>Days from MASCON</th>\n",
       "      <th>MASCON Index</th>\n",
       "      <th>GRACE %</th>\n",
       "      <th>GRACE ClimRem Std</th>\n",
       "    </tr>\n",
       "  </thead>\n",
       "  <tbody>\n",
       "    <tr>\n",
       "      <th>0</th>\n",
       "      <td>4356.0</td>\n",
       "      <td>8-May-16</td>\n",
       "      <td>08-May-16</td>\n",
       "      <td>11-May-16</td>\n",
       "      <td>4.0</td>\n",
       "      <td>0.0</td>\n",
       "      <td>0.0</td>\n",
       "      <td>Heavy Rain</td>\n",
       "      <td>1.0</td>\n",
       "      <td>197079.53</td>\n",
       "      <td>...</td>\n",
       "      <td>China</td>\n",
       "      <td>0</td>\n",
       "      <td>112.9520</td>\n",
       "      <td>24.75320</td>\n",
       "      <td>225.9040</td>\n",
       "      <td>130.49360</td>\n",
       "      <td>52.0</td>\n",
       "      <td>151.0</td>\n",
       "      <td>100.000000</td>\n",
       "      <td>2.851769</td>\n",
       "    </tr>\n",
       "    <tr>\n",
       "      <th>1</th>\n",
       "      <td>4355.0</td>\n",
       "      <td>20-Apr-16</td>\n",
       "      <td>20-Apr-16</td>\n",
       "      <td>1-May-16</td>\n",
       "      <td>12.0</td>\n",
       "      <td>18.0</td>\n",
       "      <td>3000.0</td>\n",
       "      <td>Heavy Rain</td>\n",
       "      <td>1.5</td>\n",
       "      <td>70517.68</td>\n",
       "      <td>...</td>\n",
       "      <td>India</td>\n",
       "      <td>Bangladesh</td>\n",
       "      <td>95.6068</td>\n",
       "      <td>27.46400</td>\n",
       "      <td>191.2136</td>\n",
       "      <td>125.07200</td>\n",
       "      <td>34.0</td>\n",
       "      <td>151.0</td>\n",
       "      <td>9.210526</td>\n",
       "      <td>-0.379583</td>\n",
       "    </tr>\n",
       "    <tr>\n",
       "      <th>2</th>\n",
       "      <td>4354.0</td>\n",
       "      <td>8-May-16</td>\n",
       "      <td>08-May-16</td>\n",
       "      <td>11-May-16</td>\n",
       "      <td>4.0</td>\n",
       "      <td>5.0</td>\n",
       "      <td>3000.0</td>\n",
       "      <td>Heavy Rain</td>\n",
       "      <td>1.5</td>\n",
       "      <td>23311.63</td>\n",
       "      <td>...</td>\n",
       "      <td>Dominican Republic</td>\n",
       "      <td>Haiti</td>\n",
       "      <td>-71.1644</td>\n",
       "      <td>18.99420</td>\n",
       "      <td>577.6712</td>\n",
       "      <td>142.01160</td>\n",
       "      <td>52.0</td>\n",
       "      <td>151.0</td>\n",
       "      <td>32.894737</td>\n",
       "      <td>0.318909</td>\n",
       "    </tr>\n",
       "    <tr>\n",
       "      <th>3</th>\n",
       "      <td>4353.0</td>\n",
       "      <td>6-May-16</td>\n",
       "      <td>06-May-16</td>\n",
       "      <td>11-May-16</td>\n",
       "      <td>6.0</td>\n",
       "      <td>49.0</td>\n",
       "      <td>2000.0</td>\n",
       "      <td>Heavy Rain</td>\n",
       "      <td>1.5</td>\n",
       "      <td>18269.24</td>\n",
       "      <td>...</td>\n",
       "      <td>Rwanda</td>\n",
       "      <td>0</td>\n",
       "      <td>30.0118</td>\n",
       "      <td>-2.05650</td>\n",
       "      <td>60.0236</td>\n",
       "      <td>184.11300</td>\n",
       "      <td>50.0</td>\n",
       "      <td>151.0</td>\n",
       "      <td>84.868421</td>\n",
       "      <td>0.827128</td>\n",
       "    </tr>\n",
       "    <tr>\n",
       "      <th>4</th>\n",
       "      <td>4352.0</td>\n",
       "      <td>13-Apr-16</td>\n",
       "      <td>13-Apr-16</td>\n",
       "      <td>22-Apr-16</td>\n",
       "      <td>10.0</td>\n",
       "      <td>0.0</td>\n",
       "      <td>0.0</td>\n",
       "      <td>Tropical Storm Fantala</td>\n",
       "      <td>1.0</td>\n",
       "      <td>117235.21</td>\n",
       "      <td>...</td>\n",
       "      <td>Kenya</td>\n",
       "      <td>Tanzania</td>\n",
       "      <td>38.3442</td>\n",
       "      <td>-4.71451</td>\n",
       "      <td>76.6884</td>\n",
       "      <td>189.42902</td>\n",
       "      <td>27.0</td>\n",
       "      <td>151.0</td>\n",
       "      <td>88.815789</td>\n",
       "      <td>1.467757</td>\n",
       "    </tr>\n",
       "  </tbody>\n",
       "</table>\n",
       "<p>5 rows × 21 columns</p>\n",
       "</div>"
      ],
      "text/plain": [
       "   Register #      Began Date Began      Ended  Duration in Days  Dead  \\\n",
       "0      4356.0   8-May-16  08-May-16  11-May-16               4.0   0.0   \n",
       "1      4355.0  20-Apr-16  20-Apr-16   1-May-16              12.0  18.0   \n",
       "2      4354.0   8-May-16  08-May-16  11-May-16               4.0   5.0   \n",
       "3      4353.0   6-May-16  06-May-16  11-May-16               6.0  49.0   \n",
       "4      4352.0  13-Apr-16  13-Apr-16  22-Apr-16              10.0   0.0   \n",
       "\n",
       "   Displaced              Main cause  Severity *  Affected sq km  \\\n",
       "0        0.0              Heavy Rain         1.0       197079.53   \n",
       "1     3000.0              Heavy Rain         1.5        70517.68   \n",
       "2     3000.0              Heavy Rain         1.5        23311.63   \n",
       "3     2000.0              Heavy Rain         1.5        18269.24   \n",
       "4        0.0  Tropical Storm Fantala         1.0       117235.21   \n",
       "\n",
       "         ...                     Country       Other Centroid X  Centroid Y  \\\n",
       "0        ...                       China           0   112.9520    24.75320   \n",
       "1        ...                       India  Bangladesh    95.6068    27.46400   \n",
       "2        ...          Dominican Republic       Haiti   -71.1644    18.99420   \n",
       "3        ...                      Rwanda           0    30.0118    -2.05650   \n",
       "4        ...                       Kenya    Tanzania    38.3442    -4.71451   \n",
       "\n",
       "   Centroid X GRACE  Centroid Y GRACE  Days from MASCON  MASCON Index  \\\n",
       "0          225.9040         130.49360              52.0         151.0   \n",
       "1          191.2136         125.07200              34.0         151.0   \n",
       "2          577.6712         142.01160              52.0         151.0   \n",
       "3           60.0236         184.11300              50.0         151.0   \n",
       "4           76.6884         189.42902              27.0         151.0   \n",
       "\n",
       "      GRACE %  GRACE ClimRem Std  \n",
       "0  100.000000           2.851769  \n",
       "1    9.210526          -0.379583  \n",
       "2   32.894737           0.318909  \n",
       "3   84.868421           0.827128  \n",
       "4   88.815789           1.467757  \n",
       "\n",
       "[5 rows x 21 columns]"
      ]
     },
     "execution_count": 237,
     "metadata": {},
     "output_type": "execute_result"
    }
   ],
   "source": [
    "# display merged flood dataframe\n",
    "df_flood_grace.head(5)"
   ]
  },
  {
   "cell_type": "markdown",
   "metadata": {},
   "source": [
    "# Add GRACE Features"
   ]
  },
  {
   "cell_type": "markdown",
   "metadata": {},
   "source": [
    "## Percentiles"
   ]
  },
  {
   "cell_type": "code",
   "execution_count": 204,
   "metadata": {
    "collapsed": false
   },
   "outputs": [],
   "source": [
    "# create empty vectors\n",
    "perc = np.zeros(df_flood_grace.shape[0])\n",
    "\n",
    "# extract percentiles\n",
    "for i in range(df_flood_grace.shape[0]):\n",
    "    x = int(round(df_flood_grace['Centroid X GRACE'].iloc[i]))\n",
    "    y = int(round(df_flood_grace['Centroid Y GRACE'].iloc[i]))\n",
    "    time_ix = int(min_diff_ix[i])\n",
    "    \n",
    "    if x == 720:\n",
    "        x = 719\n",
    "    \n",
    "    perc[i] = grace_lwe_perc_adj[y-1, x-1,  time_ix] \n",
    "    \n",
    "df_flood_grace['GRACE %'] = perc"
   ]
  },
  {
   "cell_type": "markdown",
   "metadata": {},
   "source": [
    "## Standard Deviations (Climatology Removed)"
   ]
  },
  {
   "cell_type": "code",
   "execution_count": 214,
   "metadata": {
    "collapsed": false
   },
   "outputs": [],
   "source": [
    "# create empty vectors\n",
    "climRemStd = np.zeros(df_flood_grace.shape[0])\n",
    "\n",
    "# extract percentiles\n",
    "for i in range(df_flood_grace.shape[0]):\n",
    "    x = int(round(df_flood_grace['Centroid X GRACE'].iloc[i]))\n",
    "    y = int(round(df_flood_grace['Centroid Y GRACE'].iloc[i]))\n",
    "    time_ix = int(min_diff_ix[i])\n",
    "    \n",
    "    if x == 720:\n",
    "        x = 719\n",
    "    \n",
    "    climRemStd[i] = grace_lwe_climRemStd_adj[y-1, x-1,  time_ix] \n",
    "    \n",
    "df_flood_grace['GRACE ClimRem Std'] = climRemStd"
   ]
  },
  {
   "cell_type": "markdown",
   "metadata": {},
   "source": [
    "# Remove Non-Land Floods"
   ]
  },
  {
   "cell_type": "code",
   "execution_count": 215,
   "metadata": {
    "collapsed": false
   },
   "outputs": [
    {
     "data": {
      "text/html": [
       "<div>\n",
       "<table border=\"1\" class=\"dataframe\">\n",
       "  <thead>\n",
       "    <tr style=\"text-align: right;\">\n",
       "      <th></th>\n",
       "      <th>Country</th>\n",
       "      <th>Centroid X GRACE</th>\n",
       "      <th>Centroid Y GRACE</th>\n",
       "      <th>MASCON Index</th>\n",
       "    </tr>\n",
       "  </thead>\n",
       "  <tbody>\n",
       "    <tr>\n",
       "      <th>27</th>\n",
       "      <td>Fiji</td>\n",
       "      <td>355.8560</td>\n",
       "      <td>215.55080</td>\n",
       "      <td>150.0</td>\n",
       "    </tr>\n",
       "    <tr>\n",
       "      <th>44</th>\n",
       "      <td>Maldives</td>\n",
       "      <td>146.3784</td>\n",
       "      <td>180.28859</td>\n",
       "      <td>147.0</td>\n",
       "    </tr>\n",
       "    <tr>\n",
       "      <th>50</th>\n",
       "      <td>Bahamas</td>\n",
       "      <td>572.3352</td>\n",
       "      <td>135.01680</td>\n",
       "      <td>147.0</td>\n",
       "    </tr>\n",
       "    <tr>\n",
       "      <th>101</th>\n",
       "      <td>Chile</td>\n",
       "      <td>574.1576</td>\n",
       "      <td>268.20660</td>\n",
       "      <td>144.0</td>\n",
       "    </tr>\n",
       "    <tr>\n",
       "      <th>123</th>\n",
       "      <td>Angola</td>\n",
       "      <td>27.3622</td>\n",
       "      <td>197.63328</td>\n",
       "      <td>141.0</td>\n",
       "    </tr>\n",
       "  </tbody>\n",
       "</table>\n",
       "</div>"
      ],
      "text/plain": [
       "      Country  Centroid X GRACE  Centroid Y GRACE  MASCON Index\n",
       "27       Fiji          355.8560         215.55080         150.0\n",
       "44   Maldives          146.3784         180.28859         147.0\n",
       "50    Bahamas          572.3352         135.01680         147.0\n",
       "101     Chile          574.1576         268.20660         144.0\n",
       "123    Angola           27.3622         197.63328         141.0"
      ]
     },
     "execution_count": 215,
     "metadata": {},
     "output_type": "execute_result"
    }
   ],
   "source": [
    "# list of floods outside land mask\n",
    "df_flood_grace_ocean = df_flood_grace[df_flood_grace['GRACE %'] == -1]\n",
    "df_flood_grace_ocean[['Country','Centroid X GRACE', 'Centroid Y GRACE', 'MASCON Index']].head(5)"
   ]
  },
  {
   "cell_type": "code",
   "execution_count": 216,
   "metadata": {
    "collapsed": true
   },
   "outputs": [],
   "source": [
    "df_flood_grace_land = df_flood_grace[~(df_flood_grace['GRACE %'] == -1)]"
   ]
  },
  {
   "cell_type": "markdown",
   "metadata": {},
   "source": [
    "# Plots"
   ]
  },
  {
   "cell_type": "code",
   "execution_count": 217,
   "metadata": {
    "collapsed": false
   },
   "outputs": [
    {
     "data": {
      "text/plain": [
       "(2261, 21)"
      ]
     },
     "execution_count": 217,
     "metadata": {},
     "output_type": "execute_result"
    }
   ],
   "source": [
    "# set dataframe for plotting\n",
    "df = df_flood_grace_land\n",
    "df.shape"
   ]
  },
  {
   "cell_type": "code",
   "execution_count": 271,
   "metadata": {
    "collapsed": false
   },
   "outputs": [
    {
     "data": {
      "text/html": [
       "<div>\n",
       "<table border=\"1\" class=\"dataframe\">\n",
       "  <thead>\n",
       "    <tr style=\"text-align: right;\">\n",
       "      <th></th>\n",
       "      <th>Register #</th>\n",
       "      <th>Began</th>\n",
       "      <th>Date Began</th>\n",
       "      <th>Ended</th>\n",
       "      <th>Duration in Days</th>\n",
       "      <th>Dead</th>\n",
       "      <th>Displaced</th>\n",
       "      <th>Main cause</th>\n",
       "      <th>Severity *</th>\n",
       "      <th>Affected sq km</th>\n",
       "      <th>...</th>\n",
       "      <th>Country</th>\n",
       "      <th>Other</th>\n",
       "      <th>Centroid X</th>\n",
       "      <th>Centroid Y</th>\n",
       "      <th>Centroid X GRACE</th>\n",
       "      <th>Centroid Y GRACE</th>\n",
       "      <th>Days from MASCON</th>\n",
       "      <th>MASCON Index</th>\n",
       "      <th>GRACE %</th>\n",
       "      <th>GRACE ClimRem Std</th>\n",
       "    </tr>\n",
       "  </thead>\n",
       "  <tbody>\n",
       "    <tr>\n",
       "      <th>0</th>\n",
       "      <td>4356.0</td>\n",
       "      <td>8-May-16</td>\n",
       "      <td>08-May-16</td>\n",
       "      <td>11-May-16</td>\n",
       "      <td>4.0</td>\n",
       "      <td>0.0</td>\n",
       "      <td>0.0</td>\n",
       "      <td>Heavy Rain</td>\n",
       "      <td>1.0</td>\n",
       "      <td>197079.53</td>\n",
       "      <td>...</td>\n",
       "      <td>China</td>\n",
       "      <td>0</td>\n",
       "      <td>112.9520</td>\n",
       "      <td>24.75320</td>\n",
       "      <td>225.9040</td>\n",
       "      <td>130.49360</td>\n",
       "      <td>52.0</td>\n",
       "      <td>151.0</td>\n",
       "      <td>100.000000</td>\n",
       "      <td>2.851769</td>\n",
       "    </tr>\n",
       "    <tr>\n",
       "      <th>1</th>\n",
       "      <td>4355.0</td>\n",
       "      <td>20-Apr-16</td>\n",
       "      <td>20-Apr-16</td>\n",
       "      <td>1-May-16</td>\n",
       "      <td>12.0</td>\n",
       "      <td>18.0</td>\n",
       "      <td>3000.0</td>\n",
       "      <td>Heavy Rain</td>\n",
       "      <td>1.5</td>\n",
       "      <td>70517.68</td>\n",
       "      <td>...</td>\n",
       "      <td>India</td>\n",
       "      <td>Bangladesh</td>\n",
       "      <td>95.6068</td>\n",
       "      <td>27.46400</td>\n",
       "      <td>191.2136</td>\n",
       "      <td>125.07200</td>\n",
       "      <td>34.0</td>\n",
       "      <td>151.0</td>\n",
       "      <td>9.210526</td>\n",
       "      <td>-0.379583</td>\n",
       "    </tr>\n",
       "    <tr>\n",
       "      <th>2</th>\n",
       "      <td>4354.0</td>\n",
       "      <td>8-May-16</td>\n",
       "      <td>08-May-16</td>\n",
       "      <td>11-May-16</td>\n",
       "      <td>4.0</td>\n",
       "      <td>5.0</td>\n",
       "      <td>3000.0</td>\n",
       "      <td>Heavy Rain</td>\n",
       "      <td>1.5</td>\n",
       "      <td>23311.63</td>\n",
       "      <td>...</td>\n",
       "      <td>Dominican Republic</td>\n",
       "      <td>Haiti</td>\n",
       "      <td>-71.1644</td>\n",
       "      <td>18.99420</td>\n",
       "      <td>577.6712</td>\n",
       "      <td>142.01160</td>\n",
       "      <td>52.0</td>\n",
       "      <td>151.0</td>\n",
       "      <td>32.894737</td>\n",
       "      <td>0.318909</td>\n",
       "    </tr>\n",
       "    <tr>\n",
       "      <th>3</th>\n",
       "      <td>4353.0</td>\n",
       "      <td>6-May-16</td>\n",
       "      <td>06-May-16</td>\n",
       "      <td>11-May-16</td>\n",
       "      <td>6.0</td>\n",
       "      <td>49.0</td>\n",
       "      <td>2000.0</td>\n",
       "      <td>Heavy Rain</td>\n",
       "      <td>1.5</td>\n",
       "      <td>18269.24</td>\n",
       "      <td>...</td>\n",
       "      <td>Rwanda</td>\n",
       "      <td>0</td>\n",
       "      <td>30.0118</td>\n",
       "      <td>-2.05650</td>\n",
       "      <td>60.0236</td>\n",
       "      <td>184.11300</td>\n",
       "      <td>50.0</td>\n",
       "      <td>151.0</td>\n",
       "      <td>84.868421</td>\n",
       "      <td>0.827128</td>\n",
       "    </tr>\n",
       "    <tr>\n",
       "      <th>4</th>\n",
       "      <td>4352.0</td>\n",
       "      <td>13-Apr-16</td>\n",
       "      <td>13-Apr-16</td>\n",
       "      <td>22-Apr-16</td>\n",
       "      <td>10.0</td>\n",
       "      <td>0.0</td>\n",
       "      <td>0.0</td>\n",
       "      <td>Tropical Storm Fantala</td>\n",
       "      <td>1.0</td>\n",
       "      <td>117235.21</td>\n",
       "      <td>...</td>\n",
       "      <td>Kenya</td>\n",
       "      <td>Tanzania</td>\n",
       "      <td>38.3442</td>\n",
       "      <td>-4.71451</td>\n",
       "      <td>76.6884</td>\n",
       "      <td>189.42902</td>\n",
       "      <td>27.0</td>\n",
       "      <td>151.0</td>\n",
       "      <td>88.815789</td>\n",
       "      <td>1.467757</td>\n",
       "    </tr>\n",
       "  </tbody>\n",
       "</table>\n",
       "<p>5 rows × 21 columns</p>\n",
       "</div>"
      ],
      "text/plain": [
       "   Register #      Began Date Began      Ended  Duration in Days  Dead  \\\n",
       "0      4356.0   8-May-16  08-May-16  11-May-16               4.0   0.0   \n",
       "1      4355.0  20-Apr-16  20-Apr-16   1-May-16              12.0  18.0   \n",
       "2      4354.0   8-May-16  08-May-16  11-May-16               4.0   5.0   \n",
       "3      4353.0   6-May-16  06-May-16  11-May-16               6.0  49.0   \n",
       "4      4352.0  13-Apr-16  13-Apr-16  22-Apr-16              10.0   0.0   \n",
       "\n",
       "   Displaced              Main cause  Severity *  Affected sq km  \\\n",
       "0        0.0              Heavy Rain         1.0       197079.53   \n",
       "1     3000.0              Heavy Rain         1.5        70517.68   \n",
       "2     3000.0              Heavy Rain         1.5        23311.63   \n",
       "3     2000.0              Heavy Rain         1.5        18269.24   \n",
       "4        0.0  Tropical Storm Fantala         1.0       117235.21   \n",
       "\n",
       "         ...                     Country       Other Centroid X  Centroid Y  \\\n",
       "0        ...                       China           0   112.9520    24.75320   \n",
       "1        ...                       India  Bangladesh    95.6068    27.46400   \n",
       "2        ...          Dominican Republic       Haiti   -71.1644    18.99420   \n",
       "3        ...                      Rwanda           0    30.0118    -2.05650   \n",
       "4        ...                       Kenya    Tanzania    38.3442    -4.71451   \n",
       "\n",
       "   Centroid X GRACE  Centroid Y GRACE  Days from MASCON  MASCON Index  \\\n",
       "0          225.9040         130.49360              52.0         151.0   \n",
       "1          191.2136         125.07200              34.0         151.0   \n",
       "2          577.6712         142.01160              52.0         151.0   \n",
       "3           60.0236         184.11300              50.0         151.0   \n",
       "4           76.6884         189.42902              27.0         151.0   \n",
       "\n",
       "      GRACE %  GRACE ClimRem Std  \n",
       "0  100.000000           2.851769  \n",
       "1    9.210526          -0.379583  \n",
       "2   32.894737           0.318909  \n",
       "3   84.868421           0.827128  \n",
       "4   88.815789           1.467757  \n",
       "\n",
       "[5 rows x 21 columns]"
      ]
     },
     "execution_count": 271,
     "metadata": {},
     "output_type": "execute_result"
    }
   ],
   "source": [
    "df.head(5)"
   ]
  },
  {
   "cell_type": "code",
   "execution_count": 274,
   "metadata": {
    "collapsed": false
   },
   "outputs": [
    {
     "data": {
      "image/png": "[encoded data removed]",
      "text/plain": [
       "<matplotlib.figure.Figure at 0x11d9b2090>"
      ]
     },
     "metadata": {},
     "output_type": "display_data"
    }
   ],
   "source": [
    "# frequency of floods across the world\n",
    "x = df['Centroid X']\n",
    "y = df['Centroid Y']\n",
    "\n",
    "plt.scatter(x, y, alpha=0.05)\n",
    "plt.title('Mainland Flood Events\\n04/02 to 05/16')\n",
    "plt.xlabel('Longitude')\n",
    "plt.ylabel('Latitude')\n",
    "plt.savefig(dir_figures + 'floods_events.png')"
   ]
  },
  {
   "cell_type": "code",
   "execution_count": 235,
   "metadata": {
    "collapsed": false
   },
   "outputs": [
    {
     "data": {
      "image/png": "[encoded data removed]",
      "text/plain": [
       "<matplotlib.figure.Figure at 0x159a47e90>"
      ]
     },
     "metadata": {},
     "output_type": "display_data"
    }
   ],
   "source": [
    "# GRACE levels during flood events\n",
    "plt.hist(df['GRACE %'], bins=50)\n",
    "plt.title('Ground Water Level Prior to Flood')\n",
    "plt.xlabel('GRACE Percentile at Flood Location')\n",
    "plt.ylabel('Number of Floods\\n04/02 to 05/16')\n",
    "plt.savefig(dir_figures + 'floods_GRACEPercentiles.png')"
   ]
  },
  {
   "cell_type": "code",
   "execution_count": 247,
   "metadata": {
    "collapsed": false,
    "scrolled": true
   },
   "outputs": [
    {
     "data": {
      "image/png": "[encoded data removed]",
      "text/plain": [
       "<matplotlib.figure.Figure at 0x11d78ad10>"
      ]
     },
     "metadata": {},
     "output_type": "display_data"
    },
    {
     "name": "stdout",
     "output_type": "stream",
     "text": [
      "Mean:  0.0919934564906\n"
     ]
    }
   ],
   "source": [
    "# GRACE levels during flood events\n",
    "plt.hist(df['GRACE ClimRem Std'], bins=50)\n",
    "plt.title('Ground Water Level Prior to Flood')\n",
    "plt.xlabel('GRACE Std. Devs. at Flood Location with Climatology Removed')\n",
    "plt.ylabel('Number of Floods\\n04/02 to 05/16')\n",
    "plt.savefig(dir_figures + 'floods_GRACEClimRemStd.png')\n",
    "plt.show()\n",
    "\n",
    "print 'Mean: ', mean(df['GRACE ClimRem Std'])"
   ]
  },
  {
   "cell_type": "markdown",
   "metadata": {},
   "source": [
    "# Functions"
   ]
  },
  {
   "cell_type": "code",
   "execution_count": 270,
   "metadata": {
    "collapsed": false
   },
   "outputs": [
    {
     "data": {
      "image/png": "[encoded data removed]",
      "text/plain": [
       "<matplotlib.figure.Figure at 0x11e7b5890>"
      ]
     },
     "metadata": {},
     "output_type": "display_data"
    }
   ],
   "source": [
    "# co-ordinates\n",
    "d1 = 200\n",
    "d2 = 600\n",
    "grace = grace_lwe_climRemStd_adj\n",
    "climatology = grace_lwe_climatology_adj\n",
    "    \n",
    "# create timeseries\n",
    "grace_timeseries = grace[d1,d2,:]\n",
    "climatology_timeseries = climatology[d1,d2,:]\n",
    "\n",
    "# find floods at grid location\n",
    "\n",
    "    \n",
    "# plot timeseries\n",
    "plt.subplot(2,1,1)\n",
    "plt.plot(grace_timeseries)\n",
    "plt.subplot(2,1,2)\n",
    "plt.plot(climatology_timeseries)\n",
    "\n",
    "plt.show()"
   ]
  },
  {
   "cell_type": "code",
   "execution_count": 267,
   "metadata": {
    "collapsed": false
   },
   "outputs": [
    {
     "data": {
      "text/plain": [
       "(720, 360, 152)"
      ]
     },
     "execution_count": 267,
     "metadata": {},
     "output_type": "execute_result"
    }
   ],
   "source": [
    "shape(climatology)"
   ]
  },
  {
   "cell_type": "code",
   "execution_count": null,
   "metadata": {
    "collapsed": true
   },
   "outputs": [],
   "source": []
  }
 ],
 "metadata": {
  "kernelspec": {
   "display_name": "Python 2",
   "language": "python",
   "name": "python2"
  },
  "language_info": {
   "codemirror_mode": {
    "name": "ipython",
    "version": 2
   },
   "file_extension": ".py",
   "mimetype": "text/x-python",
   "name": "python",
   "nbconvert_exporter": "python",
   "pygments_lexer": "ipython2",
   "version": "2.7.11"
  }
 },
 "nbformat": 4,
 "nbformat_minor": 0
}
