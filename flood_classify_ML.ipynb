{
 "cells": [
  {
   "cell_type": "markdown",
   "metadata": {},
   "source": [
    "# Flood  - Classification - ML Models\n",
    "\n",
    "<h3> \n",
    "Aaron Trefler <br/>\n",
    "JPL <br/>\n",
    "Created: 07/25/2016 <br/>\n",
    "</h3>"
   ]
  },
  {
   "cell_type": "markdown",
   "metadata": {},
   "source": [
    "# Script Setup"
   ]
  },
  {
   "cell_type": "code",
   "execution_count": 6,
   "metadata": {
    "collapsed": false
   },
   "outputs": [],
   "source": [
    "%load_ext autoreload\n",
    "%autoreload 2"
   ]
  },
  {
   "cell_type": "code",
   "execution_count": 7,
   "metadata": {
    "collapsed": false,
    "scrolled": true
   },
   "outputs": [],
   "source": [
    "import datetime as dt\n",
    "import matplotlib.pyplot as plt\n",
    "import numpy as np\n",
    "import pandas as pd\n",
    "import pickle\n",
    "import scipy.io as sio\n",
    "\n",
    "from flood_functions import grace_brick_convert_lowres \n",
    "from flood_functions import calculate_confusion_matrix_bricks\n",
    "from flood_functions import calculate_ml_metric_maps\n",
    "from IPython.display import display, HTML\n",
    "\n",
    "from scipy import interp\n",
    "\n",
    "\n",
    "\n",
    "from sklearn import tree\n",
    "from sklearn.cross_validation import cross_val_score\n",
    "from sklearn.cross_validation import StratifiedKFold\n",
    "from sklearn.cross_validation import train_test_split\n",
    "from sklearn.ensemble import RandomForestClassifier\n",
    "from sklearn.externals.six import StringIO\n",
    "from sklearn.linear_model import LogisticRegression\n",
    "from sklearn.metrics import auc\n",
    "from sklearn.metrics import roc_curve\n",
    "from sklearn.metrics import roc_auc_score\n",
    "from sklearn.svm import LinearSVC\n",
    "from sklearn.tree import DecisionTreeClassifier"
   ]
  },
  {
   "cell_type": "code",
   "execution_count": 8,
   "metadata": {
    "collapsed": false
   },
   "outputs": [
    {
     "name": "stdout",
     "output_type": "stream",
     "text": [
      "Populating the interactive namespace from numpy and matplotlib\n"
     ]
    },
    {
     "name": "stderr",
     "output_type": "stream",
     "text": [
      "WARNING: pylab import has clobbered these variables: ['clf']\n",
      "`%matplotlib` prevents importing * from pylab and numpy\n"
     ]
    }
   ],
   "source": [
    "%pylab inline\n",
    "#%matplotlib"
   ]
  },
  {
   "cell_type": "code",
   "execution_count": 9,
   "metadata": {
    "collapsed": true
   },
   "outputs": [],
   "source": [
    "# define directories\n",
    "dir_flood = '../../Raw Data/Flood Observatory/'\n",
    "dir_python_data = '../Data/'\n",
    "dir_grace = '../../Work_Matlab/Data/'\n",
    "dir_figures = '../Figures/'"
   ]
  },
  {
   "cell_type": "markdown",
   "metadata": {},
   "source": [
    "# Load Data"
   ]
  },
  {
   "cell_type": "markdown",
   "metadata": {},
   "source": [
    "## GRACE"
   ]
  },
  {
   "cell_type": "code",
   "execution_count": 10,
   "metadata": {
    "collapsed": false
   },
   "outputs": [
    {
     "name": "stdout",
     "output_type": "stream",
     "text": [
      "GRACE Feature Brick Shape: (60, 120, 152)\n"
     ]
    }
   ],
   "source": [
    "# feature bricks\n",
    "f = open(dir_python_data+'grace_features_lowres.p', 'rb')\n",
    "grace_features_dict = pickle.load(f)\n",
    "f.close()\n",
    "\n",
    "# alter shape\n",
    "feature_lwe_rank =\\\n",
    "    np.flipud(grace_features_dict['grace_lwe_rank_lowres'].transpose(1,0,2))\n",
    "feature_lwe_noClim_rank =\\\n",
    "    np.flipud(grace_features_dict['grace_lwe_noClim_rank_lowres'].transpose(1,0,2))\n",
    "feature_lwe_clim_rank =\\\n",
    "    np.flipud(grace_features_dict['grace_lwe_clim_rank_lowres'].transpose(1,0,2))\n",
    "    \n",
    "print\"GRACE Feature Brick Shape:\", feature_lwe_rank.shape"
   ]
  },
  {
   "cell_type": "markdown",
   "metadata": {},
   "source": [
    "## Flood Observatory"
   ]
  },
  {
   "cell_type": "code",
   "execution_count": 11,
   "metadata": {
    "collapsed": false
   },
   "outputs": [
    {
     "name": "stdout",
     "output_type": "stream",
     "text": [
      "Flood Event Brick Shape: (60, 120, 152)\n"
     ]
    }
   ],
   "source": [
    "# flood event brick\n",
    "f = open(dir_python_data+'flood_event_brick_lowres.p', 'rb')\n",
    "flood_event_brick = pickle.load(f)\n",
    "f.close()\n",
    "\n",
    "# alter shape\n",
    "flood_event_brick = flood_event_brick[0]\n",
    "flood_event_brick = np.flipud(flood_event_brick.transpose(1,0,2))\n",
    "print \"Flood Event Brick Shape:\",flood_event_brick.shape"
   ]
  },
  {
   "cell_type": "code",
   "execution_count": 12,
   "metadata": {
    "collapsed": false
   },
   "outputs": [
    {
     "name": "stdout",
     "output_type": "stream",
     "text": [
      "Flood Dataframe Shape: (1977, 41)\n"
     ]
    }
   ],
   "source": [
    "# flood dataframe\n",
    "df_name = 'df_flood_grace_time_location_features'\n",
    "df_flood_grace = pd.read_csv(dir_python_data + df_name + '.csv')\n",
    "df_flood_grace = df_flood_grace.drop('Unnamed: 0', axis=1)\n",
    "print \"Flood Dataframe Shape:\", df_flood_grace.shape"
   ]
  },
  {
   "cell_type": "markdown",
   "metadata": {},
   "source": [
    "# Script Variables"
   ]
  },
  {
   "cell_type": "code",
   "execution_count": 13,
   "metadata": {
    "collapsed": false
   },
   "outputs": [],
   "source": [
    "# GRACE\n",
    "dim = feature_lwe_rank.shape\n",
    "d1 = dim[0]\n",
    "d2 = dim[1]\n",
    "tp = dim[2]\n",
    "\n",
    "# FO\n",
    "floods = len(df_flood_grace)"
   ]
  },
  {
   "cell_type": "markdown",
   "metadata": {},
   "source": [
    "# ML Setup"
   ]
  },
  {
   "cell_type": "markdown",
   "metadata": {},
   "source": [
    "## Create Labels"
   ]
  },
  {
   "cell_type": "code",
   "execution_count": 14,
   "metadata": {
    "collapsed": false
   },
   "outputs": [],
   "source": [
    "label_brick = flood_event_brick\n",
    "y_labels = label_brick.ravel()\n",
    "\n",
    "# mask out regions without flood events\n",
    "mask = ~np.isnan(y_labels)\n",
    "y_labels = y_labels[mask]\n",
    "y = y_labels"
   ]
  },
  {
   "cell_type": "markdown",
   "metadata": {},
   "source": [
    "## Create Features"
   ]
  },
  {
   "cell_type": "code",
   "execution_count": 15,
   "metadata": {
    "collapsed": false
   },
   "outputs": [],
   "source": [
    "# convert to percentiles\n",
    "feature_lwe_perc =\\\n",
    "    ((feature_lwe_rank/tp)*100).ravel()\n",
    "feature_lwe_noClim_perc =\\\n",
    "    ((feature_lwe_noClim_rank/tp)*100).ravel()\n",
    "feature_lwe_clim_perc =\\\n",
    "    ((feature_lwe_clim_rank/tp)*100).ravel()\n",
    "    \n",
    "# create feature matrix\n",
    "#X_features =\\\n",
    "#    np.vstack((feature_lwe_perc, feature_lwe_noClim_perc, feature_lwe_clim_perc))\n",
    "\n",
    "X_features =\\\n",
    "    np.vstack((feature_lwe_perc, feature_lwe_noClim_perc, feature_lwe_clim_perc))\n",
    "    \n",
    "X_features = X_features.transpose()\n",
    "X = X_features"
   ]
  },
  {
   "cell_type": "code",
   "execution_count": 16,
   "metadata": {
    "collapsed": true
   },
   "outputs": [],
   "source": [
    "# mask out regions without flood events\n",
    "feature_lwe_perc = feature_lwe_perc[mask]\n",
    "feature_lwe_noClim_perc = feature_lwe_noClim_perc[mask]\n",
    "feature_lwe_clim_perc = feature_lwe_clim_perc[mask]\n"
   ]
  },
  {
   "cell_type": "code",
   "execution_count": 17,
   "metadata": {
    "collapsed": false
   },
   "outputs": [],
   "source": [
    "# create feature matrix\n",
    "X_features =\\\n",
    "    np.vstack((feature_lwe_perc,\n",
    "               #feature_lwe_noClim_perc, \n",
    "               #feature_lwe_clim_perc * feature_lwe_noClim_perc\n",
    "               feature_lwe_clim_perc\n",
    "               ))\n",
    "    \n",
    "X_features = X_features.transpose()\n",
    "X = X_features"
   ]
  },
  {
   "cell_type": "markdown",
   "metadata": {},
   "source": [
    "## Train-Test Split"
   ]
  },
  {
   "cell_type": "code",
   "execution_count": 18,
   "metadata": {
    "collapsed": false
   },
   "outputs": [
    {
     "name": "stdout",
     "output_type": "stream",
     "text": [
      "Length of Training Set:  63733\n",
      "Length of Testing Set:  27314\n"
     ]
    }
   ],
   "source": [
    "idx_split = int(round(y.shape[0] * 0.7) -1)\n",
    "\n",
    "X_train = X[0:idx_split,:]\n",
    "X_test = X[idx_split:-1,:]\n",
    "\n",
    "y_train = y[0:idx_split]\n",
    "y_test = y[idx_split:-1]\n",
    "\n",
    "print \"Length of Training Set: \",len(y_train)\n",
    "print \"Length of Testing Set: \",len(y_test)"
   ]
  },
  {
   "cell_type": "markdown",
   "metadata": {},
   "source": [
    "# Classification"
   ]
  },
  {
   "cell_type": "markdown",
   "metadata": {},
   "source": [
    "## Linear SVC"
   ]
  },
  {
   "cell_type": "code",
   "execution_count": 23,
   "metadata": {
    "collapsed": false
   },
   "outputs": [
    {
     "data": {
      "image/png": "[encoded data removed]",
      "text/plain": [
       "<matplotlib.figure.Figure at 0x106465b90>"
      ]
     },
     "metadata": {},
     "output_type": "display_data"
    }
   ],
   "source": [
    "# fit and predict\n",
    "clf = LinearSVC()\n",
    "clf.fit(X_train, y_train)\n",
    "y_scores = clf.predict(X_test)\n",
    "\n",
    "# roc curve\n",
    "fpr, tpr, thresholds = roc_curve(y_test, y_scores)\n",
    "roc_auc = roc_auc_score(y_test, y_scores)\n",
    "plt.plot(fpr, tpr, 'b', label='ROC (area = %0.3f)' % roc_auc)\n",
    "\n",
    "plt.legend(loc='upper left', fontsize='medium', frameon=False)\n",
    "plt.show()"
   ]
  },
  {
   "cell_type": "markdown",
   "metadata": {},
   "source": [
    "## Logistic Regression"
   ]
  },
  {
   "cell_type": "code",
   "execution_count": 185,
   "metadata": {
    "collapsed": false,
    "scrolled": true
   },
   "outputs": [
    {
     "data": {
      "image/png": "[encoded data removed]",
      "text/plain": [
       "<matplotlib.figure.Figure at 0x11afcc710>"
      ]
     },
     "metadata": {},
     "output_type": "display_data"
    }
   ],
   "source": [
    "# fit and predict\n",
    "clf = LogisticRegression(C=100)\n",
    "clf.fit(X_train, y_train)\n",
    "probas_ = clf.predict_proba(X_test)\n",
    "y_scores = probas_[:,1]\n",
    "\n",
    "# roc curve\n",
    "fpr, tpr, thresholds = roc_curve(y_test, y_scores)\n",
    "roc_auc = roc_auc_score(y_test, y_scores)\n",
    "plt.plot(fpr, tpr, 'b', label='ROC (area = %0.3f)' % roc_auc)\n",
    "\n",
    "plt.legend(loc='upper left', fontsize='medium', frameon=False)\n",
    "plt.show()"
   ]
  },
  {
   "cell_type": "code",
   "execution_count": 186,
   "metadata": {
    "collapsed": false
   },
   "outputs": [
    {
     "data": {
      "text/plain": [
       "array([[ 0.00665186,  0.06772757]])"
      ]
     },
     "execution_count": 186,
     "metadata": {},
     "output_type": "execute_result"
    }
   ],
   "source": [
    "clf.coef_"
   ]
  },
  {
   "cell_type": "markdown",
   "metadata": {},
   "source": [
    "## Single Decision Tree"
   ]
  },
  {
   "cell_type": "code",
   "execution_count": 144,
   "metadata": {
    "collapsed": false
   },
   "outputs": [
    {
     "data": {
      "image/png": "[encoded data removed]",
      "text/plain": [
       "<matplotlib.figure.Figure at 0x11d624dd0>"
      ]
     },
     "metadata": {},
     "output_type": "display_data"
    }
   ],
   "source": [
    "clf = DecisionTreeClassifier(max_depth=2,\n",
    "                             min_samples_split=400)\n",
    "\n",
    "probas_ = clf.fit(X_train, y_train).predict_proba(X_test)\n",
    "y_scores = probas_[:,1]\n",
    "fpr, tpr, thresholds = roc_curve(y_test, y_scores)\n",
    "roc_auc = roc_auc_score(y_test, y_scores)\n",
    "plt.plot(fpr, tpr, 'b', label='ROC (area = %0.3f)' % roc_auc)\n",
    "\n",
    "plt.legend(loc='upper left', fontsize='medium', frameon=False)\n",
    "plt.show()"
   ]
  },
  {
   "cell_type": "code",
   "execution_count": 145,
   "metadata": {
    "collapsed": true
   },
   "outputs": [
    {
     "ename": "IndexError",
     "evalue": "list index out of range",
     "output_type": "error",
     "traceback": [
      "\u001b[0;31m---------------------------------------------------------------------------\u001b[0m",
      "\u001b[0;31mIndexError\u001b[0m                                Traceback (most recent call last)",
      "\u001b[0;32m<ipython-input-145-d552c2a249cd>\u001b[0m in \u001b[0;36m<module>\u001b[0;34m()\u001b[0m\n\u001b[1;32m      2\u001b[0m     f = tree.export_graphviz(clf, out_file=f, filled=True, rounded=True, \n\u001b[1;32m      3\u001b[0m                              \u001b[0mimpurity\u001b[0m\u001b[0;34m=\u001b[0m\u001b[0mFalse\u001b[0m\u001b[0;34m,\u001b[0m \u001b[0mproportion\u001b[0m\u001b[0;34m=\u001b[0m\u001b[0mTrue\u001b[0m\u001b[0;34m,\u001b[0m\u001b[0;34m\u001b[0m\u001b[0m\n\u001b[0;32m----> 4\u001b[0;31m                              feature_names=['lwe perc','lwe no-clim perc','lwe clim'])\n\u001b[0m\u001b[1;32m      5\u001b[0m \u001b[0;34m\u001b[0m\u001b[0m\n\u001b[1;32m      6\u001b[0m \u001b[0;31m# terminal command to create pdf\u001b[0m\u001b[0;34m\u001b[0m\u001b[0;34m\u001b[0m\u001b[0m\n",
      "\u001b[0;32m/Users/aarontrefler_temp2/anaconda/lib/python2.7/site-packages/sklearn/tree/export.pyc\u001b[0m in \u001b[0;36mexport_graphviz\u001b[0;34m(decision_tree, out_file, max_depth, feature_names, class_names, label, filled, leaves_parallel, impurity, node_ids, proportion, rotate, rounded, special_characters)\u001b[0m\n\u001b[1;32m    401\u001b[0m             \u001b[0mrecurse\u001b[0m\u001b[0;34m(\u001b[0m\u001b[0mdecision_tree\u001b[0m\u001b[0;34m,\u001b[0m \u001b[0;36m0\u001b[0m\u001b[0;34m,\u001b[0m \u001b[0mcriterion\u001b[0m\u001b[0;34m=\u001b[0m\u001b[0;34m\"impurity\"\u001b[0m\u001b[0;34m)\u001b[0m\u001b[0;34m\u001b[0m\u001b[0m\n\u001b[1;32m    402\u001b[0m         \u001b[0;32melse\u001b[0m\u001b[0;34m:\u001b[0m\u001b[0;34m\u001b[0m\u001b[0m\n\u001b[0;32m--> 403\u001b[0;31m             \u001b[0mrecurse\u001b[0m\u001b[0;34m(\u001b[0m\u001b[0mdecision_tree\u001b[0m\u001b[0;34m.\u001b[0m\u001b[0mtree_\u001b[0m\u001b[0;34m,\u001b[0m \u001b[0;36m0\u001b[0m\u001b[0;34m,\u001b[0m \u001b[0mcriterion\u001b[0m\u001b[0;34m=\u001b[0m\u001b[0mdecision_tree\u001b[0m\u001b[0;34m.\u001b[0m\u001b[0mcriterion\u001b[0m\u001b[0;34m)\u001b[0m\u001b[0;34m\u001b[0m\u001b[0m\n\u001b[0m\u001b[1;32m    404\u001b[0m \u001b[0;34m\u001b[0m\u001b[0m\n\u001b[1;32m    405\u001b[0m         \u001b[0;31m# If required, draw leaf nodes at same depth as each other\u001b[0m\u001b[0;34m\u001b[0m\u001b[0;34m\u001b[0m\u001b[0m\n",
      "\u001b[0;32m/Users/aarontrefler_temp2/anaconda/lib/python2.7/site-packages/sklearn/tree/export.pyc\u001b[0m in \u001b[0;36mrecurse\u001b[0;34m(tree, node_id, criterion, parent, depth)\u001b[0m\n\u001b[1;32m    300\u001b[0m             out_file.write('%d [label=%s'\n\u001b[1;32m    301\u001b[0m                            % (node_id,\n\u001b[0;32m--> 302\u001b[0;31m                               node_to_str(tree, node_id, criterion)))\n\u001b[0m\u001b[1;32m    303\u001b[0m \u001b[0;34m\u001b[0m\u001b[0m\n\u001b[1;32m    304\u001b[0m             \u001b[0;32mif\u001b[0m \u001b[0mfilled\u001b[0m\u001b[0;34m:\u001b[0m\u001b[0;34m\u001b[0m\u001b[0m\n",
      "\u001b[0;32m/Users/aarontrefler_temp2/anaconda/lib/python2.7/site-packages/sklearn/tree/export.pyc\u001b[0m in \u001b[0;36mnode_to_str\u001b[0;34m(tree, node_id, criterion)\u001b[0m\n\u001b[1;32m    198\u001b[0m             \u001b[0;31m# Always write node decision criteria, except for leaves\u001b[0m\u001b[0;34m\u001b[0m\u001b[0;34m\u001b[0m\u001b[0m\n\u001b[1;32m    199\u001b[0m             \u001b[0;32mif\u001b[0m \u001b[0mfeature_names\u001b[0m \u001b[0;32mis\u001b[0m \u001b[0;32mnot\u001b[0m \u001b[0mNone\u001b[0m\u001b[0;34m:\u001b[0m\u001b[0;34m\u001b[0m\u001b[0m\n\u001b[0;32m--> 200\u001b[0;31m                 \u001b[0mfeature\u001b[0m \u001b[0;34m=\u001b[0m \u001b[0mfeature_names\u001b[0m\u001b[0;34m[\u001b[0m\u001b[0mtree\u001b[0m\u001b[0;34m.\u001b[0m\u001b[0mfeature\u001b[0m\u001b[0;34m[\u001b[0m\u001b[0mnode_id\u001b[0m\u001b[0;34m]\u001b[0m\u001b[0;34m]\u001b[0m\u001b[0;34m\u001b[0m\u001b[0m\n\u001b[0m\u001b[1;32m    201\u001b[0m             \u001b[0;32melse\u001b[0m\u001b[0;34m:\u001b[0m\u001b[0;34m\u001b[0m\u001b[0m\n\u001b[1;32m    202\u001b[0m                 feature = \"X%s%s%s\" % (characters[1],\n",
      "\u001b[0;31mIndexError\u001b[0m: list index out of range"
     ]
    }
   ],
   "source": [
    "with open(\"tree.dot\", 'w') as f:\n",
    "    f = tree.export_graphviz(clf, out_file=f, filled=True, rounded=True, \n",
    "                             impurity=False, proportion=True,\n",
    "                             feature_names=['lwe perc','lwe no-clim perc','lwe clim'])\n",
    "\n",
    "# terminal command to create pdf\n",
    "# dot -Tpdf tree.dot -o tree.pdf"
   ]
  },
  {
   "cell_type": "markdown",
   "metadata": {},
   "source": [
    "## Random Forest Analysis"
   ]
  },
  {
   "cell_type": "code",
   "execution_count": 146,
   "metadata": {
    "collapsed": true
   },
   "outputs": [],
   "source": [
    "clf = RandomForestClassifier(n_estimators = 100,\n",
    "                             max_depth=2,\n",
    "                             min_samples_split=400)"
   ]
  },
  {
   "cell_type": "code",
   "execution_count": 147,
   "metadata": {
    "collapsed": false
   },
   "outputs": [
    {
     "data": {
      "image/png": "[encoded data removed]",
      "text/plain": [
       "<matplotlib.figure.Figure at 0x11cd0df50>"
      ]
     },
     "metadata": {},
     "output_type": "display_data"
    }
   ],
   "source": [
    "# fit and predict\n",
    "probas_ = clf.fit(X_train, y_train).predict_proba(X_test)\n",
    "y_scores = probas_[:,1]\n",
    "\n",
    "# roc curve\n",
    "fpr, tpr, thresholds = roc_curve(y_test, y_scores)\n",
    "roc_auc = roc_auc_score(y_test, y_scores)\n",
    "plt.plot(fpr, tpr, 'b', label='ROC (area = %0.3f)' % roc_auc)\n",
    "\n",
    "plt.legend(loc='upper left', fontsize='medium', frameon=False)\n",
    "plt.show()"
   ]
  },
  {
   "cell_type": "code",
   "execution_count": 112,
   "metadata": {
    "collapsed": false
   },
   "outputs": [
    {
     "data": {
      "text/plain": [
       "array([[ 78.81578947,  47.89473684,   6.57894737],\n",
       "       [ 92.5       ,  58.94736842,   7.63157895],\n",
       "       [  3.94736842,   6.44736842,   2.36842105],\n",
       "       ..., \n",
       "       [ 65.35087719,  62.71929825,   4.8245614 ],\n",
       "       [ 62.28070175,  68.85964912,   3.50877193],\n",
       "       [ 55.48245614,  77.19298246,   1.31578947]])"
      ]
     },
     "execution_count": 112,
     "metadata": {},
     "output_type": "execute_result"
    }
   ],
   "source": [
    "X_train"
   ]
  },
  {
   "cell_type": "code",
   "execution_count": null,
   "metadata": {
    "collapsed": true
   },
   "outputs": [],
   "source": []
  }
 ],
 "metadata": {
  "kernelspec": {
   "display_name": "Python 2",
   "language": "python",
   "name": "python2"
  },
  "language_info": {
   "codemirror_mode": {
    "name": "ipython",
    "version": 2
   },
   "file_extension": ".py",
   "mimetype": "text/x-python",
   "name": "python",
   "nbconvert_exporter": "python",
   "pygments_lexer": "ipython2",
   "version": "2.7.11"
  }
 },
 "nbformat": 4,
 "nbformat_minor": 0
}
