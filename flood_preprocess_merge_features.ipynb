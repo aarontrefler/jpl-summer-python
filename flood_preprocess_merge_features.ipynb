{
 "cells": [
  {
   "cell_type": "markdown",
   "metadata": {},
   "source": [
    "# Flood  - Merge Features\n",
    "\n",
    "<h3> \n",
    "Aaron Trefler <br/>\n",
    "JPL <br/>\n",
    "Created: 06/22/2016 <br/>\n",
    "</h3>"
   ]
  },
  {
   "cell_type": "markdown",
   "metadata": {},
   "source": [
    "# Setup"
   ]
  },
  {
   "cell_type": "code",
   "execution_count": 1,
   "metadata": {
    "collapsed": false
   },
   "outputs": [],
   "source": [
    "%load_ext autoreload\n",
    "%autoreload 2"
   ]
  },
  {
   "cell_type": "code",
   "execution_count": 2,
   "metadata": {
    "collapsed": false,
    "scrolled": true
   },
   "outputs": [],
   "source": [
    "import datetime as dt\n",
    "import matplotlib.pyplot as plt\n",
    "import numpy as np\n",
    "import pandas as pd\n",
    "import pickle\n",
    "import scipy.io as sio \n",
    "\n",
    "from flood_functions import grace_brick_convert_lowres \n",
    "from IPython.display import display, HTML"
   ]
  },
  {
   "cell_type": "code",
   "execution_count": 3,
   "metadata": {
    "collapsed": false
   },
   "outputs": [
    {
     "name": "stdout",
     "output_type": "stream",
     "text": [
      "Populating the interactive namespace from numpy and matplotlib\n"
     ]
    }
   ],
   "source": [
    "#%matplotlib\n",
    "%pylab inline"
   ]
  },
  {
   "cell_type": "code",
   "execution_count": 4,
   "metadata": {
    "collapsed": true
   },
   "outputs": [],
   "source": [
    "# define directories\n",
    "dir_flood = '../../Raw Data/Flood Observatory/'\n",
    "dir_python_data = '../Data/'\n",
    "dir_grace = '../../Work_Matlab/Data/'\n",
    "dir_figures = '../Figures/'"
   ]
  },
  {
   "cell_type": "markdown",
   "metadata": {},
   "source": [
    "# Load Data"
   ]
  },
  {
   "cell_type": "markdown",
   "metadata": {},
   "source": [
    "## Land Mask"
   ]
  },
  {
   "cell_type": "code",
   "execution_count": 56,
   "metadata": {
    "collapsed": false
   },
   "outputs": [
    {
     "data": {
      "image/png": "[encoded data removed]",
      "text/plain": [
       "<matplotlib.figure.Figure at 0x151bb2390>"
      ]
     },
     "metadata": {},
     "output_type": "display_data"
    }
   ],
   "source": [
    "# lowres land mask\n",
    "f = open(dir_python_data + 'grace_land_mask.p', 'rb')\n",
    "land_mask = pickle.load(f)\n",
    "f.close()\n",
    "\n",
    "land_mask = np.flipud(land_mask.transpose())\n",
    "\n",
    "#plt.imshow(land_mask)\n",
    "plt.imshow(np.transpose(np.flipud(land_mask), axes=[1,0]))\n",
    "plt.show()"
   ]
  },
  {
   "cell_type": "markdown",
   "metadata": {},
   "source": [
    "## GRACE"
   ]
  },
  {
   "cell_type": "code",
   "execution_count": 5,
   "metadata": {
    "collapsed": false
   },
   "outputs": [],
   "source": [
    "# GRACE Matlab files\n",
    "mat_content_1 = sio.loadmat(dir_grace +'grace_features')"
   ]
  },
  {
   "cell_type": "code",
   "execution_count": 6,
   "metadata": {
    "collapsed": false
   },
   "outputs": [
    {
     "name": "stdout",
     "output_type": "stream",
     "text": [
      "lwe (720, 360, 152) double\n",
      "lwe_clim (720, 360, 152) double\n",
      "lwe_clim_norm (720, 360, 152) double\n",
      "lwe_clim_rank (720, 360, 152) double\n",
      "lwe_clim_rank_norm (720, 360, 152) double\n",
      "lwe_dt (720, 360, 152) double\n",
      "lwe_dt_norm (720, 360, 152) double\n",
      "lwe_noClim (720, 360, 152) double\n",
      "lwe_noClim_norm (720, 360, 152) double\n",
      "lwe_noClim_rank (720, 360, 152) double\n",
      "lwe_noClim_rank_norm (720, 360, 152) double\n",
      "lwe_norm (720, 360, 152) double\n",
      "lwe_rank (720, 360, 152) double\n",
      "lwe_rank_norm (720, 360, 152) double\n"
     ]
    }
   ],
   "source": [
    "# GRACE MASCON-CRI data description\n",
    "grace_features = sio.whosmat(dir_grace + 'grace_features')\n",
    "print('\\n'.join('{} {} {}'.format(*element) for element in grace_features))"
   ]
  },
  {
   "cell_type": "code",
   "execution_count": 7,
   "metadata": {
    "collapsed": false
   },
   "outputs": [],
   "source": [
    "# assign grace maps to python objects\n",
    "\n",
    "# continuous\n",
    "grace_lwe = mat_content_1['lwe']\n",
    "grace_lwe_norm = mat_content_1['lwe_norm']\n",
    "grace_lwe_clim = mat_content_1['lwe_clim']\n",
    "grace_lwe_clim_norm = mat_content_1['lwe_clim_norm']\n",
    "grace_lwe_noClim = mat_content_1['lwe_noClim']\n",
    "grace_lwe_noClim_norm = mat_content_1['lwe_noClim_norm']\n",
    "grace_lwe_dt = mat_content_1['lwe_dt']\n",
    "grace_lwe_dt_norm = mat_content_1['lwe_dt_norm']\n",
    "\n",
    "# ranked\n",
    "grace_lwe_rank = mat_content_1['lwe_rank']\n",
    "grace_lwe_rank_norm = mat_content_1['lwe_rank_norm']\n",
    "grace_lwe_clim_rank = mat_content_1['lwe_clim_rank']\n",
    "grace_lwe_clim_rank_norm = mat_content_1['lwe_clim_rank_norm']\n",
    "grace_lwe_noClim_rank = mat_content_1['lwe_noClim_rank']\n",
    "grace_lwe_noClim_rank_norm = mat_content_1['lwe_noClim_rank_norm']"
   ]
  },
  {
   "cell_type": "markdown",
   "metadata": {},
   "source": [
    "## MODIS Land Coverage"
   ]
  },
  {
   "cell_type": "code",
   "execution_count": 8,
   "metadata": {
    "collapsed": true
   },
   "outputs": [],
   "source": [
    "# highres modis land coverage maps\n",
    "f = open(dir_python_data + 'modis_mask_highres_dict.p', 'rb')\n",
    "modis_mask_dict = pickle.load(f)\n",
    "f.close()"
   ]
  },
  {
   "cell_type": "code",
   "execution_count": 9,
   "metadata": {
    "collapsed": true
   },
   "outputs": [],
   "source": [
    "# original highres modis land coverage map (all land types included)\n",
    "f = open(dir_python_data + 'modis_map_original.p', 'rb')\n",
    "modis_map_original = pickle.load(f)\n",
    "f.close()"
   ]
  },
  {
   "cell_type": "markdown",
   "metadata": {},
   "source": [
    "## CMAP Precipitation"
   ]
  },
  {
   "cell_type": "markdown",
   "metadata": {},
   "source": [
    "### Pentad"
   ]
  },
  {
   "cell_type": "code",
   "execution_count": 11,
   "metadata": {
    "collapsed": false
   },
   "outputs": [],
   "source": [
    "# pentad\n",
    "\n",
    "f = open(dir_python_data + 'cmap_pentad_precip_highres_dict.p', 'rb')\n",
    "cmap_pentad_precip_highres_dict = pickle.load(f)\n",
    "f.close()\n",
    "\n",
    "# alter dimension ordering to match GRACE maps\n",
    "cmap_precip_pentad = cmap_pentad_precip_highres_dict['cmap_precip_penta']\n",
    "cmap_precip_pentad = np.transpose(np.flipud(cmap_precip_pentad), axes=[1,0,2])\n",
    "\n",
    "cmap_precip_pentad_norm = cmap_pentad_precip_highres_dict['cmap_precip_penta_norm']\n",
    "cmap_precip_pentad_norm = np.transpose(np.flipud(cmap_precip_pentad_norm), axes=[1,0,2])"
   ]
  },
  {
   "cell_type": "markdown",
   "metadata": {},
   "source": [
    "### Monthly"
   ]
  },
  {
   "cell_type": "code",
   "execution_count": 13,
   "metadata": {
    "collapsed": false
   },
   "outputs": [],
   "source": [
    "# monthly\n",
    "\n",
    "f = open(dir_python_data + 'cmap_monthly_precip_highres_dict.p', 'rb')\n",
    "cmap_monthly_precip_highres_dict = pickle.load(f)\n",
    "f.close()\n",
    "\n",
    "# alter dimension ordering to match GRACE maps\n",
    "cmap_precip_monthly = cmap_monthly_precip_highres_dict['cmap_precip_monthly']\n",
    "cmap_precip_monthly = np.transpose(np.flipud(cmap_precip_monthly), axes=[1,0,2])\n",
    "\n",
    "cmap_precip_monthly_norm = cmap_monthly_precip_highres_dict['cmap_precip_monthly_norm']\n",
    "cmap_precip_monthly_norm = np.transpose(np.flipud(cmap_precip_monthly_norm), axes=[1,0,2])"
   ]
  },
  {
   "cell_type": "code",
   "execution_count": 51,
   "metadata": {
    "collapsed": false
   },
   "outputs": [
    {
     "data": {
      "text/plain": [
       "<matplotlib.image.AxesImage at 0x221954ed0>"
      ]
     },
     "execution_count": 51,
     "metadata": {},
     "output_type": "execute_result"
    },
    {
     "data": {
      "image/png": "[encoded data removed]",
      "text/plain": [
       "<matplotlib.figure.Figure at 0x221170a50>"
      ]
     },
     "metadata": {},
     "output_type": "display_data"
    }
   ],
   "source": [
    "plt.imshow(np.mean(cmap_precip_monthly, axis=2))"
   ]
  },
  {
   "cell_type": "markdown",
   "metadata": {},
   "source": [
    "## Flood Observatory"
   ]
  },
  {
   "cell_type": "code",
   "execution_count": 14,
   "metadata": {
    "collapsed": true
   },
   "outputs": [],
   "source": [
    "# name of preprocessed flood dataframe\n",
    "df_name = 'df_flood_grace_time_location'"
   ]
  },
  {
   "cell_type": "code",
   "execution_count": 15,
   "metadata": {
    "collapsed": false
   },
   "outputs": [
    {
     "data": {
      "text/html": [
       "<div>\n",
       "<table border=\"1\" class=\"dataframe\">\n",
       "  <thead>\n",
       "    <tr style=\"text-align: right;\">\n",
       "      <th></th>\n",
       "      <th>Register #</th>\n",
       "      <th>Began</th>\n",
       "      <th>Date Began</th>\n",
       "      <th>Ended</th>\n",
       "      <th>Duration in Days</th>\n",
       "      <th>Dead</th>\n",
       "      <th>Displaced</th>\n",
       "      <th>Main cause</th>\n",
       "      <th>Severity *</th>\n",
       "      <th>Affected sq km</th>\n",
       "      <th>...</th>\n",
       "      <th>Centroid GRACE Lon</th>\n",
       "      <th>Centroid GRACE Lat</th>\n",
       "      <th>Prior CMAP Precip Diff-Days Monthly</th>\n",
       "      <th>Prior CMAP Precip Index Monthly</th>\n",
       "      <th>Prior CMAP Precip Diff-Days Pentad</th>\n",
       "      <th>Prior CMAP Precip Index Pentad</th>\n",
       "      <th>Prior MASCON Diff-Days</th>\n",
       "      <th>Prior MASCON Index</th>\n",
       "      <th>Post MASCON Diff-Days</th>\n",
       "      <th>Post MASCON Index</th>\n",
       "    </tr>\n",
       "  </thead>\n",
       "  <tbody>\n",
       "    <tr>\n",
       "      <th>0</th>\n",
       "      <td>4256.0</td>\n",
       "      <td>11-May-15</td>\n",
       "      <td>11-May-15</td>\n",
       "      <td>21-May-15</td>\n",
       "      <td>11.0</td>\n",
       "      <td>0.0</td>\n",
       "      <td>1776.0</td>\n",
       "      <td>Torrential Rain</td>\n",
       "      <td>1.0</td>\n",
       "      <td>32595.44</td>\n",
       "      <td>...</td>\n",
       "      <td>147.0</td>\n",
       "      <td>256.0</td>\n",
       "      <td>11.0</td>\n",
       "      <td>157.0</td>\n",
       "      <td>1.0</td>\n",
       "      <td>954.0</td>\n",
       "      <td>14.0</td>\n",
       "      <td>144.0</td>\n",
       "      <td>56.0</td>\n",
       "      <td>145.0</td>\n",
       "    </tr>\n",
       "  </tbody>\n",
       "</table>\n",
       "<p>1 rows × 25 columns</p>\n",
       "</div>"
      ],
      "text/plain": [
       "   Register #      Began Date Began      Ended  Duration in Days  Dead  \\\n",
       "0      4256.0  11-May-15  11-May-15  21-May-15              11.0   0.0   \n",
       "\n",
       "   Displaced       Main cause  Severity *  Affected sq km        ...          \\\n",
       "0     1776.0  Torrential Rain         1.0        32595.44        ...           \n",
       "\n",
       "   Centroid GRACE Lon Centroid GRACE Lat Prior CMAP Precip Diff-Days Monthly  \\\n",
       "0               147.0              256.0                                11.0   \n",
       "\n",
       "   Prior CMAP Precip Index Monthly  Prior CMAP Precip Diff-Days Pentad  \\\n",
       "0                            157.0                                 1.0   \n",
       "\n",
       "   Prior CMAP Precip Index Pentad  Prior MASCON Diff-Days  Prior MASCON Index  \\\n",
       "0                           954.0                    14.0               144.0   \n",
       "\n",
       "   Post MASCON Diff-Days  Post MASCON Index  \n",
       "0                   56.0              145.0  \n",
       "\n",
       "[1 rows x 25 columns]"
      ]
     },
     "execution_count": 15,
     "metadata": {},
     "output_type": "execute_result"
    }
   ],
   "source": [
    "# FO data previously cleaned by FloodObservatory_Preprocess.py\n",
    "df_flood_grace = pd.read_csv(dir_python_data + df_name + '.csv')\n",
    "df_flood_grace = df_flood_grace.drop('Unnamed: 0', axis=1)\n",
    "df_flood_grace.head(1)"
   ]
  },
  {
   "cell_type": "markdown",
   "metadata": {},
   "source": [
    "# Script Variables"
   ]
  },
  {
   "cell_type": "code",
   "execution_count": 16,
   "metadata": {
    "collapsed": true
   },
   "outputs": [],
   "source": [
    "# GRACE\n",
    "dim = grace_lwe.shape\n",
    "d1 = dim[0]\n",
    "d2 = dim[1]\n",
    "tp = dim[2]\n",
    "\n",
    "# FO\n",
    "floods = len(df_flood_grace)"
   ]
  },
  {
   "cell_type": "markdown",
   "metadata": {},
   "source": [
    "# Merge Features"
   ]
  },
  {
   "cell_type": "code",
   "execution_count": 17,
   "metadata": {
    "collapsed": false
   },
   "outputs": [],
   "source": [
    "# merge_grace_feature: Adds a grace (or other) metric as a feature in the flood dataframe\n",
    "#\n",
    "# Parameters:\n",
    "# grace_metric_map: 3D brick with dimensions: [720, 360, time-points]\n",
    "# df_flood_grace: flood dataframe\n",
    "# index: dataframe column name specifying prior index to be sued\n",
    "\n",
    "def merge_grace_feature(grace_metric_map, df_flood_grace, index='Prior MASCON Index'):\n",
    "\n",
    "    # create empty vector \n",
    "    flood_values = np.zeros(df_flood_grace.shape[0])\n",
    "\n",
    "    # extract grace metric\n",
    "    for i in range(df_flood_grace.shape[0]):\n",
    "        lon = int(df_flood_grace['Centroid GRACE Lon'].iloc[i])\n",
    "        lat = int(df_flood_grace['Centroid GRACE Lat'].iloc[i])\n",
    "        \n",
    "        if (pd.notnull(df_flood_grace[index].iloc[i])):\n",
    "            time_ix = int(df_flood_grace[index].iloc[i])\n",
    "\n",
    "            if lon == 720:\n",
    "                lon = 719\n",
    "\n",
    "            flood_values[i] = grace_metric_map[lon, lat,  time_ix]\n",
    "        \n",
    "    # return metric as an array\n",
    "    return flood_values"
   ]
  },
  {
   "cell_type": "markdown",
   "metadata": {},
   "source": [
    "## CMAP Features"
   ]
  },
  {
   "cell_type": "code",
   "execution_count": 38,
   "metadata": {
    "collapsed": false
   },
   "outputs": [],
   "source": [
    "# Add CMAP Precipitation Features\n",
    "\n",
    "df_flood_grace['CMAP precip pentad'] = \\\n",
    "    merge_grace_feature(cmap_precip_pentad, df_flood_grace, 'Prior CMAP Precip Index Pentad')\n",
    "df_flood_grace['CMAP precip pentad norm'] = \\\n",
    "    merge_grace_feature(cmap_precip_pentad_norm, df_flood_grace, 'Prior CMAP Precip Index Pentad')\n",
    "    \n",
    "df_flood_grace['CMAP precip monthly'] = \\\n",
    "    merge_grace_feature(cmap_precip_monthly, df_flood_grace, 'Prior CMAP Precip Index Monthly')\n",
    "df_flood_grace['CMAP precip monthly norm'] = \\\n",
    "    merge_grace_feature(cmap_precip_monthly_norm, df_flood_grace, 'Prior CMAP Precip Index Monthly')"
   ]
  },
  {
   "cell_type": "markdown",
   "metadata": {},
   "source": [
    "## GRACE Features"
   ]
  },
  {
   "cell_type": "code",
   "execution_count": 39,
   "metadata": {
    "collapsed": false,
    "scrolled": true
   },
   "outputs": [],
   "source": [
    "# Add GRACE Features\n",
    "\n",
    "# continuous pre-flood\n",
    "df_flood_grace['GRACE lwe']=merge_grace_feature(grace_lwe,df_flood_grace)\n",
    "df_flood_grace['GRACE lwe norm']=merge_grace_feature(grace_lwe_norm,df_flood_grace)\n",
    "df_flood_grace['GRACE lwe clim']=merge_grace_feature(grace_lwe_clim,df_flood_grace)\n",
    "df_flood_grace['GRACE lwe clim norm']=merge_grace_feature(grace_lwe_clim_norm,df_flood_grace)\n",
    "df_flood_grace['GRACE lwe noClim']=merge_grace_feature(grace_lwe_noClim,df_flood_grace)\n",
    "df_flood_grace['GRACE lwe noClim norm']=merge_grace_feature(grace_lwe_noClim_norm, df_flood_grace)\n",
    "df_flood_grace['GRACE lwe dt']=merge_grace_feature(grace_lwe_dt,df_flood_grace)\n",
    "df_flood_grace['GRACE lwe dt norm']=merge_grace_feature(grace_lwe_dt_norm,df_flood_grace)\n",
    "# continuous post-flood\n",
    "df_flood_grace['GRACE lwe post']=merge_grace_feature(grace_lwe,df_flood_grace,'Post MASCON Index')\n",
    "df_flood_grace['GRACE lwe norm post']=merge_grace_feature(grace_lwe_norm,df_flood_grace,'Post MASCON Index')\n",
    "df_flood_grace['GRACE lwe clim norm post']=merge_grace_feature(grace_lwe_clim_norm,df_flood_grace,'Post MASCON Index')\n",
    "df_flood_grace['GRACE lwe noClim norm post']=merge_grace_feature(grace_lwe_noClim_norm,df_flood_grace,'Post MASCON Index')\n",
    "\n",
    "# ranked pre-flood\n",
    "df_flood_grace['GRACE lwe rank']=merge_grace_feature(grace_lwe_rank,df_flood_grace)\n",
    "df_flood_grace['GRACE lwe rank norm']=merge_grace_feature(grace_lwe_rank_norm,df_flood_grace)\n",
    "df_flood_grace['GRACE lwe clim rank']=merge_grace_feature(grace_lwe_clim_rank,df_flood_grace)\n",
    "df_flood_grace['GRACE lwe clim rank norm']=merge_grace_feature(grace_lwe_clim_rank_norm,df_flood_grace)\n",
    "df_flood_grace['GRACE lwe noClim rank']=merge_grace_feature(grace_lwe_noClim_rank,df_flood_grace)\n",
    "df_flood_grace['GRACE lwe noClim rank norm'] = merge_grace_feature(grace_lwe_noClim_rank_norm,df_flood_grace)\n",
    "# ranked post-flood\n",
    "df_flood_grace['GRACE lwe rank post']=merge_grace_feature(grace_lwe_rank,df_flood_grace,'Post MASCON Index')\n",
    "df_flood_grace['GRACE lwe rank norm post']=merge_grace_feature(grace_lwe_rank_norm,df_flood_grace,'Post MASCON Index')\n",
    "df_flood_grace['GRACE lwe clim rank post']=merge_grace_feature(grace_lwe_clim_rank,df_flood_grace,'Post MASCON Index')\n",
    "df_flood_grace['GRACE lwe clim rank norm post']=merge_grace_feature(grace_lwe_clim_rank_norm,df_flood_grace,'Post MASCON Index')\n",
    "df_flood_grace['GRACE lwe noClim rank post']=merge_grace_feature(grace_lwe_noClim_rank,df_flood_grace,'Post MASCON Index')\n",
    "df_flood_grace['GRACE lwe noClim rank norm post'] = merge_grace_feature(grace_lwe_noClim_rank_norm,df_flood_grace,'Post MASCON Index')"
   ]
  },
  {
   "cell_type": "markdown",
   "metadata": {},
   "source": [
    "## MODIS Land Coverage Features"
   ]
  },
  {
   "cell_type": "markdown",
   "metadata": {},
   "source": [
    "### Individual Land Cover Types"
   ]
  },
  {
   "cell_type": "code",
   "execution_count": 40,
   "metadata": {
    "collapsed": true
   },
   "outputs": [],
   "source": [
    "# merge_modis_feature: Adds a modis land coverage boolean feature to the flood dataframe\n",
    "#\n",
    "# Parameters:\n",
    "# modis_mask: modis mask with dimensions: [720, 360]\n",
    "# df: flood dataframe with prior MASCON index as a feature\n",
    "\n",
    "def merge_modis_feature(modis_mask, df, index='Prior MASCON Index', tp=152):\n",
    "\n",
    "    # alter modis mask to match GRACE raw feature bricks\n",
    "    modis_mask = np.transpose(np.flipud(modis_mask))\n",
    "\n",
    "    # create 3d modis mask\n",
    "    modis_mask = modis_mask[:,:,np.newaxis]\n",
    "    modis_mask_3d = np.tile(modis_mask,(1,1,tp))\n",
    "\n",
    "    # create empty vector \n",
    "    flood_values = np.zeros(df.shape[0])\n",
    "\n",
    "    # extract modis metric\n",
    "    for i in range(df.shape[0]):\n",
    "        lon = int(df['Centroid GRACE Lon'].iloc[i])\n",
    "        lat = int(df['Centroid GRACE Lat'].iloc[i])\n",
    "\n",
    "        if (pd.notnull(df[index].iloc[i])):\n",
    "            time_ix = int(df[index].iloc[i])\n",
    "\n",
    "            if lon == 720:\n",
    "                lon = 719\n",
    "\n",
    "            flood_values[i] = modis_mask_3d[lon, lat, time_ix]\n",
    "    \n",
    "    # replace NaN's with zero's\n",
    "    flood_values[np.isnan(flood_values)] = 0\n",
    "        \n",
    "    # return metric as an array\n",
    "    return flood_values"
   ]
  },
  {
   "cell_type": "code",
   "execution_count": 41,
   "metadata": {
    "collapsed": false
   },
   "outputs": [],
   "source": [
    "# add features as columns to dataframe\n",
    "for key, mask in modis_mask_dict.items():\n",
    "    df_flood_grace[key]=merge_modis_feature(mask,df_flood_grace)"
   ]
  },
  {
   "cell_type": "markdown",
   "metadata": {},
   "source": [
    "### All Land Cover Types"
   ]
  },
  {
   "cell_type": "code",
   "execution_count": 42,
   "metadata": {
    "collapsed": false
   },
   "outputs": [],
   "source": [
    "# add original modis mask values as feature  to dataframe\n",
    "df_flood_grace['modis_all']=merge_modis_feature(modis_map_original,df_flood_grace)\n",
    "\n",
    "# add names to modis_all column\n",
    "df_flood_grace['modis_all_named'] = df_flood_grace['modis_all'].map({\n",
    "     0:'Coastal', 1:'Evergreen Needleleaf Forest', 2:'Evergreen Broadleaf Forest',\n",
    "     3:'Deciduous Needleleaf Forest', 4:'Deciduous Broadleaf Forest',\n",
    "     5:'Mixed Forest', 6:'Closed Shrublands', 7:'Open Shrublands', 8:'Woody Savannas',\n",
    "     9:'Savannas', 10:'Grasslands', 11:'Permanent Wetlands', 12:'Croplands',\n",
    "     13:'Urban and Built-up', 14:'Cropland/Natural Vegetation Mosaic', 15:'Snow and Ice',\n",
    "     16:'Barren or Sparsely Vegetted', 254:'Unclassified', 255:'Fill Value'\n",
    "     })"
   ]
  },
  {
   "cell_type": "markdown",
   "metadata": {},
   "source": [
    "### GRACE Land Cover Types"
   ]
  },
  {
   "cell_type": "code",
   "execution_count": 43,
   "metadata": {
    "collapsed": true
   },
   "outputs": [],
   "source": [
    "# intiate by adding original modis mask values as feature to dataframe\n",
    "df_flood_grace['modis_grace']=merge_modis_feature(modis_map_original,df_flood_grace)\n",
    "\n",
    "# binarize grace land cover types and non-grace land cover types\n",
    "df_flood_grace['modis_grace'] = df_flood_grace['modis_all'].map({\n",
    "     0:'Absorbing Land Cover', 1:'Absorbing Land Cover', 2:'Absorbing Land Cover',\n",
    "     3:'Absorbing Land Cover', 4:'Absorbing Land Cover',\n",
    "     5:'Absorbing Land Cover', 6:'Non-Absorbing Land Cover', 7:'Non-Absorbing Land Cover', \n",
    "     8:'Non-Absorbing Land Cover', 9:'Non-Absorbing Land Cover', 10:'Absorbing Land Cover', \n",
    "     11:'Absorbing Land Cover', 12:'Absorbing Land Cover', 13:'Non-Absorbing Land Cover',\n",
    "     14:'Absorbing Land Cover', 15:'Non-Absorbing Land Cover', 16:'Non-Absorbing Land Cover', \n",
    "     254:'Unclassified', 255:'Fill Value'\n",
    "     })"
   ]
  },
  {
   "cell_type": "markdown",
   "metadata": {},
   "source": [
    "# Remove Non-Mainland Floods"
   ]
  },
  {
   "cell_type": "code",
   "execution_count": 44,
   "metadata": {
    "collapsed": false,
    "scrolled": true
   },
   "outputs": [
    {
     "name": "stdout",
     "output_type": "stream",
     "text": [
      "Floods Outside Land Mask: 108\n"
     ]
    },
    {
     "data": {
      "text/html": [
       "<div>\n",
       "<table border=\"1\" class=\"dataframe\">\n",
       "  <thead>\n",
       "    <tr style=\"text-align: right;\">\n",
       "      <th></th>\n",
       "      <th>Country</th>\n",
       "      <th>Centroid GRACE Lon</th>\n",
       "      <th>Centroid GRACE Lat</th>\n",
       "      <th>Prior MASCON Index</th>\n",
       "    </tr>\n",
       "  </thead>\n",
       "  <tbody>\n",
       "    <tr>\n",
       "      <th>14</th>\n",
       "      <td>Dominican Republic</td>\n",
       "      <td>580.0</td>\n",
       "      <td>219.0</td>\n",
       "      <td>141.0</td>\n",
       "    </tr>\n",
       "    <tr>\n",
       "      <th>28</th>\n",
       "      <td>Spain</td>\n",
       "      <td>687.0</td>\n",
       "      <td>237.0</td>\n",
       "      <td>138.0</td>\n",
       "    </tr>\n",
       "    <tr>\n",
       "      <th>31</th>\n",
       "      <td>Philippines</td>\n",
       "      <td>243.0</td>\n",
       "      <td>209.0</td>\n",
       "      <td>137.0</td>\n",
       "    </tr>\n",
       "    <tr>\n",
       "      <th>54</th>\n",
       "      <td>Solomon Islands</td>\n",
       "      <td>321.0</td>\n",
       "      <td>161.0</td>\n",
       "      <td>132.0</td>\n",
       "    </tr>\n",
       "    <tr>\n",
       "      <th>63</th>\n",
       "      <td>Saint Vincent</td>\n",
       "      <td>598.0</td>\n",
       "      <td>208.0</td>\n",
       "      <td>130.0</td>\n",
       "    </tr>\n",
       "  </tbody>\n",
       "</table>\n",
       "</div>"
      ],
      "text/plain": [
       "               Country  Centroid GRACE Lon  Centroid GRACE Lat  \\\n",
       "14  Dominican Republic               580.0               219.0   \n",
       "28               Spain               687.0               237.0   \n",
       "31         Philippines               243.0               209.0   \n",
       "54     Solomon Islands               321.0               161.0   \n",
       "63       Saint Vincent               598.0               208.0   \n",
       "\n",
       "    Prior MASCON Index  \n",
       "14               141.0  \n",
       "28               138.0  \n",
       "31               137.0  \n",
       "54               132.0  \n",
       "63               130.0  "
      ]
     },
     "metadata": {},
     "output_type": "display_data"
    },
    {
     "name": "stdout",
     "output_type": "stream",
     "text": [
      "Mainland Floods: 1070\n"
     ]
    }
   ],
   "source": [
    "# display floods outside land mask\n",
    "df_flood_grace_ocean = df_flood_grace[pd.isnull(df_flood_grace['GRACE lwe'])]\n",
    "\n",
    "print 'Floods Outside Land Mask:', df_flood_grace_ocean.shape[0]\n",
    "display(df_flood_grace_ocean\\\n",
    "[['Country','Centroid GRACE Lon','Centroid GRACE Lat', 'Prior MASCON Index']].head(5))\n",
    "\n",
    "# remove non-mainland floods from dataframe\n",
    "df_flood_grace_land = df_flood_grace[~pd.isnull(df_flood_grace['GRACE lwe'])]\n",
    "\n",
    "print 'Mainland Floods:', df_flood_grace_land.shape[0]"
   ]
  },
  {
   "cell_type": "markdown",
   "metadata": {},
   "source": [
    "# Create Flood Event Brick"
   ]
  },
  {
   "cell_type": "markdown",
   "metadata": {},
   "source": [
    "### High Resolution"
   ]
  },
  {
   "cell_type": "code",
   "execution_count": 25,
   "metadata": {
    "collapsed": false
   },
   "outputs": [
    {
     "name": "stderr",
     "output_type": "stream",
     "text": [
      "/Users/aarontrefler_temp2/anaconda/lib/python2.7/site-packages/pandas/core/indexing.py:132: SettingWithCopyWarning: \n",
      "A value is trying to be set on a copy of a slice from a DataFrame\n",
      "\n",
      "See the caveats in the documentation: http://pandas.pydata.org/pandas-docs/stable/indexing.html#indexing-view-versus-copy\n",
      "  self._setitem_with_indexer(indexer, value)\n",
      "/Users/aarontrefler_temp2/anaconda/lib/python2.7/site-packages/ipykernel/__main__.py:8: SettingWithCopyWarning: \n",
      "A value is trying to be set on a copy of a slice from a DataFrame\n",
      "\n",
      "See the caveats in the documentation: http://pandas.pydata.org/pandas-docs/stable/indexing.html#indexing-view-versus-copy\n"
     ]
    }
   ],
   "source": [
    "# create highres flood brick\n",
    "flood_event_brick = np.zeros(dim)\n",
    "\n",
    "s_flood_d1 = df_flood_grace_land.loc[:,'Centroid GRACE Lon']\n",
    "s_flood_d2 = df_flood_grace_land.loc[:,'Centroid GRACE Lat']\n",
    "s_flood_tp = df_flood_grace_land.loc[:,'Prior MASCON Index']\n",
    "\n",
    "s_flood_d1.loc[s_flood_d1 == 720] = 719\n",
    "\n",
    "for i in range(len(df_flood_grace_land)):\n",
    "    value_d1 = int(s_flood_d1.iloc[i])\n",
    "    value_d2 = int(s_flood_d2.iloc[i])\n",
    "    value_tp = int(s_flood_tp.iloc[i])  \n",
    "    flood_event_brick[value_d1, value_d2, value_tp] = 1;"
   ]
  },
  {
   "cell_type": "markdown",
   "metadata": {},
   "source": [
    "### Low Resolution"
   ]
  },
  {
   "cell_type": "code",
   "execution_count": 26,
   "metadata": {
    "collapsed": false
   },
   "outputs": [],
   "source": [
    "# create low resolution flood brick (0's and 1's)\n",
    "flood_event_brick_lowres = grace_brick_convert_lowres(flood_event_brick, 6)\n",
    "flood_event_brick_lowres[flood_event_brick_lowres > 0] = 1"
   ]
  },
  {
   "cell_type": "code",
   "execution_count": 27,
   "metadata": {
    "collapsed": true
   },
   "outputs": [],
   "source": [
    "# create binary flood zone map and brick\n",
    "flood_zone = np.nansum(flood_event_brick_lowres,axis=2)\n",
    "flood_zone[flood_zone > 0] = 1\n",
    "flood_zone = flood_zone[:,:,np.newaxis]\n",
    "flood_zone_brick = np.tile(flood_zone,(1,1,152))"
   ]
  },
  {
   "cell_type": "code",
   "execution_count": 28,
   "metadata": {
    "collapsed": true
   },
   "outputs": [],
   "source": [
    "# create label brick (NaNs for non-flood regions)\n",
    "flood_event_brick_lowres[flood_zone_brick==0] = np.nan"
   ]
  },
  {
   "cell_type": "markdown",
   "metadata": {
    "collapsed": true
   },
   "source": [
    "# Save"
   ]
  },
  {
   "cell_type": "code",
   "execution_count": 45,
   "metadata": {
    "collapsed": true
   },
   "outputs": [],
   "source": [
    "df_flood_grace_land.to_csv('../Data/df_flood_grace_time_location_features.csv')"
   ]
  },
  {
   "cell_type": "code",
   "execution_count": null,
   "metadata": {
    "collapsed": true
   },
   "outputs": [],
   "source": [
    "# create dictionary of grace features\n",
    "grace_features_dict = {\n",
    "    'grace_lwe':grace_lwe,\n",
    "    'grace_lwe_norm':grace_lwe_norm,\n",
    "    'grace_lwe_clim':grace_lwe_clim,\n",
    "    'grace_lwe_clim_norm':grace_lwe_clim_norm,\n",
    "    'grace_lwe_noClim':grace_lwe_noClim,\n",
    "    'grace_lwe_noClim_norm':grace_lwe_noClim_norm,\n",
    "    'grace_lwe_dt':grace_lwe_dt,\n",
    "    'grace_lwe_dt_norm':grace_lwe_dt_norm,\n",
    "    'grace_lwe_rank':grace_lwe_rank,\n",
    "    'grace_lwe_rank_norm':grace_lwe_rank_norm,\n",
    "    'grace_lwe_clim_rank':grace_lwe_clim_rank,\n",
    "    'grace_lwe_clim_rank_norm':grace_lwe_clim_rank_norm,\n",
    "    'grace_lwe_noClim_rank':grace_lwe_noClim_rank,\n",
    "    'grace_lwe_noClim_rank_norm':grace_lwe_noClim_rank_norm\n",
    "}"
   ]
  },
  {
   "cell_type": "code",
   "execution_count": null,
   "metadata": {
    "collapsed": true
   },
   "outputs": [],
   "source": [
    "# pickle grace features\n",
    "f = open(dir_python_data + 'grace_features.p', 'wb') \n",
    "pickle.dump(grace_features_dict,f, -1)\n",
    "f.close()"
   ]
  },
  {
   "cell_type": "code",
   "execution_count": null,
   "metadata": {
    "collapsed": true
   },
   "outputs": [],
   "source": [
    "# pickle flood event brick\n",
    "\n",
    "# high resolution\n",
    "f = open(dir_python_data + 'flood_event_brick.p', 'wb') \n",
    "pickle.dump([flood_event_brick],\n",
    "    f, -1)\n",
    "f.close()\n",
    "\n",
    "# low resolution\n",
    "f = open(dir_python_data + 'flood_event_brick_lowres.p', 'wb') \n",
    "pickle.dump([flood_event_brick_lowres],\n",
    "    f, -1)\n",
    "f.close()"
   ]
  },
  {
   "cell_type": "markdown",
   "metadata": {
    "collapsed": true
   },
   "source": [
    "# Create Subsets of Flood Events"
   ]
  },
  {
   "cell_type": "markdown",
   "metadata": {},
   "source": [
    "### Low Climatology"
   ]
  },
  {
   "cell_type": "code",
   "execution_count": null,
   "metadata": {
    "collapsed": false
   },
   "outputs": [],
   "source": [
    "df_flood_subset_clim_rank_low = df_flood_grace_land[df_flood_grace_land['GRACE lwe clim rank'] == 1]\n",
    "df_flood_subset_clim_rank_low.to_csv('../Data/df_flood_subset_clim_rank_low.csv')"
   ]
  },
  {
   "cell_type": "code",
   "execution_count": null,
   "metadata": {
    "collapsed": true
   },
   "outputs": [],
   "source": []
  }
 ],
 "metadata": {
  "kernelspec": {
   "display_name": "Python 2",
   "language": "python",
   "name": "python2"
  },
  "language_info": {
   "codemirror_mode": {
    "name": "ipython",
    "version": 2
   },
   "file_extension": ".py",
   "mimetype": "text/x-python",
   "name": "python",
   "nbconvert_exporter": "python",
   "pygments_lexer": "ipython2",
   "version": "2.7.11"
  }
 },
 "nbformat": 4,
 "nbformat_minor": 0
}
